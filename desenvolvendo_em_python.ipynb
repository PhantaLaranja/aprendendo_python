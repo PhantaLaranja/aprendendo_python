{
 "cells": [
  {
   "cell_type": "markdown",
   "id": "7ce3da54",
   "metadata": {},
   "source": [
    "Operadores em Python"
   ]
  },
  {
   "cell_type": "code",
   "execution_count": 6,
   "id": "0da75f14",
   "metadata": {},
   "outputs": [
    {
     "data": {
      "text/plain": [
       "2"
      ]
     },
     "execution_count": 6,
     "metadata": {},
     "output_type": "execute_result"
    }
   ],
   "source": [
    "5-3"
   ]
  },
  {
   "cell_type": "code",
   "execution_count": 7,
   "id": "ddc41124",
   "metadata": {},
   "outputs": [
    {
     "data": {
      "text/plain": [
       "15"
      ]
     },
     "execution_count": 7,
     "metadata": {},
     "output_type": "execute_result"
    }
   ],
   "source": [
    "5*3"
   ]
  },
  {
   "cell_type": "code",
   "execution_count": 8,
   "id": "b3405a4e",
   "metadata": {},
   "outputs": [
    {
     "data": {
      "text/plain": [
       "1.6666666666666667"
      ]
     },
     "execution_count": 8,
     "metadata": {},
     "output_type": "execute_result"
    }
   ],
   "source": [
    "5/3"
   ]
  },
  {
   "cell_type": "code",
   "execution_count": 9,
   "id": "c928a343",
   "metadata": {},
   "outputs": [
    {
     "data": {
      "text/plain": [
       "1"
      ]
     },
     "execution_count": 9,
     "metadata": {},
     "output_type": "execute_result"
    }
   ],
   "source": [
    "5//3 #consegue a parte inteira"
   ]
  },
  {
   "cell_type": "code",
   "execution_count": 10,
   "id": "a7802a14",
   "metadata": {},
   "outputs": [
    {
     "data": {
      "text/plain": [
       "2"
      ]
     },
     "execution_count": 10,
     "metadata": {},
     "output_type": "execute_result"
    }
   ],
   "source": [
    "\n",
    "5%3 #módulo para conseguir o resto da divisão"
   ]
  },
  {
   "cell_type": "code",
   "execution_count": 11,
   "id": "2289b9f8",
   "metadata": {},
   "outputs": [
    {
     "data": {
      "text/plain": [
       "125"
      ]
     },
     "execution_count": 11,
     "metadata": {},
     "output_type": "execute_result"
    }
   ],
   "source": [
    "5**3 #potência"
   ]
  },
  {
   "cell_type": "code",
   "execution_count": 32,
   "id": "1668e30e",
   "metadata": {},
   "outputs": [
    {
     "name": "stdout",
     "output_type": "stream",
     "text": [
      "10\n",
      "10\n"
     ]
    }
   ],
   "source": [
    "#use esse símbolo para digitar pra comentar\n",
    "\n",
    "num1 = 2\n",
    "num2 = 8\n",
    "num2 = num2 + num1\n",
    "\n",
    "print(num2)\n",
    "\n",
    "numero1 = 2\n",
    "numero2 = 8\n",
    "numero2 += numero1\n",
    "\n",
    "print(numero2)\n",
    "\n",
    "\n",
    "#pode-se usar +=,-=,*=,**=,/=,//=,%= e etc"
   ]
  },
  {
   "cell_type": "code",
   "execution_count": null,
   "id": "a73a7020",
   "metadata": {},
   "outputs": [],
   "source": [
    "print(1 == 1)\n",
    "\n",
    "print(1 != 1)"
   ]
  },
  {
   "cell_type": "code",
   "execution_count": null,
   "id": "f057092c",
   "metadata": {},
   "outputs": [],
   "source": [
    "p = True\n",
    "q = False\n",
    "\n",
    "print(p and q)"
   ]
  },
  {
   "cell_type": "code",
   "execution_count": null,
   "id": "cc8fa759",
   "metadata": {},
   "outputs": [],
   "source": [
    "p = True\n",
    "q = False\n",
    "\n",
    "print(p or q)"
   ]
  },
  {
   "cell_type": "code",
   "execution_count": null,
   "id": "163e0285",
   "metadata": {},
   "outputs": [],
   "source": [
    "p = True\n",
    "q = False\n",
    "\n",
    "print(p and q or p and q)\n",
    "False\n",
    "name = input(\"Digite seu nome aqui: \")\n",
    "\n",
    "print(name)\n",
    "\n",
    "#por padrão aceita entrada de dados do tipo String"
   ]
  },
  {
   "cell_type": "code",
   "execution_count": null,
   "id": "0124ad39",
   "metadata": {},
   "outputs": [],
   "source": [
    "numero = int(input(\"Digite um número aqui: \"))\n",
    "\n",
    "print(numero)\n",
    "\n",
    "#aceita apenas entrada de um número do tipo inteiro"
   ]
  },
  {
   "cell_type": "code",
   "execution_count": 36,
   "id": "51b7d329",
   "metadata": {},
   "outputs": [
    {
     "data": {
      "text/plain": [
       "str"
      ]
     },
     "execution_count": 36,
     "metadata": {},
     "output_type": "execute_result"
    }
   ],
   "source": [
    "numero = 10\n",
    "nome = \"Erbert Richards\"\n",
    "numeroQuebrado = 10.00 \n",
    "\n",
    "type(nome)\n",
    "\n",
    "#verifica o tipo de dado"
   ]
  },
  {
   "cell_type": "code",
   "execution_count": null,
   "id": "781d79d2",
   "metadata": {},
   "outputs": [],
   "source": [
    "name = input(\"Digite seu nome: \")\n",
    "\n",
    "print(\"Bem-vindo, \" + name + \" como vai você?\")\n",
    "print(\"Bem-vindo,\", name, \" como vai você?\")\n",
    "print(f\"Bem-vindo, {name} como vai você\")"
   ]
  },
  {
   "cell_type": "code",
   "execution_count": 13,
   "id": "db1bafbf",
   "metadata": {},
   "outputs": [
    {
     "name": "stdout",
     "output_type": "stream",
     "text": [
      "\n",
      "            Coloque algum texto\n",
      "            aqui e será automaticamente\n",
      "            quebrado para a próxima\n",
      "            linha, luiggi\n",
      "            \n"
     ]
    }
   ],
   "source": [
    "textBlock = f\"\"\"\n",
    "            Coloque algum texto\n",
    "            aqui e será automaticamente\n",
    "            quebrado para a próxima\n",
    "            linha, {name}\n",
    "            \"\"\"\n",
    "\n",
    "print(textBlock)"
   ]
  },
  {
   "cell_type": "code",
   "execution_count": null,
   "id": "c1a70178",
   "metadata": {},
   "outputs": [
    {
     "name": "stdout",
     "output_type": "stream",
     "text": [
      "Me doa um pouco de dinheiro aí luiggi!\n"
     ]
    }
   ],
   "source": [
    "dinheiro = float(input(\"Digite o quanto de dinheiro você tem: \"))\n",
    "\n",
    "if (dinheiro == 100):\n",
    "    print(f\"Humm... Legal.\")\n",
    "elif (dinheiro < 100):\n",
    "    print(f\"Você é muito pobre, {name}, não vai dar pra eu te pedir emprestado.\")\n",
    "else: \n",
    "    print(f\"Me doa um pouco de dinheiro aí {name}!\")"
   ]
  },
  {
   "cell_type": "code",
   "execution_count": null,
   "id": "cd2ad3bd",
   "metadata": {},
   "outputs": [],
   "source": []
  },
  {
   "cell_type": "code",
   "execution_count": null,
   "id": "fbaae2cb",
   "metadata": {},
   "outputs": [],
   "source": []
  }
 ],
 "metadata": {
  "kernelspec": {
   "display_name": "Python 3",
   "language": "python",
   "name": "python3"
  },
  "language_info": {
   "codemirror_mode": {
    "name": "ipython",
    "version": 3
   },
   "file_extension": ".py",
   "mimetype": "text/x-python",
   "name": "python",
   "nbconvert_exporter": "python",
   "pygments_lexer": "ipython3",
   "version": "3.12.3"
  }
 },
 "nbformat": 4,
 "nbformat_minor": 5
}
