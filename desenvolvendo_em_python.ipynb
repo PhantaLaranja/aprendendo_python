{
 "cells": [
  {
   "cell_type": "markdown",
   "id": "7ce3da54",
   "metadata": {},
   "source": [
    "Operadores em Python"
   ]
  },
  {
   "cell_type": "code",
   "execution_count": 6,
   "id": "0da75f14",
   "metadata": {},
   "outputs": [
    {
     "data": {
      "text/plain": [
       "2"
      ]
     },
     "execution_count": 6,
     "metadata": {},
     "output_type": "execute_result"
    }
   ],
   "source": [
    "5-3"
   ]
  },
  {
   "cell_type": "code",
   "execution_count": 7,
   "id": "ddc41124",
   "metadata": {},
   "outputs": [
    {
     "data": {
      "text/plain": [
       "15"
      ]
     },
     "execution_count": 7,
     "metadata": {},
     "output_type": "execute_result"
    }
   ],
   "source": [
    "5*3"
   ]
  },
  {
   "cell_type": "code",
   "execution_count": 8,
   "id": "b3405a4e",
   "metadata": {},
   "outputs": [
    {
     "data": {
      "text/plain": [
       "1.6666666666666667"
      ]
     },
     "execution_count": 8,
     "metadata": {},
     "output_type": "execute_result"
    }
   ],
   "source": [
    "5/3"
   ]
  },
  {
   "cell_type": "code",
   "execution_count": 9,
   "id": "c928a343",
   "metadata": {},
   "outputs": [
    {
     "data": {
      "text/plain": [
       "1"
      ]
     },
     "execution_count": 9,
     "metadata": {},
     "output_type": "execute_result"
    }
   ],
   "source": [
    "5//3 #consegue a parte inteira"
   ]
  },
  {
   "cell_type": "code",
   "execution_count": 10,
   "id": "a7802a14",
   "metadata": {},
   "outputs": [
    {
     "data": {
      "text/plain": [
       "2"
      ]
     },
     "execution_count": 10,
     "metadata": {},
     "output_type": "execute_result"
    }
   ],
   "source": [
    "\n",
    "5%3 #módulo para conseguir o resto da divisão"
   ]
  },
  {
   "cell_type": "code",
   "execution_count": 11,
   "id": "2289b9f8",
   "metadata": {},
   "outputs": [
    {
     "data": {
      "text/plain": [
       "125"
      ]
     },
     "execution_count": 11,
     "metadata": {},
     "output_type": "execute_result"
    }
   ],
   "source": [
    "5**3 #potência"
   ]
  },
  {
   "cell_type": "code",
   "execution_count": 32,
   "id": "1668e30e",
   "metadata": {},
   "outputs": [
    {
     "name": "stdout",
     "output_type": "stream",
     "text": [
      "10\n",
      "10\n"
     ]
    }
   ],
   "source": [
    "#use esse símbolo para digitar pra comentar\n",
    "\n",
    "num1 = 2\n",
    "num2 = 8\n",
    "num2 = num2 + num1\n",
    "\n",
    "print(num2)\n",
    "\n",
    "numero1 = 2\n",
    "numero2 = 8\n",
    "numero2 += numero1\n",
    "\n",
    "print(numero2)\n",
    "\n",
    "\n",
    "#pode-se usar +=,-=,*=,**=,/=,//=,%= e etc"
   ]
  },
  {
   "cell_type": "code",
   "execution_count": null,
   "id": "a73a7020",
   "metadata": {},
   "outputs": [],
   "source": [
    "print(1 == 1)\n",
    "\n",
    "print(1 != 1)"
   ]
  },
  {
   "cell_type": "code",
   "execution_count": null,
   "id": "f057092c",
   "metadata": {},
   "outputs": [],
   "source": [
    "p = True\n",
    "q = False\n",
    "\n",
    "print(p and q)"
   ]
  },
  {
   "cell_type": "code",
   "execution_count": null,
   "id": "cc8fa759",
   "metadata": {},
   "outputs": [],
   "source": [
    "p = True\n",
    "q = False\n",
    "\n",
    "print(p or q)"
   ]
  },
  {
   "cell_type": "code",
   "execution_count": null,
   "id": "163e0285",
   "metadata": {},
   "outputs": [
    {
     "name": "stdout",
     "output_type": "stream",
     "text": [
      "False\n",
      "luiggi\n"
     ]
    }
   ],
   "source": [
    "p = True\n",
    "q = False\n",
    "\n",
    "print(not(p and q or p and q)) #pra colocar em negação, basta not()\n",
    "False\n",
    "name = input(\"Digite seu nome aqui: \")\n",
    "\n",
    "print(name)\n",
    "\n",
    "#por padrão aceita entrada de dados do tipo String"
   ]
  },
  {
   "cell_type": "code",
   "execution_count": null,
   "id": "0124ad39",
   "metadata": {},
   "outputs": [],
   "source": [
    "numero = int(input(\"Digite um número aqui: \"))\n",
    "\n",
    "print(numero)\n",
    "\n",
    "#aceita apenas entrada de um número do tipo inteiro"
   ]
  },
  {
   "cell_type": "code",
   "execution_count": 36,
   "id": "51b7d329",
   "metadata": {},
   "outputs": [
    {
     "data": {
      "text/plain": [
       "str"
      ]
     },
     "execution_count": 36,
     "metadata": {},
     "output_type": "execute_result"
    }
   ],
   "source": [
    "numero = 10\n",
    "nome = \"Erbert Richards\"\n",
    "numeroQuebrado = 10.00 \n",
    "\n",
    "type(nome)\n",
    "\n",
    "#verifica o tipo de dado"
   ]
  },
  {
   "cell_type": "code",
   "execution_count": null,
   "id": "781d79d2",
   "metadata": {},
   "outputs": [],
   "source": [
    "name = input(\"Digite seu nome: \")\n",
    "\n",
    "print(\"Bem-vindo, \" + name + \" como vai você?\")\n",
    "print(\"Bem-vindo,\", name, \" como vai você?\")\n",
    "print(f\"Bem-vindo, {name} como vai você\")"
   ]
  },
  {
   "cell_type": "code",
   "execution_count": 13,
   "id": "db1bafbf",
   "metadata": {},
   "outputs": [
    {
     "name": "stdout",
     "output_type": "stream",
     "text": [
      "\n",
      "            Coloque algum texto\n",
      "            aqui e será automaticamente\n",
      "            quebrado para a próxima\n",
      "            linha, luiggi\n",
      "            \n"
     ]
    }
   ],
   "source": [
    "textBlock = f\"\"\"\n",
    "            Coloque algum texto\n",
    "            aqui e será automaticamente\n",
    "            quebrado para a próxima\n",
    "            linha, {name}\n",
    "            \"\"\"\n",
    "\n",
    "print(textBlock)"
   ]
  },
  {
   "cell_type": "code",
   "execution_count": null,
   "id": "c1a70178",
   "metadata": {},
   "outputs": [
    {
     "name": "stdout",
     "output_type": "stream",
     "text": [
      "Me doa um pouco de dinheiro aí luiggi!\n"
     ]
    }
   ],
   "source": [
    "dinheiro = float(input(\"Digite o quanto de dinheiro você tem: \"))\n",
    "\n",
    "if (dinheiro == 100):\n",
    "    print(f\"Humm... Legal.\")\n",
    "elif (dinheiro < 100):\n",
    "    print(f\"Você é muito pobre, {name}, não vai dar pra eu te pedir emprestado.\")\n",
    "else: \n",
    "    print(f\"Me doa um pouco de dinheiro aí {name}!\")"
   ]
  },
  {
   "cell_type": "markdown",
   "id": "6d327aee",
   "metadata": {},
   "source": [
    "LISTA DE EXERCÍCIOS - Estruturas Condicionais"
   ]
  },
  {
   "cell_type": "code",
   "execution_count": null,
   "id": "cd2ad3bd",
   "metadata": {},
   "outputs": [
    {
     "name": "stdout",
     "output_type": "stream",
     "text": [
      "O número digitado é igual a 0.\n"
     ]
    }
   ],
   "source": [
    "#EXERCÍCIO 1: Leia um número e diga se ele é positivo, negativo ou zero.\n",
    "\n",
    "numero = int(input(\"Digite um número qualquer: \"));\n",
    "\n",
    "if numero > 0:\n",
    "    print(f\"O número {numero} é maior que 0. Portanto, ele é positivo.\");\n",
    "elif numero < 0:\n",
    "    print(f\"O número {numero} é menor que 0. Portanto, ele é negativo.\");\n",
    "else: \n",
    "    print(f\"O número digitado é igual a 0.\");"
   ]
  },
  {
   "cell_type": "code",
   "execution_count": null,
   "id": "671baa5f",
   "metadata": {},
   "outputs": [
    {
     "name": "stdout",
     "output_type": "stream",
     "text": [
      "Ambos são iguais\n"
     ]
    }
   ],
   "source": [
    "#EXERCÍCIO 2: Leia dois números e imprima o maior deles.\n",
    "\n",
    "numero1 = int(input(\"Digite o primeiro número: \"));\n",
    "numero2 = int(input(\"Digite o segundo número: \"));\n",
    "\n",
    "if numero1 > numero2:\n",
    "    print(f\"O número {numero1} é maior que o número {numero2}.\");\n",
    "elif numero1 < numero2:\n",
    "    print(f\"O número {numero1} é menor que o número {numero2}.\");\n",
    "else: \n",
    "    print(f\"Ambos são iguais\");"
   ]
  },
  {
   "cell_type": "code",
   "execution_count": null,
   "id": "ebb65345",
   "metadata": {},
   "outputs": [
    {
     "name": "stdout",
     "output_type": "stream",
     "text": [
      "primeiro número: 1, segundo número: 1, terceiro número: 1\n",
      "Todos os números são iguais\n"
     ]
    }
   ],
   "source": [
    "#EXERCÍCIO 3: Leia três números e imprima o maior deles.\n",
    "\n",
    "numero1 = int(input(\"Digite o primeiro número: \"))\n",
    "numero2 = int(input(\"Digite o segundo número: \"))\n",
    "numero3 = int(input(\"Digite o terceiro número: \"))\n",
    "\n",
    "print(f\"primeiro número: {numero1}, segundo número: {numero2}, terceiro número: {numero3}\")\n",
    "\n",
    "if numero1 > numero2 and numero1 > numero3:\n",
    "    print(f\"O número {numero1} é o maior de todos.\")\n",
    "elif numero2 > numero1 and numero2 > numero3:\n",
    "    print(f\"O número {numero2} é o maior de todos.\") \n",
    "elif numero3 > numero1 and numero3 > numero2:\n",
    "    print(f\"O número {numero3} é o maior de todos.\")\n",
    "elif numero1 == numero2 and numero1 > numero3:\n",
    "    print(f\"O número {numero1} é maior que o número {numero3}\")\n",
    "elif numero1 == numero3 and numero1 > numero2:\n",
    "    print(f\"O número {numero1} é maior que o número {numero2}\")\n",
    "elif numero2 == numero3 and numero2 > numero1:\n",
    "    print(f\"O número {numero2} é maior que o número {numero1}\")\n",
    "else:\n",
    "    print(\"Todos os números são iguais\")"
   ]
  },
  {
   "cell_type": "code",
   "execution_count": null,
   "id": "c6144cc3",
   "metadata": {},
   "outputs": [
    {
     "name": "stdout",
     "output_type": "stream",
     "text": [
      "Primeiro número: 12, segundo número: 1231\n",
      "O número 12 é diferente de 1231\n"
     ]
    }
   ],
   "source": [
    "#EXERCÍCIO 4: Leia dois números e diga se eles são iguais ou diferentes.\n",
    " \n",
    "number1 = int(input(\"Digite um número: \"))\n",
    "number2 = int(input(\"Digite um segundo número: \"))\n",
    "\n",
    "print(f\"Primeiro número: {number1}, segundo número: {number2}\")\n",
    "\n",
    "if number1 != number2:\n",
    "    print(f\"O número {number1} é diferente de {number2}\")\n",
    "else:\n",
    "    print(\"Ambos números são iguais\")"
   ]
  },
  {
   "cell_type": "code",
   "execution_count": null,
   "id": "9448b2b7",
   "metadata": {},
   "outputs": [
    {
     "name": "stdout",
     "output_type": "stream",
     "text": [
      "\n",
      "Acesso negado.\n",
      "Não permitimos\n",
      "menores de 18 anos...\n",
      "\n"
     ]
    }
   ],
   "source": [
    "#EXERCÍCIO 5: Leia a idade de uma pessoa e informe se ela é maior de idade (18 anos\n",
    "#ou mais).\n",
    "\n",
    "idade = int(input(\"Por gentileza, digite sua idade: \"))\n",
    "\n",
    "acessoPermitido = \"\"\"\n",
    "Acesso permitido.\n",
    "Seja bem-vindo(a)\n",
    "ao nosso site!\n",
    "\"\"\"\n",
    "acessoNegado = \"\"\"\n",
    "Acesso negado.\n",
    "Não permitimos\n",
    "menores de 18 anos...\n",
    "\"\"\"\n",
    "\n",
    "if idade >= 18:\n",
    "    print(acessoPermitido)\n",
    "else:\n",
    "    print(acessoNegado)"
   ]
  },
  {
   "cell_type": "code",
   "execution_count": null,
   "id": "32d0d20c",
   "metadata": {},
   "outputs": [
    {
     "name": "stdout",
     "output_type": "stream",
     "text": [
      "primeiro número: 14, segundo número: 11, terceiro número: 20\n",
      "Em ordem crescente, temos: 11, 14, 20.\n"
     ]
    }
   ],
   "source": [
    "#EXERCÍCIO 6: Leia três números e imprima-os em ordem crescente.\n",
    "\n",
    "numero1 = int(input(\"Digite o primeiro número: \"))\n",
    "numero2 = int(input(\"Digite o segundo número: \"))\n",
    "numero3 = int(input(\"Digite o terceiro número: \"))\n",
    "\n",
    "print(f\"primeiro número: {numero1}, segundo número: {numero2}, terceiro número: {numero3}\")\n",
    "\n",
    "if numero1 > numero2 and numero1 > numero3:\n",
    "    if numero2 > numero3:\n",
    "        print(f\"Em ordem crescente, temos: {numero3}, {numero2}, {numero1}.\")\n",
    "    else: \n",
    "        print(f\"Em ordem crescente, temos: {numero2}, {numero3}, {numero1}.\")\n",
    "\n",
    "elif numero2 > numero1 and numero2 > numero3:\n",
    "    if numero1 > numero3:\n",
    "        print(f\"Em ordem crescente, temos: {numero3}, {numero1}, {numero2}.\")\n",
    "    else: \n",
    "        print(f\"Em ordem crescente, temos: {numero1}, {numero3}, {numero2}.\")\n",
    "\n",
    "elif numero3 > numero1 and numero3 > numero2:\n",
    "    if numero1 > numero2:\n",
    "        print(f\"Em ordem crescente, temos: {numero2}, {numero1}, {numero3}.\")\n",
    "    else: \n",
    "        print(f\"Em ordem crescente, temos: {numero1}, {numero2}, {numero3}.\") \n",
    "\n",
    "else:\n",
    "    print(f\"Todos o números são iguais. Por tanto, temos na lista apenas: {numero1}\")"
   ]
  },
  {
   "cell_type": "code",
   "execution_count": null,
   "id": "5d3f213b",
   "metadata": {},
   "outputs": [
    {
     "name": "stdout",
     "output_type": "stream",
     "text": [
      "O número é ímpar\n"
     ]
    }
   ],
   "source": [
    "#EXERCÍCIO 7: Leia um número e diga se ele é par ou ímpar.\n",
    "\n",
    "numero = int(input(\"Digite o primeiro número: \"))\n",
    "\n",
    "resto = numero % 2\n",
    "\n",
    "if resto == 0:\n",
    "    print(\"O número é par.\")\n",
    "else:\n",
    "    print(\"O número é ímpar\")"
   ]
  },
  {
   "cell_type": "code",
   "execution_count": null,
   "id": "22938db4",
   "metadata": {},
   "outputs": [
    {
     "name": "stdout",
     "output_type": "stream",
     "text": [
      "Aluno não aprovado!\n"
     ]
    }
   ],
   "source": [
    "#EXERCÍCIO 8: Leia a nota de um aluno (0 a 10) e informe se ele está aprovado (nota\n",
    "#>= 6).\n",
    "\n",
    "notaAluno = float(input(\"Digite a nota de um aluno de 0 a 10: \"))\n",
    "\n",
    "if notaAluno >= 6:\n",
    "    print(\"Aluno aprovado!\")\n",
    "else:\n",
    "    print('Aluno não aprovado!')"
   ]
  },
  {
   "cell_type": "code",
   "execution_count": null,
   "id": "3de04c2c",
   "metadata": {},
   "outputs": [
    {
     "name": "stdout",
     "output_type": "stream",
     "text": [
      "O seu peso ideal é 669.0\n"
     ]
    }
   ],
   "source": [
    "#EXERCÍCIO 9: Leia a altura e o sexo de uma pessoa e calcule seu peso ideal.\n",
    "\n",
    "#quando for comparar strings, usar o método upper() para converter tudo para o caixa-alta ou lower() para o caixa-baixa,\n",
    "#ou poderia colocar em print(sexo.lower())\n",
    "\n",
    "altura = float(input(\"Por favor, digite sua altura: \"))\n",
    "sexo = input(\"Digite seu sexo de nascimento: \").lower()\n",
    "\n",
    "if sexo == 'homem':\n",
    "    pesoIdeal = (72.7 * altura) - 58\n",
    "    print(f\"O seu peso ideal é {pesoIdeal}\")\n",
    "else: \n",
    "    pesoIdeal = (62.1 * altura) - 44.7\n",
    "    print(f\"O seu peso ideal é {pesoIdeal}\")\n"
   ]
  },
  {
   "cell_type": "code",
   "execution_count": null,
   "id": "32b43e96",
   "metadata": {},
   "outputs": [
    {
     "name": "stdout",
     "output_type": "stream",
     "text": [
      "O número 4 é menor que 312\n"
     ]
    }
   ],
   "source": [
    "#EXERCÍCIO 10: Leia dois valores e informe qual é o menor.\n",
    "\n",
    "num1 = int(input(\"Digite um número inteiro: \"))\n",
    "num2 = int(input(\"Digite um outro número inteiro: \"))\n",
    "\n",
    "if num1 < num2:\n",
    "    print(f\"O número {num1} é menor que {num2}\")\n",
    "else: \n",
    "    print(f\"O número {num2} é menor que {num1}\")"
   ]
  },
  {
   "cell_type": "code",
   "execution_count": null,
   "id": "9b8a86d9",
   "metadata": {},
   "outputs": [
    {
     "name": "stdout",
     "output_type": "stream",
     "text": [
      "Não forma um triângulo\n"
     ]
    }
   ],
   "source": [
    "#EXERCÍCIO 11: Leia três lados e determine se formam um triângulo.\n",
    "\n",
    "ladoA = float(input(\"Digite um tamanho para o lado A: \"))\n",
    "ladoB = float(input(\"Digite um tamanho para o lado B: \"))\n",
    "ladoC = float(input(\"Digite um tamanho para o lado C: \"))\n",
    "\n",
    "mensagem1 = 'Forma um triângulo!'\n",
    "mensagem2 = 'Não forma um triângulo!'\n",
    "\n",
    "if (ladoA + ladoB > ladoC) and (ladoA + ladoB > ladoC) and (ladoB + ladoC > ladoA):\n",
    "    print(\"Forma um triângulo!\")\n",
    "else:\n",
    "    print(\"Não forma um triângulo!\")    \n",
    " \n"
   ]
  },
  {
   "cell_type": "code",
   "execution_count": null,
   "id": "ecfd3496",
   "metadata": {},
   "outputs": [
    {
     "name": "stdout",
     "output_type": "stream",
     "text": [
      "Seu salário ganhou um aumento de 10%. Agora você ganhará 1100.5500000000002\n"
     ]
    }
   ],
   "source": [
    "#EXERCÍCIO 12: Leia o salário de um funcionário e aplique:\n",
    "\n",
    "salario = float(input(\"Digite o seu salário aqui: \"))\n",
    "\n",
    "if 0 < salario < 1501:\n",
    "    salario *= 1.1\n",
    "    print(f\"Seu salário ganhou um aumento de 10%. Agora você ganhará {salario}\")\n",
    "else: \n",
    "    salario *= 1.05\n",
    "    print(f\"Seu salário ganhou um aumento de 5%. Agora você ganhará {salario}\")\n"
   ]
  },
  {
   "cell_type": "code",
   "execution_count": null,
   "id": "1239343c",
   "metadata": {},
   "outputs": [
    {
     "name": "stdout",
     "output_type": "stream",
     "text": [
      "Insuficiente\n"
     ]
    }
   ],
   "source": [
    "#EXERCÍCIO 13: Leia a nota de um aluno e classifique:\n",
    "\n",
    "notaAluno = float(input(\"Digite a nota do aluno aqui: \"))\n",
    "\n",
    "if notaAluno >= 9:\n",
    "    print(\"Excelente\")\n",
    "elif 7 <= notaAluno < 9:\n",
    "    print(\"Bom\")\n",
    "elif 5 <= notaAluno < 7:\n",
    "    print(\"Regular\")\n",
    "else:\n",
    "    print(\"Insuficiente\")\n"
   ]
  },
  {
   "cell_type": "code",
   "execution_count": null,
   "id": "e4444f14",
   "metadata": {},
   "outputs": [
    {
     "name": "stdout",
     "output_type": "stream",
     "text": [
      "O número 11 não é múltiplo de 3, nem de 5.\n"
     ]
    }
   ],
   "source": [
    "#EXERCÍCIO 14: Leia um número inteiro e verifique se ele é múltiplo de 3 e de 5.\n",
    "\n",
    "numMultiplo = int(input(\"Digite um número: \"))\n",
    "\n",
    "if (numMultiplo % 3 == 0) and (numMultiplo % 5 == 0):\n",
    "    print(f'O número {numMultiplo} é múltiplo de 3 e de 5.')\n",
    "elif numMultiplo % 3 == 0:\n",
    "    print(f'O número {numMultiplo} é múltiplo de 3.')\n",
    "elif numMultiplo % 5 == 0:\n",
    "    print(f'O número {numMultiplo} é múltiplo de 5.')\n",
    "else: \n",
    "    print(f'O número {numMultiplo} não é múltiplo de 3, nem de 5.')"
   ]
  },
  {
   "cell_type": "code",
   "execution_count": null,
   "id": "a99015e6",
   "metadata": {},
   "outputs": [
    {
     "name": "stdout",
     "output_type": "stream",
     "text": [
      "33.8 °F\n",
      "-16.666666666666668 °C\n"
     ]
    }
   ],
   "source": [
    "#EXERCÍCIO 15: Leia a temperatura em graus Celsius e converta para Fahrenheit.\n",
    "\n",
    "temperatureCelsius = float(input('Converta a temperatura de Celsius (°C) para Fahreinheit (°F): '))\n",
    "\n",
    "temperatureFahreinheit = (9*temperatureCelsius/5)+32 \n",
    "print(f\"{temperatureFahreinheit} °F\")\n",
    "\n",
    "temperatureFahreinheit = float(input(\"Converta a temperatura de Fahreinheit (°F) para Celsius (°C): \"))\n",
    "\n",
    "temperatureCelsius = 5*(temperatureFahreinheit-32)/9\n",
    "print(f\"{temperatureCelsius} °C\")\n"
   ]
  },
  {
   "cell_type": "code",
   "execution_count": null,
   "id": "6cbe5d0e",
   "metadata": {},
   "outputs": [
    {
     "name": "stdout",
     "output_type": "stream",
     "text": [
      "23 45 23 21\n",
      "O número 45 é o maior\n",
      "O número 21 é o menor\n"
     ]
    }
   ],
   "source": [
    "#EXERCÍCIO 16: Leia quatro números e imprima o maior e o menor entre eles.\n",
    "\n",
    "num1 = int(input(\"Digite um número: \"))\n",
    "num2 = int(input(\"Digite um número: \"))\n",
    "num3 = int(input(\"Digite um número: \"))\n",
    "num4 = int(input(\"Digite um número: \"))\n",
    "\n",
    "print(num1, num2, num3, num4)\n",
    "#testa se há ao menos um número repetido\n",
    "if num1 == num2 == num3 == num4:\n",
    "    print(\"Nenhum número é maior ou menor, pois todos os números são iguais!\")\n",
    "\n",
    "#testa quem é o maior primeiro, depois o menor \n",
    "elif (num1 >= num2) and (num1 >= num3) and (num1 >= num4): # Se Verdadeiro: num1 > que todos; Se Falso: Então pula esse bloco \n",
    "    print(f\"O número {num1} é o maior\")\n",
    "    if (num2 < num3) and (num2 < num4): #V: num2 < que num3 e num4 (para) F: num2 maior que num3 e num4 (pula)\n",
    "        print(f\"O número {num2} é o menor\")\n",
    "    elif (num3 < num4): #num3 e num4 menor que num2 \n",
    "        print(f\"O número {num3} é o menor\")\n",
    "    else:\n",
    "        print(f\"O número {num4} é o menor\")\n",
    "        \n",
    "#repito o processo, mas troco algumas variáveis de lugares e vou testando se cada variavel é maior para depois testar quem do restante é menor\n",
    "elif (num2 >= num3) and (num2 >= num4) and (num2 >= num1): \n",
    "    print(f\"O número {num2} é o maior\")\n",
    "    if (num1 < num3) and (num1 < num4): \n",
    "        print(f\"O número {num1} é o menor\")\n",
    "    elif (num3 < num4): \n",
    "        print(f\"O número {num3} é o menor\")\n",
    "    else:\n",
    "        print(f\"O número {num4} é o menor\")\n",
    "    \n",
    "elif (num3 >= num4) and (num3 >= num2) and (num3 >= num1): \n",
    "    print(f\"O número {num3} é o maior\")\n",
    "    if (num1 < num2) and (num1 < num4): \n",
    "        print(f\"O número {num1} é o menor\")\n",
    "    elif (num2 < num4):\n",
    "        print(f\"O número {num2} é o menor\")\n",
    "    else:\n",
    "        print(f\"O número {num4} é o menor\")\n",
    "    \n",
    "elif (num4 >= num3) and (num4 >= num2) and (num4 >= num1): \n",
    "    print(f\"O número {num4} é o maior\")\n",
    "    if (num1 < num2) and (num1 < num3):\n",
    "        print(f\"O número {num1} é o menor\")\n",
    "    elif (num3 < num2): \n",
    "        print(f\"O número {num3} é o menor\")\n",
    "    else:\n",
    "        print(f\"O número {num2} é o menor\")"
   ]
  },
  {
   "cell_type": "code",
   "execution_count": null,
   "id": "cba14a52",
   "metadata": {},
   "outputs": [
    {
     "name": "stdout",
     "output_type": "stream",
     "text": [
      "No dia 2 do mês de Maio é OUTONO!\n"
     ]
    }
   ],
   "source": [
    "#EXERCÍCIO 17: Dado o dia e o mês, informe a estação do ano (considerando datas\n",
    "#aproximadas do hemisfério sul).\n",
    "dia = int(input(\"Escreva o dia apenas com número: ex: 21 \"))\n",
    "mes = int(input(\"Escreva o mês apenas com número: ex: 12 \"))\n",
    "\n",
    "#Verão\n",
    "if mes == 12: #dezembro\n",
    "    if (dia >= 21) and (dia <= 31):\n",
    "        print(f\"No dia {dia} do mês de Dezembro é VERÃO!\")\n",
    "\n",
    "elif mes == 1: #janeiro\n",
    "    if (dia >= 1) and (dia <= 31):\n",
    "        print(f\"No dia {dia} do mês de Janeiro é VERÃO!\")\n",
    "\n",
    "elif mes == 2: #fevereiro\n",
    "    if (dia >= 1) and (dia <= 28):\n",
    "        print(f\"No dia {dia} do mês de Fevereiro é VERÃO!\")\n",
    "\n",
    "elif mes == 3: #março \n",
    "    if (dia >= 1) and (dia < 20):\n",
    "        print(f\"No dia {dia} do mês de Março é VERÃO!\")\n",
    "\n",
    "#Outono\n",
    "elif mes == 3: #março\n",
    "    if (dia >= 20) and (dia <=31):\n",
    "        print(f\"No dia {dia} do mês de Março é OUTONO!\")\n",
    "\n",
    "elif mes == 4: #abril\n",
    "    if (dia >= 1) and (dia <= 30):\n",
    "        print(f\"No dia {dia} do mês de Abril é OUTONO!\")\n",
    "\n",
    "elif mes == 5: #maio\n",
    "    if (dia >= 1) and (dia <= 31):\n",
    "        print(f\"No dia {dia} do mês de Maio é OUTONO!\")\n",
    "\n",
    "elif mes == 6: #junho\n",
    "    if (dia >= 1) and (dia < 21):\n",
    "        print(f\"No dia {dia} do mês de Junho é OUTONO!\")\n",
    "\n",
    "#Inverno\n",
    "elif mes == 6: #junho\n",
    "    if (dia >= 20) and (dia <=30):\n",
    "        print(f\"No dia {dia} do mês de Junho é INVERNO!\")\n",
    "\n",
    "elif mes == 7: #julho\n",
    "    if (dia >= 1) and (dia <= 31):\n",
    "        print(f\"No dia {dia} do mês de Julho é INVERNO!\")\n",
    "\n",
    "elif mes == 8: #agosto\n",
    "    if (dia >= 1 and dia <= 31):\n",
    "        print(f\"No dia {dia} do mês de Agosto é INVERNO!\")\n",
    "\n",
    "elif mes == 9: #setembro\n",
    "    if (dia >= 1 and dia < 21):\n",
    "        print(f\"No dia {dia} do mês de Setembro é INVERNO!\")\n",
    "\n",
    "#Primavera\n",
    "elif mes == 9: #setembro\n",
    "    if (dia >= 21 and dia <= 30):\n",
    "        print(f\"No dia {dia} do mês de Setembro é PRIMAVERA!\")\n",
    "\n",
    "elif mes == 10: #outubro\n",
    "    if (dia >= 1 and dia <= 31):\n",
    "        print(f\"No dia {dia} do mês de Outubro é PRIMAVERA!\")\n",
    "\n",
    "elif mes == 11: #novembro\n",
    "    if (dia >= 1 and dia <= 30):\n",
    "        print(f\"No dia {dia} do mês de Novembro é PRIMAVERA!\")\n",
    "\n",
    "elif mes == 12: #dezembro\n",
    "    if (dia >= 1 and dia < 21):\n",
    "        print(f\"No dia {dia} do mês de Dezembro é PrIMAVERA!\")\n",
    "\n"
   ]
  },
  {
   "cell_type": "code",
   "execution_count": null,
   "id": "5f2c888f",
   "metadata": {},
   "outputs": [
    {
     "name": "stdout",
     "output_type": "stream",
     "text": [
      "Forma um triângulo isósceles, pois dois lados são iguais.\n"
     ]
    }
   ],
   "source": [
    "#EXERCÍCIO 18: Leia três números e determine se eles podem ser lados de um\n",
    "#triângulo e, em caso positivo, classifique-o (equilátero, isósceles ou\n",
    "#escaleno).\n",
    "\n",
    "ladoA = int(input(\"Digite um tamanho para o lado A: \"))\n",
    "ladoB = int(input(\"Digite um tamanho para o lado B: \"))\n",
    "ladoC = int(input(\"Digite um tamanho para o lado C: \"))\n",
    "\n",
    "if (ladoA + ladoB > ladoC) and (ladoA + ladoB > ladoC) and (ladoB + ladoC > ladoA):\n",
    "    if ladoA == ladoB or ladoA == ladoC or ladoB == ladoC:\n",
    "        print('Forma um triângulo isósceles, pois dois lados são iguais.')\n",
    "    elif ladoA == ladoB == ladoC:\n",
    "        print('Forma um triângulo equilátero, pois todos os lados são iguais.')\n",
    "    elif ladoA != ladoB != ladoC:\n",
    "        print('Forma um triãngulo escaleno, pois todos os lados são diferentes.')\n",
    "    \n",
    "else:\n",
    "    print('Não forma um triângulo')"
   ]
  },
  {
   "cell_type": "code",
   "execution_count": null,
   "id": "e8c5b8d8",
   "metadata": {},
   "outputs": [],
   "source": [
    "#EXERCÍCIO 19: Leia um número inteiro e exiba o seu valor absoluto.\n",
    "\n",
    "x = int(input(\"Digite um número inteiro: \"))\n",
    "\n",
    "if x >= 0:\n",
    "    print(x)\n",
    "elif x < 0:\n",
    "    print(-x) "
   ]
  },
  {
   "cell_type": "code",
   "execution_count": null,
   "id": "b0562f53",
   "metadata": {},
   "outputs": [
    {
     "name": "stdout",
     "output_type": "stream",
     "text": [
      "Reprovado!\n",
      "A média foi de 1.0\n"
     ]
    }
   ],
   "source": [
    "#EXERCÍCIO 20: Leia três notas e calcule a média ponderada:\n",
    "\n",
    "nota1 = int(input(\"Digite uma nota de 0 a 10: \"))\n",
    "nota2 = int(input(\"Digite uma nota de 0 a 10: \")) \n",
    "nota3 = int(input(\"Digite uma nota de 0 a 10: \")) \n",
    "\n",
    "#verifica primeiramente se a entrada de dados está correta\n",
    "if  0 <= (nota1 and nota2 and nota3) <= 10:\n",
    "\n",
    "#media ponderada\n",
    "    media_nota = (nota1 * 2 + nota2 * 3 + nota3 * 5)/(2 + 3 + 5)\n",
    "\n",
    "#classifica as notas \n",
    "    if media_nota >= 7:\n",
    "        print(\"Aprovado!\")\n",
    "\n",
    "    if 4 <= media_nota < 7:\n",
    "        print(\"Recuperação!\")\n",
    "\n",
    "    if media_nota < 4:\n",
    "        print(\"Reprovado!\")\n",
    "\n",
    "    print(f\"A média foi de {media_nota}\")\n",
    "\n",
    "#caso a primeira não condição seja atendida, isto é, números negativos e números maiores que 10\n",
    "else:\n",
    "    print(\"Apenas são aceitos notas de 0 a 10, por favor, tente novamente.\")"
   ]
  },
  {
   "cell_type": "code",
   "execution_count": null,
   "id": "e5aabc5b",
   "metadata": {},
   "outputs": [
    {
     "name": "stdout",
     "output_type": "stream",
     "text": [
      "Olá!\n",
      "É de madrugada.\n",
      "Já são 00:00!\n"
     ]
    }
   ],
   "source": [
    "#EXERCÍCIO 21: Leia uma hora no formato (hora, minuto) e diga se é um horário\n",
    "#válido.\n",
    "print(\"Olá!\")\n",
    "\n",
    "horas = int(input(f\"Digite o horário no formato horas:minutos começando pelas horas: \"))\n",
    "minutos = int(input(f\"Digite os minutos: \"))\n",
    "\n",
    "if 0 <= horas <= 24 and 0 <= minutos <= 60:\n",
    "\n",
    "    if 0 <= horas < 12:\n",
    "        print(\"É de madrugada.\")\n",
    "    elif 12 >= horas < 18:\n",
    "        print(\"Está tarde.\")\n",
    "    elif 18 >= horas < 0:\n",
    "        print(\"Boa noite!\")\n",
    "\n",
    "\n",
    "    if minutos == 0:\n",
    "        minutos = \"00\"\n",
    "    if horas == 0:\n",
    "        horas = \"00\"\n",
    "    horario = f\"{horas}:{minutos}\"\n",
    "    print(f\"Já são {horario}!\")"
   ]
  },
  {
   "cell_type": "code",
   "execution_count": 66,
   "id": "b44cb52c",
   "metadata": {},
   "outputs": [
    {
     "name": "stdout",
     "output_type": "stream",
     "text": [
      "Seja em ordem crescente ou decrescente:\n",
      "números digitados em sequência (4, 8, 1)\n",
      "Não forma uma Progressão Aritmética\n"
     ]
    }
   ],
   "source": [
    "#EXERCÍCIO 22: Leia três números e diga se eles podem formar uma progressão\n",
    "#aritmética.\n",
    "\n",
    "print('Seja em ordem crescente ou decrescente:')\n",
    "n1 = int(input('Digite o primeiro termo (A1)')) #Uma P.A. é dada por An = A1 + (k-1)R\n",
    "n2 = int(input('Digite o segundo termo (A2)')) #Para saber se um conjunto de dados forma uma P.A. preciso somente calcular se a razão de TODOS os números é a mesma\n",
    "n3 = int(input('Digite o terceiro termo (A3)')) #fazendo por exemplo: a2 - a1 = a3 - a2\n",
    "\n",
    "print(f'números digitados em sequência {n1, n2, n3}')\n",
    "\n",
    "if (n2 - n1) == (n3 - n2):\n",
    "    print('Forma uma Progressão Aritmétíca!')\n",
    "else: \n",
    "    print('Não forma uma Progressão Aritmética')\n",
    "\n"
   ]
  },
  {
   "cell_type": "code",
   "execution_count": null,
   "id": "57437f9a",
   "metadata": {},
   "outputs": [
    {
     "name": "stdout",
     "output_type": "stream",
     "text": [
      "Não pode se aposentar\n"
     ]
    }
   ],
   "source": [
    "#EXERCÍCIO 23: Leia a idade e o tempo de contribuição de um trabalhador e diga se\n",
    "#ele pode se aposentar.\n",
    "\n",
    "sexo = input('Homem ou Mulher? ') #Desculpe não-binários!! \n",
    "idade = int(input('Sua idade: '))\n",
    "tempoContribuicao = int(input('Seu tempo de contribuição em anos: '))\n",
    "\n",
    "#Homem\n",
    "if sexo.lower() == 'homem': \n",
    "    if tempoContribuicao >= 35  or idade >= 65:\n",
    "        print('Pode se aposentar')\n",
    "    else:\n",
    "        print('Não pode se aposentar')\n",
    "#Mulher\n",
    "if sexo.lower() == 'mulher': \n",
    "    if tempoContribuicao >= 30 or idade >= 60:\n",
    "        print('Pode se aposentar')\n",
    "    else:\n",
    "        print('Não pode se aposentar')"
   ]
  },
  {
   "cell_type": "code",
   "execution_count": null,
   "id": "b1cea865",
   "metadata": {},
   "outputs": [
    {
     "name": "stdout",
     "output_type": "stream",
     "text": [
      "(0, 0, 1)\n",
      "Os números (1, 0) são os maiores\n",
      "Portanto, a soma entre eles é de 1\n"
     ]
    }
   ],
   "source": [
    "#EXERCÍCIO 24: Ler três números e mostrar a soma dos dois maiores.\n",
    "\n",
    "num1 = int(input('Digite o primeiro número: '))\n",
    "num2 = int(input('Digite o segundo número: '))\n",
    "num3 = int(input('Digite o terceiro número: '))\n",
    "\n",
    "print(f\"{num1, num2, num3}\")\n",
    "\n",
    "if num1 == num2 == num3:\n",
    "    soma = num1 + num2 + num3\n",
    "    print(f'Todos os números digitados são iguais. Por tanto, a soma deles é de {soma}')\n",
    "\n",
    "elif num1 >= num2 and num1 >= num3: #se o num1 for maior, ele vai testar depois quem dos dois outros números são maiores e, finalmente, somar e imprimir\n",
    "    if num2 == num3:\n",
    "        print(f'Os números {num1, num2} são os maiores') \n",
    "        num1 += num2\n",
    "        print(f'Portanto, a soma entre eles é de {num1}')\n",
    "    elif num2 > num3:\n",
    "        print(f'Os números {num1, num2} são os maiores') \n",
    "        num1 += num2\n",
    "        print(f'Portanto, a soma entre eles é de {num1}')\n",
    "    elif num3 > num2:\n",
    "        print(f'Os números {num1, num3} são os maiores')\n",
    "        num1 += num3\n",
    "        print(f'Portanto, a soma entre eles é de {num1}')\n",
    "    \n",
    "elif num2 >= num1 and num2 >= num3: \n",
    "    if num1 == num3:\n",
    "        print(f'Os números {num2, num1} são os maiores') \n",
    "        num2 += num1\n",
    "        print(f'Portanto, a soma entre eles é de {num2}')\n",
    "    elif num1 > num3:\n",
    "        print(f'Os números {num2, num1} são os maiores') \n",
    "        num2 += num1\n",
    "        print(f'Portanto, a soma entre eles é de {num2}')\n",
    "    elif num3 > num1:\n",
    "        print(f'Os números {num2, num3} são os maiores')\n",
    "        num2 += num3\n",
    "        print(f'Portanto, a soma entre eles é de {num2}')\n",
    "\n",
    "elif num3 >= num1 and num3 >= num2: \n",
    "    if num2 == num1:\n",
    "        print(f'Os números {num3, num1} são os maiores') \n",
    "        num3 += num2\n",
    "        print(f'Portanto, a soma entre eles é de {num3}')\n",
    "    elif num1 > num2:\n",
    "        print(f'Os números {num3, num2} são os maiores') \n",
    "        num3 += num1\n",
    "        print(f'Portanto, a soma entre eles é de {num3}')\n",
    "    elif num2 > num1:\n",
    "        print(f'Os números {num3, num2} são os maiores')\n",
    "        num3 += num2\n",
    "        print(f'Portanto, a soma entre eles é de {num3}')\n",
    "    \n",
    "    "
   ]
  },
  {
   "cell_type": "code",
   "execution_count": 70,
   "id": "ebccc9ac",
   "metadata": {},
   "outputs": [
    {
     "name": "stdout",
     "output_type": "stream",
     "text": [
      "1028 não é múltiplo de 4, 6 e 9.\n"
     ]
    }
   ],
   "source": [
    "#EXERCÍCIO 25: Ler um número inteiro e exibir se ele é múltiplo de 4, 6 e 9\n",
    "#simultaneamente.\n",
    "\n",
    "x = int(input('Digite um número qualquer para verificar se é múltiplo de 4, 6 e 9'))\n",
    "\n",
    "if x % 4 == 0 and x % 6 == 0 and x % 9 == 0:\n",
    "    print(f\"{x} é um múltiplo de 4, 6 e 9!\")\n",
    "\n",
    "else: \n",
    "    print(f'{x} não é múltiplo de 4, 6 e 9.')"
   ]
  },
  {
   "cell_type": "code",
   "execution_count": 82,
   "id": "d9c563d8",
   "metadata": {},
   "outputs": [
    {
     "name": "stdout",
     "output_type": "stream",
     "text": [
      "555 não é um número de Armstrong\n"
     ]
    }
   ],
   "source": [
    "#EXERCÍCIO 26: Dado um número inteiro de três dígitos, verificar se ele é um número\n",
    "#de Armstrong (cada dígito elevado à terceira potência, somados, dá o\n",
    "#próprio número).\n",
    "\n",
    "numeroArmstrong = int(input('Digite o número que você quiser'))\n",
    "primeiroDigito = int(input('Comece colocando o primeiro dígito das centenas'))\n",
    "segundoDigito = int(input('Coloque o segundo dígito das dezenas'))\n",
    "terceiroDigito = int(input('Agora coloque o terceiro dígito das unidades'))\n",
    "\n",
    "soma = primeiroDigito ** 3 + segundoDigito ** 3 + terceiroDigito ** 3\n",
    "if 99 < (primeiroDigito and segundoDigito and terceiroDigito) < 1000:\n",
    "    print('O número digitado não contém apenas 3 dígitos. Tente novamente.')\n",
    "elif numeroArmstrong == soma:\n",
    "    print(f'{numeroArmstrong} é um número de Armstrong!')\n",
    "else:\n",
    "    print(f'{numeroArmstrong} não é um número de Armstrong')"
   ]
  },
  {
   "cell_type": "code",
   "execution_count": null,
   "id": "a2cbdeb9",
   "metadata": {},
   "outputs": [],
   "source": [
    "#EXERCÍCIO 27: Leia o valor de três lados e determine o tipo de triângulo formado\n",
    "#(Equilátero, Isósceles, Escaleno) e também se ele é Retângulo (aplicando o\n",
    "#Teorema de Pitágoras).\n",
    "\n",
    "ladoA = float(input(\"Digite um tamanho para o lado A: \")) #float pois pra caso tenha um triâgulo retângulo isósceles, onde a diagonal é \"lado * sqrt(2)\"\n",
    "ladoB = float(input(\"Digite um tamanho para o lado B: \")) #o problema é que quando isso acontece, nesse programa não imprime que é um triângulo retângulo\n",
    "ladoC = float(input(\"Digite um tamanho para o lado C: \")) #apenas que é um triângulo isósceles...\n",
    "\n",
    "if (ladoA + ladoB > ladoC) and (ladoA + ladoB > ladoC) and (ladoB + ladoC > ladoA):\n",
    "    if ((ladoA**2) == (ladoB**2) + (ladoC**2)) or ((ladoB**2) == (ladoA**2) + (ladoC**2)) or ((ladoC**2) == (ladoA**2) + (ladoB**2)):\n",
    "        print('Forma um triângulo retângulo, pois o quadrado da hipotenusa é igual a soma dos quadrados dos catetos (Teorema de Pitágoras)')\n",
    "    if ladoA == ladoB or ladoA == ladoC or ladoB == ladoC:\n",
    "        print('Forma um triângulo isósceles, pois dois lados são iguais.')\n",
    "    elif ladoA == ladoB == ladoC:\n",
    "        print('Forma um triângulo equilátero, pois todos os lados são iguais.')\n",
    "    elif ladoA != ladoB != ladoC:\n",
    "        print('Forma um triãngulo escaleno, pois todos os lados são diferentes.')\n",
    "    \n",
    "else:\n",
    "    print('Não forma um triângulo')"
   ]
  },
  {
   "cell_type": "code",
   "execution_count": null,
   "id": "996e623a",
   "metadata": {},
   "outputs": [],
   "source": [
    "#EXERCÍCIO 28: Um caixa eletrônico deve entregar o menor número de notas possíveis      150//100 = 1, 150%10 = 50 ||50//10 = 5, 50 % 10 = 0\n",
    "#para um saque. Disponível: notas de 100, 50, 20, 10, 5, 2 e 1.\n",
    "\n",
    "saque = int(input('Digite o valor do saque (valor mínimo de saque é 1):'))  \n",
    "if saque >= 100:\n",
    "    if saque % 100 == 0:\n",
    "        numeroDeNotas = saque//100\n",
    "        plural = 'nota' if (numeroDeNotas == 1) else 'notas' #variável usando operador ternário if/else (sem dois pontos no final de cada uma) para colocar no plural\n",
    "        print(f\"Você receberá {numeroDeNotas} {plural} de 100.\")\n",
    "    if saque % 100 != 0:\n",
    "        if 50 <= saque and saque < 100:\n",
    "            numeroDeNotas = saque//100 + (saque % 100)//50\n",
    "            print (numeroDeNotas) \n",
    "\n",
    "elif saque >= 50:\n",
    "    if saque % 50 == 0:\n",
    "        numeroDeNotas = saque//50\n",
    "        plural = 'nota' if (numeroDeNotas == 1) else 'notas' #variável usando operador ternário if/else (sem dois pontos no final de cada uma) para colocar no plural\n",
    "        print(f\"Você receberá {numeroDeNotas} {plural} de 50.\")\n",
    "\n",
    "\n",
    "elif saque >= 20:\n",
    "    if saque % 20 == 0:\n",
    "        numeroDeNotas = saque//20\n",
    "        plural = 'nota' if (numeroDeNotas == 1) else 'notas' #variável usando operador ternário if/else (sem dois pontos no final de cada uma) para colocar no plural\n",
    "        print(f\"Você receberá {numeroDeNotas} {plural} de 20.\")\n",
    "\n",
    "\n",
    "elif saque >= 10:\n",
    "    if saque % 10 == 0:\n",
    "        numeroDeNotas = saque//10\n",
    "        plural = 'nota' if (numeroDeNotas == 1) else 'notas' #variável usando operador ternário if/else (sem dois pontos no final de cada uma) para colocar no plural\n",
    "        print(f\"Você receberá {numeroDeNotas} {plural} de 10.\")\n",
    "\n",
    "elif saque >= 5:\n",
    "    if saque % 5 == 0:\n",
    "        numeroDeNotas = saque//5\n",
    "        plural = 'nota' if (numeroDeNotas == 1) else 'notas' #variável usando operador ternário if/else (sem dois pontos no final de cada uma) para colocar no plural\n",
    "        print(f\"Você receberá {numeroDeNotas} {plural} de 5.\")\n",
    "\n",
    "            \n",
    "\n",
    "elif saque >= 2:\n",
    "    if saque % 2== 0:\n",
    "        numeroDeNotas = saque//2\n",
    "        plural = 'nota' if (numeroDeNotas == 1) else 'notas' #variável usando operador ternário if/else (sem dois pontos no final de cada uma) para colocar no plural\n",
    "        print(f\"Você receberá {numeroDeNotas} {plural} de 2.\")\n",
    "        \n",
    "\n",
    "elif saque == 1:\n",
    "        numeroDeNotas = saque\n",
    "\n",
    "        print(\"Você receberá 1 nota de 1 real.\")\n"
   ]
  },
  {
   "cell_type": "code",
   "execution_count": null,
   "id": "fd965bac",
   "metadata": {},
   "outputs": [],
   "source": [
    "#EXERCÍCIO 29: Leia quatro números e verifique se eles podem ser os lados de um\n",
    "#quadrilátero qualquer, e classifique-o."
   ]
  },
  {
   "cell_type": "code",
   "execution_count": null,
   "id": "031872fe",
   "metadata": {},
   "outputs": [],
   "source": [
    "#EXERCÍCIO 30: Um número é chamado de \"mágico\" se a soma dos seus dígitos é igual\n",
    "#a 7. Leia um número inteiro de até três dígitos e determine se ele é\n",
    "#mágico."
   ]
  },
  {
   "cell_type": "code",
   "execution_count": null,
   "id": "4f1a9dc2",
   "metadata": {},
   "outputs": [
    {
     "name": "stdout",
     "output_type": "stream",
     "text": [
      "1\n"
     ]
    }
   ],
   "source": [
    "saque = 150 \n",
    "\n",
    "if saque >= 100:\n",
    "    notaSaque = saque//100\n",
    "    print(notaSaque)\n",
    "elif saque % 100 >= 50:\n",
    "        notaSaque = saque//100 + saque//50 - \n",
    "        print(notaSaque)"
   ]
  }
 ],
 "metadata": {
  "kernelspec": {
   "display_name": "Python 3",
   "language": "python",
   "name": "python3"
  },
  "language_info": {
   "codemirror_mode": {
    "name": "ipython",
    "version": 3
   },
   "file_extension": ".py",
   "mimetype": "text/x-python",
   "name": "python",
   "nbconvert_exporter": "python",
   "pygments_lexer": "ipython3",
   "version": "3.12.3"
  }
 },
 "nbformat": 4,
 "nbformat_minor": 5
}
