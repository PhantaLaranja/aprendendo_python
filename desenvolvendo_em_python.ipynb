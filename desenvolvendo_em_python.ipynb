{
 "cells": [
  {
   "cell_type": "markdown",
   "id": "7ce3da54",
   "metadata": {},
   "source": [
    "Operadores em Python"
   ]
  },
  {
   "cell_type": "code",
   "execution_count": 6,
   "id": "0da75f14",
   "metadata": {},
   "outputs": [
    {
     "data": {
      "text/plain": [
       "2"
      ]
     },
     "execution_count": 6,
     "metadata": {},
     "output_type": "execute_result"
    }
   ],
   "source": [
    "5-3"
   ]
  },
  {
   "cell_type": "code",
   "execution_count": 7,
   "id": "ddc41124",
   "metadata": {},
   "outputs": [
    {
     "data": {
      "text/plain": [
       "15"
      ]
     },
     "execution_count": 7,
     "metadata": {},
     "output_type": "execute_result"
    }
   ],
   "source": [
    "5*3"
   ]
  },
  {
   "cell_type": "code",
   "execution_count": 8,
   "id": "b3405a4e",
   "metadata": {},
   "outputs": [
    {
     "data": {
      "text/plain": [
       "1.6666666666666667"
      ]
     },
     "execution_count": 8,
     "metadata": {},
     "output_type": "execute_result"
    }
   ],
   "source": [
    "5/3"
   ]
  },
  {
   "cell_type": "code",
   "execution_count": 9,
   "id": "c928a343",
   "metadata": {},
   "outputs": [
    {
     "data": {
      "text/plain": [
       "1"
      ]
     },
     "execution_count": 9,
     "metadata": {},
     "output_type": "execute_result"
    }
   ],
   "source": [
    "5//3 #consegue a parte inteira"
   ]
  },
  {
   "cell_type": "code",
   "execution_count": 10,
   "id": "a7802a14",
   "metadata": {},
   "outputs": [
    {
     "data": {
      "text/plain": [
       "2"
      ]
     },
     "execution_count": 10,
     "metadata": {},
     "output_type": "execute_result"
    }
   ],
   "source": [
    "\n",
    "5%3 #módulo para conseguir o resto da divisão"
   ]
  },
  {
   "cell_type": "code",
   "execution_count": 11,
   "id": "2289b9f8",
   "metadata": {},
   "outputs": [
    {
     "data": {
      "text/plain": [
       "125"
      ]
     },
     "execution_count": 11,
     "metadata": {},
     "output_type": "execute_result"
    }
   ],
   "source": [
    "5**3 #potência"
   ]
  },
  {
   "cell_type": "code",
   "execution_count": 32,
   "id": "1668e30e",
   "metadata": {},
   "outputs": [
    {
     "name": "stdout",
     "output_type": "stream",
     "text": [
      "10\n",
      "10\n"
     ]
    }
   ],
   "source": [
    "#use esse símbolo para digitar pra comentar\n",
    "\n",
    "num1 = 2\n",
    "num2 = 8\n",
    "num2 = num2 + num1\n",
    "\n",
    "print(num2)\n",
    "\n",
    "numero1 = 2\n",
    "numero2 = 8\n",
    "numero2 += numero1\n",
    "\n",
    "print(numero2)\n",
    "\n",
    "\n",
    "#pode-se usar +=,-=,*=,**=,/=,//=,%= e etc"
   ]
  },
  {
   "cell_type": "code",
   "execution_count": null,
   "id": "a73a7020",
   "metadata": {},
   "outputs": [],
   "source": [
    "print(1 == 1)\n",
    "\n",
    "print(1 != 1)"
   ]
  },
  {
   "cell_type": "code",
   "execution_count": null,
   "id": "f057092c",
   "metadata": {},
   "outputs": [],
   "source": [
    "p = True\n",
    "q = False\n",
    "\n",
    "print(p and q)"
   ]
  },
  {
   "cell_type": "code",
   "execution_count": null,
   "id": "cc8fa759",
   "metadata": {},
   "outputs": [],
   "source": [
    "p = True\n",
    "q = False\n",
    "\n",
    "print(p or q)"
   ]
  },
  {
   "cell_type": "code",
   "execution_count": null,
   "id": "163e0285",
   "metadata": {},
   "outputs": [],
   "source": [
    "p = True\n",
    "q = False\n",
    "\n",
    "print(p and q or p and q)\n",
    "False\n",
    "name = input(\"Digite seu nome aqui: \")\n",
    "\n",
    "print(name)\n",
    "\n",
    "#por padrão aceita entrada de dados do tipo String"
   ]
  },
  {
   "cell_type": "code",
   "execution_count": null,
   "id": "0124ad39",
   "metadata": {},
   "outputs": [],
   "source": [
    "numero = int(input(\"Digite um número aqui: \"))\n",
    "\n",
    "print(numero)\n",
    "\n",
    "#aceita apenas entrada de um número do tipo inteiro"
   ]
  },
  {
   "cell_type": "code",
   "execution_count": 36,
   "id": "51b7d329",
   "metadata": {},
   "outputs": [
    {
     "data": {
      "text/plain": [
       "str"
      ]
     },
     "execution_count": 36,
     "metadata": {},
     "output_type": "execute_result"
    }
   ],
   "source": [
    "numero = 10\n",
    "nome = \"Erbert Richards\"\n",
    "numeroQuebrado = 10.00 \n",
    "\n",
    "type(nome)\n",
    "\n",
    "#verifica o tipo de dado"
   ]
  },
  {
   "cell_type": "code",
   "execution_count": null,
   "id": "781d79d2",
   "metadata": {},
   "outputs": [],
   "source": [
    "name = input(\"Digite seu nome: \")\n",
    "\n",
    "print(\"Bem-vindo, \" + name + \" como vai você?\")\n",
    "print(\"Bem-vindo,\", name, \" como vai você?\")\n",
    "print(f\"Bem-vindo, {name} como vai você\")"
   ]
  },
  {
   "cell_type": "code",
   "execution_count": 13,
   "id": "db1bafbf",
   "metadata": {},
   "outputs": [
    {
     "name": "stdout",
     "output_type": "stream",
     "text": [
      "\n",
      "            Coloque algum texto\n",
      "            aqui e será automaticamente\n",
      "            quebrado para a próxima\n",
      "            linha, luiggi\n",
      "            \n"
     ]
    }
   ],
   "source": [
    "textBlock = f\"\"\"\n",
    "            Coloque algum texto\n",
    "            aqui e será automaticamente\n",
    "            quebrado para a próxima\n",
    "            linha, {name}\n",
    "            \"\"\"\n",
    "\n",
    "print(textBlock)"
   ]
  },
  {
   "cell_type": "code",
   "execution_count": null,
   "id": "c1a70178",
   "metadata": {},
   "outputs": [
    {
     "name": "stdout",
     "output_type": "stream",
     "text": [
      "Me doa um pouco de dinheiro aí luiggi!\n"
     ]
    }
   ],
   "source": [
    "dinheiro = float(input(\"Digite o quanto de dinheiro você tem: \"))\n",
    "\n",
    "if (dinheiro == 100):\n",
    "    print(f\"Humm... Legal.\")\n",
    "elif (dinheiro < 100):\n",
    "    print(f\"Você é muito pobre, {name}, não vai dar pra eu te pedir emprestado.\")\n",
    "else: \n",
    "    print(f\"Me doa um pouco de dinheiro aí {name}!\")"
   ]
  },
  {
   "cell_type": "markdown",
   "id": "6d327aee",
   "metadata": {},
   "source": [
    "LISTA DE EXERCÍCIOS - Estruturas Condicionais"
   ]
  },
  {
   "cell_type": "code",
   "execution_count": null,
   "id": "cd2ad3bd",
   "metadata": {},
   "outputs": [
    {
     "name": "stdout",
     "output_type": "stream",
     "text": [
      "O número digitado é igual a 0.\n"
     ]
    }
   ],
   "source": [
    "#EXERCÍCIO 1:\n",
    "\n",
    "numero = int(input(\"Digite um número qualquer: \"));\n",
    "\n",
    "if numero > 0:\n",
    "    print(f\"O número {numero} é maior que 0. Portanto, ele é positivo.\");\n",
    "elif numero < 0:\n",
    "    print(f\"O número {numero} é menor que 0. Portanto, ele é negativo.\");\n",
    "else: \n",
    "    print(f\"O número digitado é igual a 0.\");"
   ]
  },
  {
   "cell_type": "code",
   "execution_count": null,
   "id": "671baa5f",
   "metadata": {},
   "outputs": [
    {
     "name": "stdout",
     "output_type": "stream",
     "text": [
      "Ambos são iguais\n"
     ]
    }
   ],
   "source": [
    "#EXERCÍCIO 2:\n",
    "\n",
    "numero1 = int(input(\"Digite o primeiro número: \"));\n",
    "numero2 = int(input(\"Digite o segundo número: \"));\n",
    "\n",
    "if numero1 > numero2:\n",
    "    print(f\"O número {numero1} é maior que o número {numero2}.\");\n",
    "elif numero1 < numero2:\n",
    "    print(f\"O número {numero1} é menor que o número {numero2}.\");\n",
    "else: \n",
    "    print(f\"Ambos são iguais\");"
   ]
  },
  {
   "cell_type": "code",
   "execution_count": 24,
   "id": "ebb65345",
   "metadata": {},
   "outputs": [
    {
     "name": "stdout",
     "output_type": "stream",
     "text": [
      "primeiro número: 1, segundo número: 1, terceiro número: 1\n",
      "Todos os números são iguais\n"
     ]
    }
   ],
   "source": [
    "#EXERCÍCIO 3:\n",
    "\n",
    "numero1 = int(input(\"Digite o primeiro número: \"))\n",
    "numero2 = int(input(\"Digite o segundo número: \"))\n",
    "numero3 = int(input(\"Digite o terceiro número: \"))\n",
    "\n",
    "print(f\"primeiro número: {numero1}, segundo número: {numero2}, terceiro número: {numero3}\")\n",
    "\n",
    "if numero1 > numero2 and numero1 > numero3:\n",
    "    print(f\"O número {numero1} é o maior de todos.\")\n",
    "elif numero2 > numero1 and numero2 > numero3:\n",
    "    print(f\"O número {numero2} é o maior de todos.\") \n",
    "elif numero3 > numero1 and numero3 > numero2:\n",
    "    print(f\"O número {numero3} é o maior de todos.\")\n",
    "elif numero1 == numero2 and numero1 > numero3:\n",
    "    print(f\"O número {numero1} é maior que o número {numero3}\")\n",
    "elif numero1 == numero3 and numero1 > numero2:\n",
    "    print(f\"O número {numero1} é maior que o número {numero2}\")\n",
    "elif numero2 == numero3 and numero2 > numero1:\n",
    "    print(f\"O número {numero2} é maior que o número {numero1}\")\n",
    "else:\n",
    "    print(\"Todos os números são iguais\")"
   ]
  },
  {
   "cell_type": "code",
   "execution_count": 26,
   "id": "c6144cc3",
   "metadata": {},
   "outputs": [
    {
     "name": "stdout",
     "output_type": "stream",
     "text": [
      "Primeiro número: 12, segundo número: 1231\n",
      "O número 12 é diferente de 1231\n"
     ]
    }
   ],
   "source": [
    "#EXERCÍCIO 4:\n",
    "\n",
    "number1 = int(input(\"Digite um número: \"))\n",
    "number2 = int(input(\"Digite um segundo número: \"))\n",
    "\n",
    "print(f\"Primeiro número: {number1}, segundo número: {number2}\")\n",
    "\n",
    "if number1 != number2:\n",
    "    print(f\"O número {number1} é diferente de {number2}\")\n",
    "else:\n",
    "    print(\"Ambos números são iguais\")"
   ]
  },
  {
   "cell_type": "code",
   "execution_count": 29,
   "id": "9448b2b7",
   "metadata": {},
   "outputs": [
    {
     "name": "stdout",
     "output_type": "stream",
     "text": [
      "\n",
      "Acesso negado.\n",
      "Não permitimos\n",
      "menores de 18 anos...\n",
      "\n"
     ]
    }
   ],
   "source": [
    "#EXERCÍCIO 5:\n",
    "\n",
    "idade = int(input(\"Por gentileza, digite sua idade: \"))\n",
    "\n",
    "acessoPermitido = \"\"\"\n",
    "Acesso permitido.\n",
    "Seja bem-vindo(a)\n",
    "ao nosso site!\n",
    "\"\"\"\n",
    "acessoNegado = \"\"\"\n",
    "Acesso negado.\n",
    "Não permitimos\n",
    "menores de 18 anos...\n",
    "\"\"\"\n",
    "\n",
    "if idade >= 18:\n",
    "    print(acessoPermitido)\n",
    "else:\n",
    "    print(acessoNegado)"
   ]
  },
  {
   "cell_type": "code",
   "execution_count": 36,
   "id": "32d0d20c",
   "metadata": {},
   "outputs": [
    {
     "name": "stdout",
     "output_type": "stream",
     "text": [
      "primeiro número: 14, segundo número: 11, terceiro número: 20\n",
      "Em ordem crescente, temos: 11, 14, 20.\n"
     ]
    }
   ],
   "source": [
    "#EXERCÍCIO 6:\n",
    "\n",
    "numero1 = int(input(\"Digite o primeiro número: \"))\n",
    "numero2 = int(input(\"Digite o segundo número: \"))\n",
    "numero3 = int(input(\"Digite o terceiro número: \"))\n",
    "\n",
    "print(f\"primeiro número: {numero1}, segundo número: {numero2}, terceiro número: {numero3}\")\n",
    "\n",
    "if numero1 > numero2 and numero1 > numero3:\n",
    "    if numero2 > numero3:\n",
    "        print(f\"Em ordem crescente, temos: {numero3}, {numero2}, {numero1}.\")\n",
    "    else: \n",
    "        print(f\"Em ordem crescente, temos: {numero2}, {numero3}, {numero1}.\")\n",
    "\n",
    "elif numero2 > numero1 and numero2 > numero3:\n",
    "    if numero1 > numero3:\n",
    "        print(f\"Em ordem crescente, temos: {numero3}, {numero1}, {numero2}.\")\n",
    "    else: \n",
    "        print(f\"Em ordem crescente, temos: {numero1}, {numero3}, {numero2}.\")\n",
    "\n",
    "elif numero3 > numero1 and numero3 > numero2:\n",
    "    if numero1 > numero2:\n",
    "        print(f\"Em ordem crescente, temos: {numero2}, {numero1}, {numero3}.\")\n",
    "    else: \n",
    "        print(f\"Em ordem crescente, temos: {numero1}, {numero2}, {numero3}.\") \n",
    "\n",
    "else:\n",
    "    print(f\"Todos o números são iguais. Por tanto, temos na lista apenas: {numero1}\")"
   ]
  },
  {
   "cell_type": "code",
   "execution_count": 38,
   "id": "5d3f213b",
   "metadata": {},
   "outputs": [
    {
     "name": "stdout",
     "output_type": "stream",
     "text": [
      "O número é ímpar\n"
     ]
    }
   ],
   "source": [
    "#EXERCÍCIO 7:\n",
    "\n",
    "numero = int(input(\"Digite o primeiro número: \"))\n",
    "\n",
    "resto = numero % 2\n",
    "\n",
    "if resto == 0:\n",
    "    print(\"O número é par.\")\n",
    "else:\n",
    "    print(\"O número é ímpar\")"
   ]
  },
  {
   "cell_type": "code",
   "execution_count": 44,
   "id": "22938db4",
   "metadata": {},
   "outputs": [
    {
     "name": "stdout",
     "output_type": "stream",
     "text": [
      "Aluno não aprovado!\n"
     ]
    }
   ],
   "source": [
    "#EXERCÍCIO 8:\n",
    "\n",
    "notaAluno = float(input(\"Digite a nota de um aluno de 0 a 10: \"))\n",
    "\n",
    "if notaAluno >= 6:\n",
    "    print(\"Aluno aprovado!\")\n",
    "else:\n",
    "    print('Aluno não aprovado!')"
   ]
  },
  {
   "cell_type": "code",
   "execution_count": null,
   "id": "3de04c2c",
   "metadata": {},
   "outputs": [
    {
     "name": "stdout",
     "output_type": "stream",
     "text": [
      "O seu peso ideal é 669.0\n"
     ]
    }
   ],
   "source": [
    "#EXERCÍCIO 9:\n",
    "\n",
    "#quando for comparar strings, usar o método upper() para converter tudo para o caixa-alta ou lower() para o caixa-baixa,\n",
    "#ou poderia colocar em print(sexo.lower())\n",
    "\n",
    "altura = float(input(\"Por favor, digite sua altura: \"))\n",
    "sexo = input(\"Digite seu sexo de nascimento: \").lower()\n",
    "\n",
    "if sexo == 'homem':\n",
    "    pesoIdeal = (72.7 * altura) - 58\n",
    "    print(f\"O seu peso ideal é {pesoIdeal}\")\n",
    "else: \n",
    "    pesoIdeal = (62.1 * altura) - 44.7\n",
    "    print(f\"O seu peso ideal é {pesoIdeal}\")\n"
   ]
  },
  {
   "cell_type": "code",
   "execution_count": 55,
   "id": "32b43e96",
   "metadata": {},
   "outputs": [
    {
     "name": "stdout",
     "output_type": "stream",
     "text": [
      "O número 4 é menor que 312\n"
     ]
    }
   ],
   "source": [
    "#EXERCÍCIO 10:\n",
    "\n",
    "num1 = int(input(\"Digite um número inteiro: \"))\n",
    "num2 = int(input(\"Digite um outro número inteiro: \"))\n",
    "\n",
    "if num1 < num2:\n",
    "    print(f\"O número {num1} é menor que {num2}\")\n",
    "else: \n",
    "    print(f\"O número {num2} é menor que {num1}\")"
   ]
  },
  {
   "cell_type": "code",
   "execution_count": null,
   "id": "9b8a86d9",
   "metadata": {},
   "outputs": [
    {
     "name": "stdout",
     "output_type": "stream",
     "text": [
      "Forma um triângulo!\n"
     ]
    }
   ],
   "source": [
    "#EXERCÍCIO 11:\n",
    "\n",
    "ladoA = float(input(\"Digite um tamanho para o lado A: \"))\n",
    "ladoB = float(input(\"Digite um tamanho para o lado B: \"))\n",
    "ladoC = float(input(\"Digite um tamanho para o lado C: \"))\n",
    "\n",
    "mensagem1 = 'Forma um triângulo!'\n",
    "mensagem2 = 'Não forma um triângulo!'\n",
    "\n",
    "x = ladoA + ladoB > ladoC\n",
    "z = ladoB + ladoC > ladoA\n",
    "\n",
    "if x:\n",
    "    print(mensagem1)  #poderia especificar se é um triângulo escaleno, equilátero ou retângulo\n",
    "elif y:\n",
    "    print(mensagem1)\n",
    "elif z:\n",
    "    print(mensagem1)\n",
    "else:\n",
    "    print(mensagem2)\n"
   ]
  },
  {
   "cell_type": "code",
   "execution_count": null,
   "id": "ecfd3496",
   "metadata": {},
   "outputs": [
    {
     "data": {
      "text/plain": [
       "False"
      ]
     },
     "execution_count": 65,
     "metadata": {},
     "output_type": "execute_result"
    }
   ],
   "source": [
    "#EXERCÍCIO 12:\n"
   ]
  },
  {
   "cell_type": "code",
   "execution_count": null,
   "id": "1239343c",
   "metadata": {},
   "outputs": [],
   "source": [
    "#EXERCÍCIO 13:"
   ]
  },
  {
   "cell_type": "code",
   "execution_count": null,
   "id": "e4444f14",
   "metadata": {},
   "outputs": [],
   "source": [
    "#EXERCÍCIO 14:"
   ]
  },
  {
   "cell_type": "code",
   "execution_count": null,
   "id": "a99015e6",
   "metadata": {},
   "outputs": [],
   "source": [
    "#EXERCÍCIO 15:"
   ]
  },
  {
   "cell_type": "code",
   "execution_count": null,
   "id": "6cbe5d0e",
   "metadata": {},
   "outputs": [],
   "source": [
    "#EXERCÍCIO 16:"
   ]
  },
  {
   "cell_type": "code",
   "execution_count": null,
   "id": "cba14a52",
   "metadata": {},
   "outputs": [],
   "source": [
    "#EXERCÍCIO 17:"
   ]
  },
  {
   "cell_type": "code",
   "execution_count": null,
   "id": "5f2c888f",
   "metadata": {},
   "outputs": [],
   "source": [
    "#EXERCÍCIO 18:"
   ]
  },
  {
   "cell_type": "code",
   "execution_count": null,
   "id": "e8c5b8d8",
   "metadata": {},
   "outputs": [],
   "source": [
    "#EXERCÍCIO 19:"
   ]
  },
  {
   "cell_type": "code",
   "execution_count": null,
   "id": "b0562f53",
   "metadata": {},
   "outputs": [],
   "source": [
    "#EXERCÍCIO 20:"
   ]
  },
  {
   "cell_type": "code",
   "execution_count": null,
   "id": "e5aabc5b",
   "metadata": {},
   "outputs": [],
   "source": [
    "#EXERCÍCIO 21:"
   ]
  },
  {
   "cell_type": "code",
   "execution_count": null,
   "id": "b44cb52c",
   "metadata": {},
   "outputs": [],
   "source": [
    "#EXERCÍCIO 22:"
   ]
  },
  {
   "cell_type": "code",
   "execution_count": null,
   "id": "57437f9a",
   "metadata": {},
   "outputs": [],
   "source": [
    "#EXERCÍCIO 23:"
   ]
  },
  {
   "cell_type": "code",
   "execution_count": null,
   "id": "b1cea865",
   "metadata": {},
   "outputs": [],
   "source": [
    "#EXERCÍCIO 24:"
   ]
  },
  {
   "cell_type": "code",
   "execution_count": null,
   "id": "ebccc9ac",
   "metadata": {},
   "outputs": [],
   "source": [
    "#EXERCÍCIO 25:"
   ]
  },
  {
   "cell_type": "code",
   "execution_count": null,
   "id": "d9c563d8",
   "metadata": {},
   "outputs": [],
   "source": [
    "#EXERCÍCIO 26:"
   ]
  },
  {
   "cell_type": "code",
   "execution_count": null,
   "id": "a2cbdeb9",
   "metadata": {},
   "outputs": [],
   "source": [
    "#EXERCÍCIO 27:"
   ]
  },
  {
   "cell_type": "code",
   "execution_count": null,
   "id": "996e623a",
   "metadata": {},
   "outputs": [],
   "source": [
    "#EXERCÍCIO 28:"
   ]
  },
  {
   "cell_type": "code",
   "execution_count": null,
   "id": "fd965bac",
   "metadata": {},
   "outputs": [],
   "source": [
    "#EXERCÍCIO 29:"
   ]
  },
  {
   "cell_type": "code",
   "execution_count": null,
   "id": "031872fe",
   "metadata": {},
   "outputs": [],
   "source": [
    "#EXERCÍCIO 30:"
   ]
  }
 ],
 "metadata": {
  "kernelspec": {
   "display_name": "Python 3",
   "language": "python",
   "name": "python3"
  },
  "language_info": {
   "codemirror_mode": {
    "name": "ipython",
    "version": 3
   },
   "file_extension": ".py",
   "mimetype": "text/x-python",
   "name": "python",
   "nbconvert_exporter": "python",
   "pygments_lexer": "ipython3",
   "version": "3.12.3"
  }
 },
 "nbformat": 4,
 "nbformat_minor": 5
}
