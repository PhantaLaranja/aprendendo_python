{
 "cells": [
  {
   "cell_type": "code",
   "execution_count": 1,
   "id": "c2f9b069",
   "metadata": {},
   "outputs": [],
   "source": [
    "#BIBLIOTECAS - EXECUTAR TODA VEZ QUE ENTRAR\n",
    "from random import randint\n",
    "import numpy as np"
   ]
  },
  {
   "cell_type": "markdown",
   "id": "7ce3da54",
   "metadata": {},
   "source": [
    "Operadores em Python"
   ]
  },
  {
   "cell_type": "code",
   "execution_count": null,
   "id": "0da75f14",
   "metadata": {},
   "outputs": [],
   "source": [
    "5-3"
   ]
  },
  {
   "cell_type": "code",
   "execution_count": null,
   "id": "ddc41124",
   "metadata": {},
   "outputs": [],
   "source": [
    "5*3"
   ]
  },
  {
   "cell_type": "code",
   "execution_count": null,
   "id": "b3405a4e",
   "metadata": {},
   "outputs": [],
   "source": [
    "5/3"
   ]
  },
  {
   "cell_type": "code",
   "execution_count": null,
   "id": "c928a343",
   "metadata": {},
   "outputs": [],
   "source": [
    "5//3 #consegue a parte inteira"
   ]
  },
  {
   "cell_type": "code",
   "execution_count": null,
   "id": "a7802a14",
   "metadata": {},
   "outputs": [],
   "source": [
    "\n",
    "5%3 #módulo para conseguir o resto da divisão"
   ]
  },
  {
   "cell_type": "code",
   "execution_count": null,
   "id": "2289b9f8",
   "metadata": {},
   "outputs": [],
   "source": [
    "5**3 #potência"
   ]
  },
  {
   "cell_type": "code",
   "execution_count": null,
   "id": "1668e30e",
   "metadata": {},
   "outputs": [],
   "source": [
    "#use esse símbolo para digitar pra comentar\n",
    "\n",
    "num1 = 2\n",
    "num2 = 8\n",
    "num2 = num2 + num1\n",
    "\n",
    "print(num2)\n",
    "\n",
    "numero1 = 2\n",
    "numero2 = 8\n",
    "numero2 += numero1\n",
    "\n",
    "print(numero2)\n",
    "\n",
    "\n",
    "#pode-se usar +=,-=,*=,**=,/=,//=,%= e etc"
   ]
  },
  {
   "cell_type": "code",
   "execution_count": null,
   "id": "a73a7020",
   "metadata": {},
   "outputs": [],
   "source": [
    "print(1 == 1)\n",
    "\n",
    "print(1 != 1)"
   ]
  },
  {
   "cell_type": "code",
   "execution_count": null,
   "id": "f057092c",
   "metadata": {},
   "outputs": [],
   "source": [
    "p = True\n",
    "q = False\n",
    "\n",
    "print(p and q)"
   ]
  },
  {
   "cell_type": "code",
   "execution_count": null,
   "id": "cc8fa759",
   "metadata": {},
   "outputs": [],
   "source": [
    "p = True\n",
    "q = False\n",
    "\n",
    "print(p or q)"
   ]
  },
  {
   "cell_type": "code",
   "execution_count": null,
   "id": "163e0285",
   "metadata": {},
   "outputs": [],
   "source": [
    "p = True\n",
    "q = False\n",
    "\n",
    "print(not(p and q or p and q)) #pra colocar em negação, basta not()\n",
    "False\n",
    "name = input(\"Digite seu nome aqui: \")\n",
    "\n",
    "print(name)\n",
    "\n",
    "#por padrão aceita entrada de dados do tipo String"
   ]
  },
  {
   "cell_type": "code",
   "execution_count": null,
   "id": "0124ad39",
   "metadata": {},
   "outputs": [],
   "source": [
    "numero = int(input(\"Digite um número aqui: \"))\n",
    "\n",
    "print(numero)\n",
    "\n",
    "#aceita apenas entrada de um número do tipo inteiro"
   ]
  },
  {
   "cell_type": "code",
   "execution_count": null,
   "id": "51b7d329",
   "metadata": {},
   "outputs": [],
   "source": [
    "numero = 10\n",
    "nome = \"Erbert Richards\"\n",
    "numeroQuebrado = 10.00 \n",
    "\n",
    "type(nome)\n",
    "\n",
    "#verifica o tipo de dado"
   ]
  },
  {
   "cell_type": "code",
   "execution_count": null,
   "id": "781d79d2",
   "metadata": {},
   "outputs": [],
   "source": [
    "name = input(\"Digite seu nome: \")\n",
    "\n",
    "print(\"Bem-vindo, \" + name + \" como vai você?\")\n",
    "print(\"Bem-vindo,\", name, \" como vai você?\")\n",
    "print(f\"Bem-vindo, {name} como vai você\")"
   ]
  },
  {
   "cell_type": "code",
   "execution_count": null,
   "id": "db1bafbf",
   "metadata": {},
   "outputs": [],
   "source": [
    "textBlock = f\"\"\"\n",
    "            Coloque algum texto\n",
    "            aqui e será automaticamente\n",
    "            quebrado para a próxima\n",
    "            linha, {name}\n",
    "            \"\"\"\n",
    "\n",
    "print(textBlock)"
   ]
  },
  {
   "cell_type": "code",
   "execution_count": null,
   "id": "c1a70178",
   "metadata": {},
   "outputs": [],
   "source": [
    "dinheiro = float(input(\"Digite o quanto de dinheiro você tem: \"))\n",
    "\n",
    "if (dinheiro == 100):\n",
    "    print(f\"Humm... Legal.\")\n",
    "elif (dinheiro < 100):\n",
    "    print(f\"Você é muito pobre, {name}, não vai dar pra eu te pedir emprestado.\")\n",
    "else: \n",
    "    print(f\"Me doa um pouco de dinheiro aí {name}!\")"
   ]
  },
  {
   "cell_type": "markdown",
   "id": "6d327aee",
   "metadata": {},
   "source": [
    "LISTA DE EXERCÍCIOS - Estruturas Condicionais"
   ]
  },
  {
   "cell_type": "code",
   "execution_count": null,
   "id": "cd2ad3bd",
   "metadata": {},
   "outputs": [],
   "source": [
    "#EXERCÍCIO 1: Leia um número e diga se ele é positivo, negativo ou zero.\n",
    "\n",
    "numero = int(input(\"Digite um número qualquer: \"));\n",
    "\n",
    "if numero > 0:\n",
    "    print(f\"O número {numero} é maior que 0. Portanto, ele é positivo.\");\n",
    "elif numero < 0:\n",
    "    print(f\"O número {numero} é menor que 0. Portanto, ele é negativo.\");\n",
    "else: \n",
    "    print(f\"O número digitado é igual a 0.\");"
   ]
  },
  {
   "cell_type": "code",
   "execution_count": null,
   "id": "671baa5f",
   "metadata": {},
   "outputs": [],
   "source": [
    "#EXERCÍCIO 2: Leia dois números e imprima o maior deles.\n",
    "\n",
    "numero1 = int(input(\"Digite o primeiro número: \"));\n",
    "numero2 = int(input(\"Digite o segundo número: \"));\n",
    "\n",
    "if numero1 > numero2:\n",
    "    print(f\"O número {numero1} é maior que o número {numero2}.\");\n",
    "elif numero1 < numero2:\n",
    "    print(f\"O número {numero1} é menor que o número {numero2}.\");\n",
    "else: \n",
    "    print(f\"Ambos são iguais\");"
   ]
  },
  {
   "cell_type": "code",
   "execution_count": null,
   "id": "ebb65345",
   "metadata": {},
   "outputs": [],
   "source": [
    "#EXERCÍCIO 3: Leia três números e imprima o maior deles.\n",
    "\n",
    "numero1 = int(input(\"Digite o primeiro número: \"))\n",
    "numero2 = int(input(\"Digite o segundo número: \"))\n",
    "numero3 = int(input(\"Digite o terceiro número: \"))\n",
    "\n",
    "print(f\"primeiro número: {numero1}, segundo número: {numero2}, terceiro número: {numero3}\")\n",
    "\n",
    "if numero1 > numero2 and numero1 > numero3:\n",
    "    print(f\"O número {numero1} é o maior de todos.\")\n",
    "elif numero2 > numero1 and numero2 > numero3:\n",
    "    print(f\"O número {numero2} é o maior de todos.\") \n",
    "elif numero3 > numero1 and numero3 > numero2:\n",
    "    print(f\"O número {numero3} é o maior de todos.\")\n",
    "elif numero1 == numero2 and numero1 > numero3:\n",
    "    print(f\"O número {numero1} é maior que o número {numero3}\")\n",
    "elif numero1 == numero3 and numero1 > numero2:\n",
    "    print(f\"O número {numero1} é maior que o número {numero2}\")\n",
    "elif numero2 == numero3 and numero2 > numero1:\n",
    "    print(f\"O número {numero2} é maior que o número {numero1}\")\n",
    "else:\n",
    "    print(\"Todos os números são iguais\")"
   ]
  },
  {
   "cell_type": "code",
   "execution_count": null,
   "id": "c6144cc3",
   "metadata": {},
   "outputs": [],
   "source": [
    "#EXERCÍCIO 4: Leia dois números e diga se eles são iguais ou diferentes.\n",
    " \n",
    "number1 = int(input(\"Digite um número: \"))\n",
    "number2 = int(input(\"Digite um segundo número: \"))\n",
    "\n",
    "print(f\"Primeiro número: {number1}, segundo número: {number2}\")\n",
    "\n",
    "if number1 != number2:\n",
    "    print(f\"O número {number1} é diferente de {number2}\")\n",
    "else:\n",
    "    print(\"Ambos números são iguais\")"
   ]
  },
  {
   "cell_type": "code",
   "execution_count": null,
   "id": "9448b2b7",
   "metadata": {},
   "outputs": [],
   "source": [
    "#EXERCÍCIO 5: Leia a idade de uma pessoa e informe se ela é maior de idade (18 anos\n",
    "#ou mais).\n",
    "\n",
    "idade = int(input(\"Por gentileza, digite sua idade: \"))\n",
    "\n",
    "acessoPermitido = \"\"\"\n",
    "Acesso permitido.\n",
    "Seja bem-vindo(a)\n",
    "ao nosso site!\n",
    "\"\"\"\n",
    "acessoNegado = \"\"\"\n",
    "Acesso negado.\n",
    "Não permitimos\n",
    "menores de 18 anos...\n",
    "\"\"\"\n",
    "\n",
    "if idade >= 18:\n",
    "    print(acessoPermitido)\n",
    "else:\n",
    "    print(acessoNegado)"
   ]
  },
  {
   "cell_type": "code",
   "execution_count": null,
   "id": "32d0d20c",
   "metadata": {},
   "outputs": [],
   "source": [
    "#EXERCÍCIO 6: Leia três números e imprima-os em ordem crescente.\n",
    "\n",
    "numero1 = int(input(\"Digite o primeiro número: \"))\n",
    "numero2 = int(input(\"Digite o segundo número: \"))\n",
    "numero3 = int(input(\"Digite o terceiro número: \"))\n",
    "\n",
    "print(f\"primeiro número: {numero1}, segundo número: {numero2}, terceiro número: {numero3}\")\n",
    "\n",
    "if numero1 > numero2 and numero1 > numero3:\n",
    "    if numero2 > numero3:\n",
    "        print(f\"Em ordem crescente, temos: {numero3}, {numero2}, {numero1}.\")\n",
    "    else: \n",
    "        print(f\"Em ordem crescente, temos: {numero2}, {numero3}, {numero1}.\")\n",
    "\n",
    "elif numero2 > numero1 and numero2 > numero3:\n",
    "    if numero1 > numero3:\n",
    "        print(f\"Em ordem crescente, temos: {numero3}, {numero1}, {numero2}.\")\n",
    "    else: \n",
    "        print(f\"Em ordem crescente, temos: {numero1}, {numero3}, {numero2}.\")\n",
    "\n",
    "elif numero3 > numero1 and numero3 > numero2:\n",
    "    if numero1 > numero2:\n",
    "        print(f\"Em ordem crescente, temos: {numero2}, {numero1}, {numero3}.\")\n",
    "    else: \n",
    "        print(f\"Em ordem crescente, temos: {numero1}, {numero2}, {numero3}.\") \n",
    "\n",
    "else:\n",
    "    print(f\"Todos o números são iguais. Por tanto, temos na lista apenas: {numero1}\")"
   ]
  },
  {
   "cell_type": "code",
   "execution_count": null,
   "id": "5d3f213b",
   "metadata": {},
   "outputs": [],
   "source": [
    "#EXERCÍCIO 7: Leia um número e diga se ele é par ou ímpar.\n",
    "\n",
    "numero = int(input(\"Digite o primeiro número: \"))\n",
    "\n",
    "resto = numero % 2\n",
    "\n",
    "if resto == 0:\n",
    "    print(\"O número é par.\")\n",
    "else:\n",
    "    print(\"O número é ímpar\")"
   ]
  },
  {
   "cell_type": "code",
   "execution_count": null,
   "id": "22938db4",
   "metadata": {},
   "outputs": [],
   "source": [
    "#EXERCÍCIO 8: Leia a nota de um aluno (0 a 10) e informe se ele está aprovado (nota\n",
    "#>= 6).\n",
    "\n",
    "notaAluno = float(input(\"Digite a nota de um aluno de 0 a 10: \"))\n",
    "\n",
    "if notaAluno >= 6:\n",
    "    print(\"Aluno aprovado!\")\n",
    "else:\n",
    "    print('Aluno não aprovado!')"
   ]
  },
  {
   "cell_type": "code",
   "execution_count": null,
   "id": "3de04c2c",
   "metadata": {},
   "outputs": [],
   "source": [
    "#EXERCÍCIO 9: Leia a altura e o sexo de uma pessoa e calcule seu peso ideal.\n",
    "\n",
    "#quando for comparar strings, usar o método upper() para converter tudo para o caixa-alta ou lower() para o caixa-baixa,\n",
    "#ou poderia colocar em print(sexo.lower())\n",
    "\n",
    "altura = float(input(\"Por favor, digite sua altura: \"))\n",
    "sexo = input(\"Digite seu sexo de nascimento: \").lower()\n",
    "\n",
    "if sexo == 'homem':\n",
    "    pesoIdeal = (72.7 * altura) - 58\n",
    "    print(f\"O seu peso ideal é {pesoIdeal}\")\n",
    "else: \n",
    "    pesoIdeal = (62.1 * altura) - 44.7\n",
    "    print(f\"O seu peso ideal é {pesoIdeal}\")\n"
   ]
  },
  {
   "cell_type": "code",
   "execution_count": null,
   "id": "32b43e96",
   "metadata": {},
   "outputs": [],
   "source": [
    "#EXERCÍCIO 10: Leia dois valores e informe qual é o menor.\n",
    "\n",
    "num1 = int(input(\"Digite um número inteiro: \"))\n",
    "num2 = int(input(\"Digite um outro número inteiro: \"))\n",
    "\n",
    "if num1 < num2:\n",
    "    print(f\"O número {num1} é menor que {num2}\")\n",
    "else: \n",
    "    print(f\"O número {num2} é menor que {num1}\")"
   ]
  },
  {
   "cell_type": "code",
   "execution_count": null,
   "id": "9b8a86d9",
   "metadata": {},
   "outputs": [],
   "source": [
    "#EXERCÍCIO 11: Leia três lados e determine se formam um triângulo.\n",
    "\n",
    "ladoA = float(input(\"Digite um tamanho para o lado A: \"))\n",
    "ladoB = float(input(\"Digite um tamanho para o lado B: \"))\n",
    "ladoC = float(input(\"Digite um tamanho para o lado C: \"))\n",
    "\n",
    "mensagem1 = 'Forma um triângulo!'\n",
    "mensagem2 = 'Não forma um triângulo!'\n",
    "\n",
    "if (ladoA + ladoB > ladoC) and (ladoA + ladoB > ladoC) and (ladoB + ladoC > ladoA):\n",
    "    print(\"Forma um triângulo!\")\n",
    "else:\n",
    "    print(\"Não forma um triângulo!\")    \n",
    " \n"
   ]
  },
  {
   "cell_type": "code",
   "execution_count": null,
   "id": "ecfd3496",
   "metadata": {},
   "outputs": [],
   "source": [
    "#EXERCÍCIO 12: Leia o salário de um funcionário e aplique:\n",
    "\n",
    "salario = float(input(\"Digite o seu salário aqui: \"))\n",
    "\n",
    "if 0 < salario < 1501:\n",
    "    salario *= 1.1\n",
    "    print(f\"Seu salário ganhou um aumento de 10%. Agora você ganhará {salario}\")\n",
    "else: \n",
    "    salario *= 1.05\n",
    "    print(f\"Seu salário ganhou um aumento de 5%. Agora você ganhará {salario}\")\n"
   ]
  },
  {
   "cell_type": "code",
   "execution_count": null,
   "id": "1239343c",
   "metadata": {},
   "outputs": [],
   "source": [
    "#EXERCÍCIO 13: Leia a nota de um aluno e classifique:\n",
    "\n",
    "notaAluno = float(input(\"Digite a nota do aluno aqui: \"))\n",
    "\n",
    "if notaAluno >= 9:\n",
    "    print(\"Excelente\")\n",
    "elif 7 <= notaAluno < 9:\n",
    "    print(\"Bom\")\n",
    "elif 5 <= notaAluno < 7:\n",
    "    print(\"Regular\")\n",
    "else:\n",
    "    print(\"Insuficiente\")\n"
   ]
  },
  {
   "cell_type": "code",
   "execution_count": null,
   "id": "e4444f14",
   "metadata": {},
   "outputs": [],
   "source": [
    "#EXERCÍCIO 14: Leia um número inteiro e verifique se ele é múltiplo de 3 e de 5.\n",
    "\n",
    "numMultiplo = int(input(\"Digite um número: \"))\n",
    "\n",
    "if (numMultiplo % 3 == 0) and (numMultiplo % 5 == 0):\n",
    "    print(f'O número {numMultiplo} é múltiplo de 3 e de 5.')\n",
    "elif numMultiplo % 3 == 0:\n",
    "    print(f'O número {numMultiplo} é múltiplo de 3.')\n",
    "elif numMultiplo % 5 == 0:\n",
    "    print(f'O número {numMultiplo} é múltiplo de 5.')\n",
    "else: \n",
    "    print(f'O número {numMultiplo} não é múltiplo de 3, nem de 5.')"
   ]
  },
  {
   "cell_type": "code",
   "execution_count": null,
   "id": "a99015e6",
   "metadata": {},
   "outputs": [],
   "source": [
    "#EXERCÍCIO 15: Leia a temperatura em graus Celsius e converta para Fahrenheit.\n",
    "\n",
    "temperatureCelsius = float(input('Converta a temperatura de Celsius (°C) para Fahreinheit (°F): '))\n",
    "\n",
    "temperatureFahreinheit = (9*temperatureCelsius/5)+32 \n",
    "print(f\"{temperatureFahreinheit} °F\")\n",
    "\n",
    "temperatureFahreinheit = float(input(\"Converta a temperatura de Fahreinheit (°F) para Celsius (°C): \"))\n",
    "\n",
    "temperatureCelsius = 5*(temperatureFahreinheit-32)/9\n",
    "print(f\"{temperatureCelsius} °C\")\n"
   ]
  },
  {
   "cell_type": "code",
   "execution_count": null,
   "id": "6cbe5d0e",
   "metadata": {},
   "outputs": [],
   "source": [
    "#EXERCÍCIO 16: Leia quatro números e imprima o maior e o menor entre eles.\n",
    "\n",
    "num1 = int(input(\"Digite um número: \"))\n",
    "num2 = int(input(\"Digite um número: \"))\n",
    "num3 = int(input(\"Digite um número: \"))\n",
    "num4 = int(input(\"Digite um número: \"))\n",
    "\n",
    "print(num1, num2, num3, num4)\n",
    "#testa se há ao menos um número repetido\n",
    "if num1 == num2 == num3 == num4:\n",
    "    print(\"Nenhum número é maior ou menor, pois todos os números são iguais!\")\n",
    "\n",
    "#testa quem é o maior primeiro, depois o menor \n",
    "elif (num1 >= num2) and (num1 >= num3) and (num1 >= num4): # Se Verdadeiro: num1 > que todos; Se Falso: Então pula esse bloco \n",
    "    print(f\"O número {num1} é o maior\")\n",
    "    if (num2 < num3) and (num2 < num4): #V: num2 < que num3 e num4 (para) F: num2 maior que num3 e num4 (pula)\n",
    "        print(f\"O número {num2} é o menor\")\n",
    "    elif (num3 < num4): #num3 e num4 menor que num2 \n",
    "        print(f\"O número {num3} é o menor\")\n",
    "    else:\n",
    "        print(f\"O número {num4} é o menor\")\n",
    "        \n",
    "#repito o processo, mas troco algumas variáveis de lugares e vou testando se cada variavel é maior para depois testar quem do restante é menor\n",
    "elif (num2 >= num3) and (num2 >= num4) and (num2 >= num1): \n",
    "    print(f\"O número {num2} é o maior\")\n",
    "    if (num1 < num3) and (num1 < num4): \n",
    "        print(f\"O número {num1} é o menor\")\n",
    "    elif (num3 < num4): \n",
    "        print(f\"O número {num3} é o menor\")\n",
    "    else:\n",
    "        print(f\"O número {num4} é o menor\")\n",
    "    \n",
    "elif (num3 >= num4) and (num3 >= num2) and (num3 >= num1): \n",
    "    print(f\"O número {num3} é o maior\")\n",
    "    if (num1 < num2) and (num1 < num4): \n",
    "        print(f\"O número {num1} é o menor\")\n",
    "    elif (num2 < num4):\n",
    "        print(f\"O número {num2} é o menor\")\n",
    "    else:\n",
    "        print(f\"O número {num4} é o menor\")\n",
    "    \n",
    "elif (num4 >= num3) and (num4 >= num2) and (num4 >= num1): \n",
    "    print(f\"O número {num4} é o maior\")\n",
    "    if (num1 < num2) and (num1 < num3):\n",
    "        print(f\"O número {num1} é o menor\")\n",
    "    elif (num3 < num2): \n",
    "        print(f\"O número {num3} é o menor\")\n",
    "    else:\n",
    "        print(f\"O número {num2} é o menor\")"
   ]
  },
  {
   "cell_type": "code",
   "execution_count": null,
   "id": "cba14a52",
   "metadata": {},
   "outputs": [],
   "source": [
    "#EXERCÍCIO 17: Dado o dia e o mês, informe a estação do ano (considerando datas\n",
    "#aproximadas do hemisfério sul).\n",
    "dia = int(input(\"Escreva o dia apenas com número: ex: 21 \"))\n",
    "mes = int(input(\"Escreva o mês apenas com número: ex: 12 \"))\n",
    "\n",
    "#Verão\n",
    "if mes == 12: #dezembro\n",
    "    if (dia >= 21) and (dia <= 31):\n",
    "        print(f\"No dia {dia} do mês de Dezembro é VERÃO!\")\n",
    "\n",
    "elif mes == 1: #janeiro\n",
    "    if (dia >= 1) and (dia <= 31):\n",
    "        print(f\"No dia {dia} do mês de Janeiro é VERÃO!\")\n",
    "\n",
    "elif mes == 2: #fevereiro\n",
    "    if (dia >= 1) and (dia <= 28):\n",
    "        print(f\"No dia {dia} do mês de Fevereiro é VERÃO!\")\n",
    "\n",
    "elif mes == 3: #março \n",
    "    if (dia >= 1) and (dia < 20):\n",
    "        print(f\"No dia {dia} do mês de Março é VERÃO!\")\n",
    "\n",
    "#Outono\n",
    "elif mes == 3: #março\n",
    "    if (dia >= 20) and (dia <=31):\n",
    "        print(f\"No dia {dia} do mês de Março é OUTONO!\")\n",
    "\n",
    "elif mes == 4: #abril\n",
    "    if (dia >= 1) and (dia <= 30):\n",
    "        print(f\"No dia {dia} do mês de Abril é OUTONO!\")\n",
    "\n",
    "elif mes == 5: #maio\n",
    "    if (dia >= 1) and (dia <= 31):\n",
    "        print(f\"No dia {dia} do mês de Maio é OUTONO!\")\n",
    "\n",
    "elif mes == 6: #junho\n",
    "    if (dia >= 1) and (dia < 21):\n",
    "        print(f\"No dia {dia} do mês de Junho é OUTONO!\")\n",
    "\n",
    "#Inverno\n",
    "elif mes == 6: #junho\n",
    "    if (dia >= 20) and (dia <=30):\n",
    "        print(f\"No dia {dia} do mês de Junho é INVERNO!\")\n",
    "\n",
    "elif mes == 7: #julho\n",
    "    if (dia >= 1) and (dia <= 31):\n",
    "        print(f\"No dia {dia} do mês de Julho é INVERNO!\")\n",
    "\n",
    "elif mes == 8: #agosto\n",
    "    if (dia >= 1 and dia <= 31):\n",
    "        print(f\"No dia {dia} do mês de Agosto é INVERNO!\")\n",
    "\n",
    "elif mes == 9: #setembro\n",
    "    if (dia >= 1 and dia < 21):\n",
    "        print(f\"No dia {dia} do mês de Setembro é INVERNO!\")\n",
    "\n",
    "#Primavera\n",
    "elif mes == 9: #setembro\n",
    "    if (dia >= 21 and dia <= 30):\n",
    "        print(f\"No dia {dia} do mês de Setembro é PRIMAVERA!\")\n",
    "\n",
    "elif mes == 10: #outubro\n",
    "    if (dia >= 1 and dia <= 31):\n",
    "        print(f\"No dia {dia} do mês de Outubro é PRIMAVERA!\")\n",
    "\n",
    "elif mes == 11: #novembro\n",
    "    if (dia >= 1 and dia <= 30):\n",
    "        print(f\"No dia {dia} do mês de Novembro é PRIMAVERA!\")\n",
    "\n",
    "elif mes == 12: #dezembro\n",
    "    if (dia >= 1 and dia < 21):\n",
    "        print(f\"No dia {dia} do mês de Dezembro é PrIMAVERA!\")\n",
    "\n"
   ]
  },
  {
   "cell_type": "code",
   "execution_count": null,
   "id": "5f2c888f",
   "metadata": {},
   "outputs": [],
   "source": [
    "#EXERCÍCIO 18: Leia três números e determine se eles podem ser lados de um\n",
    "#triângulo e, em caso positivo, classifique-o (equilátero, isósceles ou\n",
    "#escaleno).\n",
    "\n",
    "ladoA = int(input(\"Digite um tamanho para o lado A: \"))\n",
    "ladoB = int(input(\"Digite um tamanho para o lado B: \"))\n",
    "ladoC = int(input(\"Digite um tamanho para o lado C: \"))\n",
    "\n",
    "if (ladoA + ladoB > ladoC) and (ladoA + ladoB > ladoC) and (ladoB + ladoC > ladoA):\n",
    "    if ladoA == ladoB or ladoA == ladoC or ladoB == ladoC:\n",
    "        print('Forma um triângulo isósceles, pois dois lados são iguais.')\n",
    "    elif ladoA == ladoB == ladoC:\n",
    "        print('Forma um triângulo equilátero, pois todos os lados são iguais.')\n",
    "    elif ladoA != ladoB != ladoC:\n",
    "        print('Forma um triãngulo escaleno, pois todos os lados são diferentes.')\n",
    "    \n",
    "else:\n",
    "    print('Não forma um triângulo')"
   ]
  },
  {
   "cell_type": "code",
   "execution_count": null,
   "id": "e8c5b8d8",
   "metadata": {},
   "outputs": [],
   "source": [
    "#EXERCÍCIO 19: Leia um número inteiro e exiba o seu valor absoluto.\n",
    "\n",
    "x = int(input(\"Digite um número inteiro: \"))\n",
    "\n",
    "if x >= 0:\n",
    "    print(x)\n",
    "elif x < 0:\n",
    "    print(-x) "
   ]
  },
  {
   "cell_type": "code",
   "execution_count": null,
   "id": "b0562f53",
   "metadata": {},
   "outputs": [],
   "source": [
    "#EXERCÍCIO 20: Leia três notas e calcule a média ponderada:\n",
    "\n",
    "nota1 = int(input(\"Digite uma nota de 0 a 10: \"))\n",
    "nota2 = int(input(\"Digite uma nota de 0 a 10: \")) \n",
    "nota3 = int(input(\"Digite uma nota de 0 a 10: \")) \n",
    "\n",
    "#verifica primeiramente se a entrada de dados está correta\n",
    "if  0 <= (nota1 and nota2 and nota3) <= 10:\n",
    "\n",
    "#media ponderada\n",
    "    media_nota = (nota1 * 2 + nota2 * 3 + nota3 * 5)/(2 + 3 + 5)\n",
    "\n",
    "#classifica as notas \n",
    "    if media_nota >= 7:\n",
    "        print(\"Aprovado!\")\n",
    "\n",
    "    if 4 <= media_nota < 7:\n",
    "        print(\"Recuperação!\")\n",
    "\n",
    "    if media_nota < 4:\n",
    "        print(\"Reprovado!\")\n",
    "\n",
    "    print(f\"A média foi de {media_nota}\")\n",
    "\n",
    "#caso a primeira não condição seja atendida, isto é, números negativos e números maiores que 10\n",
    "else:\n",
    "    print(\"Apenas são aceitos notas de 0 a 10, por favor, tente novamente.\")"
   ]
  },
  {
   "cell_type": "code",
   "execution_count": null,
   "id": "e5aabc5b",
   "metadata": {},
   "outputs": [],
   "source": [
    "#EXERCÍCIO 21: Leia uma hora no formato (hora, minuto) e diga se é um horário\n",
    "#válido.\n",
    "print(\"Olá!\")\n",
    "\n",
    "horas = int(input(f\"Digite o horário no formato horas:minutos começando pelas horas: \"))\n",
    "minutos = int(input(f\"Digite os minutos: \"))\n",
    "\n",
    "if 0 <= horas <= 24 and 0 <= minutos <= 60:\n",
    "\n",
    "    if 0 <= horas < 12:\n",
    "        print(\"É de madrugada.\")\n",
    "    elif 12 >= horas < 18:\n",
    "        print(\"Está tarde.\")\n",
    "    elif 18 >= horas < 0:\n",
    "        print(\"Boa noite!\")\n",
    "\n",
    "\n",
    "    if minutos == 0:\n",
    "        minutos = \"00\"\n",
    "    if horas == 0:\n",
    "        horas = \"00\"\n",
    "    horario = f\"{horas}:{minutos}\"\n",
    "    print(f\"Já são {horario}!\")"
   ]
  },
  {
   "cell_type": "code",
   "execution_count": null,
   "id": "b44cb52c",
   "metadata": {},
   "outputs": [],
   "source": [
    "#EXERCÍCIO 22: Leia três números e diga se eles podem formar uma progressão\n",
    "#aritmética.\n",
    "\n",
    "print('Seja em ordem crescente ou decrescente:')\n",
    "n1 = int(input('Digite o primeiro termo (A1)')) #Uma P.A. é dada por An = A1 + (k-1)R\n",
    "n2 = int(input('Digite o segundo termo (A2)')) #Para saber se um conjunto de dados forma uma P.A. preciso somente calcular se a razão de TODOS os números é a mesma\n",
    "n3 = int(input('Digite o terceiro termo (A3)')) #fazendo por exemplo: a2 - a1 = a3 - a2\n",
    "\n",
    "print(f'números digitados em sequência {n1, n2, n3}')\n",
    "\n",
    "if (n2 - n1) == (n3 - n2):\n",
    "    print('Forma uma Progressão Aritmétíca!')\n",
    "else: \n",
    "    print('Não forma uma Progressão Aritmética')\n",
    "\n"
   ]
  },
  {
   "cell_type": "code",
   "execution_count": null,
   "id": "57437f9a",
   "metadata": {},
   "outputs": [],
   "source": [
    "#EXERCÍCIO 23: Leia a idade e o tempo de contribuição de um trabalhador e diga se\n",
    "#ele pode se aposentar.\n",
    "\n",
    "sexo = input('Homem ou Mulher? ') #Desculpe não-binários!! \n",
    "idade = int(input('Sua idade: '))\n",
    "tempoContribuicao = int(input('Seu tempo de contribuição em anos: '))\n",
    "\n",
    "#Homem\n",
    "if sexo.lower() == 'homem': \n",
    "    if tempoContribuicao >= 35  or idade >= 65:\n",
    "        print('Pode se aposentar')\n",
    "    else:\n",
    "        print('Não pode se aposentar')\n",
    "#Mulher\n",
    "if sexo.lower() == 'mulher': \n",
    "    if tempoContribuicao >= 30 or idade >= 60:\n",
    "        print('Pode se aposentar')\n",
    "    else:\n",
    "        print('Não pode se aposentar')"
   ]
  },
  {
   "cell_type": "code",
   "execution_count": null,
   "id": "b1cea865",
   "metadata": {},
   "outputs": [],
   "source": [
    "#EXERCÍCIO 24: Ler três números e mostrar a soma dos dois maiores.\n",
    "\n",
    "num1 = int(input('Digite o primeiro número: '))\n",
    "num2 = int(input('Digite o segundo número: '))\n",
    "num3 = int(input('Digite o terceiro número: '))\n",
    "\n",
    "print(f\"{num1, num2, num3}\")\n",
    "\n",
    "if num1 == num2 == num3:\n",
    "    soma = num1 + num2 + num3\n",
    "    print(f'Todos os números digitados são iguais. Por tanto, a soma deles é de {soma}')\n",
    "\n",
    "elif num1 >= num2 and num1 >= num3: #se o num1 for maior, ele vai testar depois quem dos dois outros números são maiores e, finalmente, somar e imprimir\n",
    "    if num2 == num3:\n",
    "        print(f'Os números {num1, num2} são os maiores') \n",
    "        num1 += num2\n",
    "        print(f'Portanto, a soma entre eles é de {num1}')\n",
    "    elif num2 > num3:\n",
    "        print(f'Os números {num1, num2} são os maiores') \n",
    "        num1 += num2\n",
    "        print(f'Portanto, a soma entre eles é de {num1}')\n",
    "    elif num3 > num2:\n",
    "        print(f'Os números {num1, num3} são os maiores')\n",
    "        num1 += num3\n",
    "        print(f'Portanto, a soma entre eles é de {num1}')\n",
    "    \n",
    "elif num2 >= num1 and num2 >= num3: \n",
    "    if num1 == num3:\n",
    "        print(f'Os números {num2, num1} são os maiores') \n",
    "        num2 += num1\n",
    "        print(f'Portanto, a soma entre eles é de {num2}')\n",
    "    elif num1 > num3:\n",
    "        print(f'Os números {num2, num1} são os maiores') \n",
    "        num2 += num1\n",
    "        print(f'Portanto, a soma entre eles é de {num2}')\n",
    "    elif num3 > num1:\n",
    "        print(f'Os números {num2, num3} são os maiores')\n",
    "        num2 += num3\n",
    "        print(f'Portanto, a soma entre eles é de {num2}')\n",
    "\n",
    "elif num3 >= num1 and num3 >= num2: \n",
    "    if num2 == num1:\n",
    "        print(f'Os números {num3, num1} são os maiores') \n",
    "        num3 += num2\n",
    "        print(f'Portanto, a soma entre eles é de {num3}')\n",
    "    elif num1 > num2:\n",
    "        print(f'Os números {num3, num2} são os maiores') \n",
    "        num3 += num1\n",
    "        print(f'Portanto, a soma entre eles é de {num3}')\n",
    "    elif num2 > num1:\n",
    "        print(f'Os números {num3, num2} são os maiores')\n",
    "        num3 += num2\n",
    "        print(f'Portanto, a soma entre eles é de {num3}')\n",
    "    \n",
    "    "
   ]
  },
  {
   "cell_type": "code",
   "execution_count": null,
   "id": "ebccc9ac",
   "metadata": {},
   "outputs": [],
   "source": [
    "#EXERCÍCIO 25: Ler um número inteiro e exibir se ele é múltiplo de 4, 6 e 9\n",
    "#simultaneamente.\n",
    "\n",
    "x = int(input('Digite um número qualquer para verificar se é múltiplo de 4, 6 e 9'))\n",
    "\n",
    "if x % 4 == 0 and x % 6 == 0 and x % 9 == 0:\n",
    "    print(f\"{x} é um múltiplo de 4, 6 e 9!\")\n",
    "\n",
    "else: \n",
    "    print(f'{x} não é múltiplo de 4, 6 e 9.')"
   ]
  },
  {
   "cell_type": "code",
   "execution_count": null,
   "id": "d9c563d8",
   "metadata": {},
   "outputs": [],
   "source": [
    "#EXERCÍCIO 26: Dado um número inteiro de três dígitos, verificar se ele é um número\n",
    "#de Armstrong (cada dígito elevado à terceira potência, somados, dá o\n",
    "#próprio número).\n",
    "\n",
    "numero = int(input('Digite um número com 3 dígitos'))\n",
    "\n",
    "centena = numero//100\n",
    "dezena = numero//10%10\n",
    "unidade = numero%10\n",
    "\n",
    "print(centena, dezena, unidade)\n",
    "\n",
    "if centena**3 + dezena**3 + unidade**3 == numero:\n",
    "    print('É um número de Armstrong')\n",
    "else:\n",
    "    print('Não é um número de Armstrong')"
   ]
  },
  {
   "cell_type": "code",
   "execution_count": null,
   "id": "a2cbdeb9",
   "metadata": {},
   "outputs": [],
   "source": [
    "#EXERCÍCIO 27: Leia o valor de três lados e determine o tipo de triângulo formado\n",
    "#(Equilátero, Isósceles, Escaleno) e também se ele é Retângulo (aplicando o\n",
    "#Teorema de Pitágoras).\n",
    "\n",
    "ladoA = float(input(\"Digite um tamanho para o lado A: \")) #float pois pra caso tenha um triâgulo retângulo isósceles, onde a diagonal é \"lado * sqrt(2)\"\n",
    "ladoB = float(input(\"Digite um tamanho para o lado B: \")) #o problema é que quando isso acontece, nesse programa não imprime que é um triângulo retângulo\n",
    "ladoC = float(input(\"Digite um tamanho para o lado C: \")) #apenas que é um triângulo isósceles...\n",
    "\n",
    "if (ladoA + ladoB > ladoC) and (ladoA + ladoB > ladoC) and (ladoB + ladoC > ladoA):\n",
    "    if ((ladoA**2) == (ladoB**2) + (ladoC**2)) or ((ladoB**2) == (ladoA**2) + (ladoC**2)) or ((ladoC**2) == (ladoA**2) + (ladoB**2)):\n",
    "        print('Forma um triângulo retângulo, pois o quadrado da hipotenusa é igual a soma dos quadrados dos catetos (Teorema de Pitágoras)')\n",
    "    if ladoA == ladoB or ladoA == ladoC or ladoB == ladoC:\n",
    "        print('Forma um triângulo isósceles, pois dois lados são iguais.')\n",
    "    elif ladoA == ladoB == ladoC:\n",
    "        print('Forma um triângulo equilátero, pois todos os lados são iguais.')\n",
    "    elif ladoA != ladoB != ladoC:\n",
    "        print('Forma um triãngulo escaleno, pois todos os lados são diferentes.')\n",
    "    \n",
    "else:\n",
    "    print('Não forma um triângulo')"
   ]
  },
  {
   "cell_type": "code",
   "execution_count": null,
   "id": "996e623a",
   "metadata": {},
   "outputs": [],
   "source": [
    "#EXERCÍCIO 28: Um caixa eletrônico deve entregar o menor número de notas possíveis   \n",
    "#para um valor. Disponível: notas de 100, 50, 20, 10, 5, 2 e 1.\n",
    "\n",
    "valor = int(input('Digite um valor para sacar'))\n",
    "\n",
    "nota100 = valor//100 #12 notas\n",
    "valor = valor%100 #58\n",
    "nota50 = valor//50\n",
    "valor = valor%50\n",
    "nota20 = valor//20\n",
    "valor = valor%20\n",
    "nota10 = valor//10\n",
    "valor = valor%10\n",
    "nota5 = valor//5\n",
    "valor = valor%5\n",
    "nota2 = valor//2\n",
    "valor = valor%2\n",
    "nota1 = valor\n",
    "\n",
    "total = nota100 + nota50 + nota20 + nota10 + nota5 + nota2 + nota1\n",
    "\n",
    "mensagem = f\"\"\"\n",
    "notas de 100: {nota100}\n",
    "notas de 50: {nota50}\n",
    "notas de 20: {nota20}\n",
    "notas de 10: {nota10}\n",
    "notas de 5: {nota5}\n",
    "notas de 2: {nota2}\n",
    "notas de 1: {nota1}\n",
    "total = {total}\n",
    "\"\"\"\n",
    "\n",
    "print(mensagem)"
   ]
  },
  {
   "cell_type": "code",
   "execution_count": null,
   "id": "fd965bac",
   "metadata": {},
   "outputs": [],
   "source": [
    "#EXERCÍCIO 29: Leia quatro números e verifique se eles podem ser os lados de um\n",
    "#quadrilátero qualquer, e classifique-o.\n",
    "\n",
    "num1 = float(input(\"Digite um valor:\"))\n",
    "num2 = float(input(\"Digite um valor:\"))\n",
    "num3 = float(input(\"Digite um valor:\"))\n",
    "num4 = float(input(\"Digite um valor:\"))\n",
    "\n",
    "angulo = int(input(\"Todos os 4 ângulos internos são iguais a 90°? Se 'sim' digite '1', se 'não' digite '0'  \"))\n",
    "\n",
    "if num1 == num2 == num3 == num4 and angulo == 1:\n",
    "    print('É um quadrado')\n",
    "elif num1 == num2 and num3 == num4 and angulo == 1:\n",
    "    print('É um retângulo')\n",
    "else: \n",
    "    print('É outro tipo de quadrilátero')"
   ]
  },
  {
   "cell_type": "code",
   "execution_count": null,
   "id": "031872fe",
   "metadata": {},
   "outputs": [],
   "source": [
    "#EXERCÍCIO 30: Um número é chamado de \"mágico\" se a soma dos seus dígitos é igual\n",
    "#a 7. Leia um número inteiro de até três dígitos e determine se ele é\n",
    "#mágico.\n",
    "\n",
    "num = int(input('Escreva um número de 3 dígitos'))\n",
    "\n",
    "centena = num//100\n",
    "dezena = num//10%10\n",
    "unidade = num%10\n",
    "\n",
    "print(centena, dezena, unidade)\n",
    "\n",
    "if 7 == centena + dezena + unidade:\n",
    "    print('É um dos números mágicos! (são 3 ao todo)') #223, 232 e 322\n",
    "else: \n",
    "    print('Não é o número mágico')\n"
   ]
  },
  {
   "cell_type": "markdown",
   "id": "bd5fd4d4",
   "metadata": {},
   "source": [
    "Lista de Exercícios - For e While"
   ]
  },
  {
   "cell_type": "code",
   "execution_count": null,
   "id": "3521289d",
   "metadata": {},
   "outputs": [],
   "source": [
    "#1: Escreva um algoritmo que imprima os números de 1 a 10 \n",
    "i = 0\n",
    "\n",
    "while i < 10:\n",
    "    i += 1\n",
    "    print(i)\n",
    "\n",
    "print('Fim do programa.')\n",
    "\n",
    "#PODE SER RESOLVIDO COM WHILE OU FOR"
   ]
  },
  {
   "cell_type": "code",
   "execution_count": null,
   "id": "e1054c2e",
   "metadata": {},
   "outputs": [],
   "source": [
    "#2: Escreva um algoritmo que imprima os números pares de 0 a 20 \n",
    "i = 0\n",
    "\n",
    "while i < 20:\n",
    "    if i % 2 == 0:\n",
    "        print(i)\n",
    "    i += 1\n",
    "\n",
    "print('Fim do programa.')\n",
    "\n",
    "#TAMBÉM PODE SER RESOLVIDO COM WHILE OU FOR"
   ]
  },
  {
   "cell_type": "code",
   "execution_count": null,
   "id": "a986df9d",
   "metadata": {},
   "outputs": [],
   "source": [
    "#3: Escreva um algoritmo que calcule a soma de números de 1 a 100\n",
    "\n",
    "a = int(input('Digite até que número você quer que termine a soma começando do 1: '))\n",
    "n = 0\n",
    "soma = 0\n",
    "\n",
    "while n < a:\n",
    "    n += 1 \n",
    "    soma += n\n",
    "    if n == a:\n",
    "        print(f'A soma dos números de 1 a {a} é {soma}')\n",
    "print('Fim do programa.')\n",
    "\n",
    "#TAMBÉM PODE SER RESOLVIDO COM WHILE OU FOR"
   ]
  },
  {
   "cell_type": "code",
   "execution_count": null,
   "id": "3c3d8762",
   "metadata": {},
   "outputs": [],
   "source": [
    "#4: Escreva um algoritmo um que imprima a tabuada de um número inteiro \n",
    "\n",
    "num = float(input('Digite um número inteiro ou em decimal: '))\n",
    "\n",
    "i = 0\n",
    "\n",
    "print(f'Tabuada do {num}')\n",
    "while i < 9:\n",
    "    i += 1\n",
    "    print(f'{num} x {i} = {num*i}')\n",
    "print('Fim do programa.')\n",
    "\n",
    "#também pode ser resolvido com for"
   ]
  },
  {
   "cell_type": "code",
   "execution_count": null,
   "id": "fb0d7d31",
   "metadata": {},
   "outputs": [],
   "source": [
    "#5 Escreva um algoritmo que vai de 10 a 1 e imprima a sequência dos números na tela:\n",
    "\n",
    "i = 10\n",
    "while i > 0:\n",
    "    print(i)\n",
    "    i -= 1\n",
    "print('Fim do programa.')\n",
    "\n",
    "#pode ser resolvido com for também"
   ]
  },
  {
   "cell_type": "code",
   "execution_count": null,
   "id": "c4441d9a",
   "metadata": {},
   "outputs": [],
   "source": [
    "#6 Escreva um algoritmo que calcule o fatorial de um número digitado pelo usuário. DAR UMA REVISADA E TALVEZ MELHORAR O CÓDIGO\n",
    "num = int(input('Digite um número inteiro: '))\n",
    "\n",
    "if num == 0: #se for o número digitado for 0, o fatorial é 1 (evita que ao digitar 0 dê bug)\n",
    "    print('0! = 1')\n",
    "\n",
    "else: \n",
    "    fatorial = num \n",
    "    i = fatorial - 1\n",
    "\n",
    "    if i == 0: #se i for 0, incrementa ele para 1, evitando para quando o número digitado for 1 e dê bug\n",
    "        i += 1\n",
    "\n",
    "    while i < fatorial: #5*4 \n",
    "        fatorial *= i #5 * 4 = 20\n",
    "        i -= 1 \n",
    "        if i == 0: #se i for 0, incrementa ele para 1 (evita que quando num = 2 dê bug)\n",
    "            i += 1\n",
    "        if i == 1: #para quando chegar em 1 na multiplicação\n",
    "            break \n",
    "        \n",
    "    print(f'{num}! = {fatorial}')"
   ]
  },
  {
   "cell_type": "code",
   "execution_count": null,
   "id": "08ed4122",
   "metadata": {},
   "outputs": [],
   "source": [
    "#7 Escreva um algoritmo que conte os dígitos de um número. \n",
    "\n",
    "valor = int(input('Digite um valor inteiro: '))\n",
    "\n",
    "digitos = 1\n",
    "i = 1\n",
    "\n",
    "while valor > 1:\n",
    "    digitos += 1\n",
    "    i *= 10\n",
    "\n",
    "    if i > valor: \n",
    "        digitos -=1\n",
    "        break\n",
    "plural = 's' if digitos > 1 else ''\n",
    "print(f\"O número {valor} tem {digitos} dígito{plural}.\")"
   ]
  },
  {
   "cell_type": "code",
   "execution_count": null,
   "id": "11d7a2f8",
   "metadata": {},
   "outputs": [],
   "source": [
    "#8 Escreva um algoritmo que verifique se um determinado número digitado pelo usuário é primo. \n",
    "\n",
    "num = int(input('Digite um número inteiro: '))\n",
    "quantidadeDivisores = 0\n",
    "i = 0\n",
    "\n",
    "print(f\"Divisores de {num}:\")\n",
    "\n",
    "while num > i:\n",
    "    i += 1\n",
    "    if num % i == 0:\n",
    "        quantidadeDivisores += 1\n",
    "        print (i)\n",
    "    else: \n",
    "        continue\n",
    "    \n",
    "print(f\"Quantidade de divisores: {quantidadeDivisores}\")\n",
    "\n",
    "if quantidadeDivisores == 2:\n",
    "    print(f\"O número {num} É PRIMO!\")\n",
    "else:\n",
    "    print(f\"O número {num} NÃO É PRIMO!\")\n",
    "\n",
    "#obs: em relação aos divisores de 0, é tido como indefinido\n",
    "\n",
    "    \n",
    "\n",
    "    \n"
   ]
  },
  {
   "cell_type": "code",
   "execution_count": null,
   "id": "3c824c9e",
   "metadata": {},
   "outputs": [],
   "source": [
    "#9 Escreva um algoritmo que realize a soma de todos números pares até 50.\n",
    "\n",
    "soma = 0\n",
    "\n",
    "for i in range(0, 51, 2):\n",
    "    soma += i\n",
    "print(f\"A soma dos números pares de 0 a 50 é {soma}\")"
   ]
  },
  {
   "cell_type": "code",
   "execution_count": null,
   "id": "603ea193",
   "metadata": {},
   "outputs": [],
   "source": [
    "#10 Escreva um algoritmo que imprima os múltiplos de 3 entre 1 e 100 \n",
    "\n",
    "for i in range(1, 101):\n",
    "    if i % 3 == 0:\n",
    "        print(i)\n"
   ]
  },
  {
   "cell_type": "code",
   "execution_count": null,
   "id": "6e3c09d6",
   "metadata": {},
   "outputs": [],
   "source": [
    "#11 Escreva um algoritmo que conte quantos números negativos o usuário digita até  digitar 0. \n",
    "i = 1\n",
    "numNegativo = 0\n",
    "\n",
    "while i != 0:\n",
    "    i = int(input('Digite um número inteiro: '))\n",
    "    if i < 0:\n",
    "        numNegativo += 1\n",
    "    elif i == 0:\n",
    "        break\n",
    "\n",
    "print(f\"Você digitou {numNegativo} número{'' if numNegativo == 1 else 's'} negativo{'' if numNegativo == 1 else 's'}.\")"
   ]
  },
  {
   "cell_type": "code",
   "execution_count": null,
   "id": "2a7644bc",
   "metadata": {},
   "outputs": [],
   "source": [
    "#12 Escreva um algoritmo que imprima os caracteres de uma string. \n",
    "\n",
    "string = input('Digite uma string: ')\n",
    "i = 0\n",
    "\n",
    "while i < len(string):\n",
    "    print(string[i])\n",
    "    i += 1\n",
    "print('Fim do programa.')"
   ]
  },
  {
   "cell_type": "code",
   "execution_count": null,
   "id": "3c639f42",
   "metadata": {},
   "outputs": [],
   "source": [
    "#13  Escreva um algoritmo que leia 10 números e mostre a média, mediana e a moda dos  números digitados. (nesse caso a moda só pode ser um número)\n",
    "num = 0\n",
    "\n",
    "moda = 0\n",
    "frequencia = []\n",
    "\n",
    "numElementos = []\n",
    "mediana = 0\n",
    "\n",
    "media = 0\n",
    "\n",
    "for i in range(10):\n",
    "    num = int(input(\"Digite um número: \"))\n",
    "\n",
    "    frequencia.append(num) #adiciona os números digitados na lista frequencia\n",
    "    if frequencia.count(num) > frequencia.count(moda): #conta quantos números iguais há na lista frequencia, se forem maiores que a moda, a moda passa a ser o número digitado\n",
    "        moda = num\n",
    "                                               \n",
    "    numElementos.append(num) #adiciona os números digitados na lista numElementos\n",
    "    numElementos.sort() #deixa em ordem crescente, alterando a lista original\n",
    "    if len(numElementos) % 2 == 0: #se o número de elementos for par, a mediana é a média dos dois números do meio\n",
    "        mediana = (numElementos[len(numElementos)//2] + numElementos[len(numElementos)//2 - 1]) / 2\n",
    "\n",
    "    else: #se o número de elementos for ímpar, a mediana é o número do meio (e nesse caso não precisa fazer nada, pois sempre será par o numero de elementos)\n",
    "        mediana = numElementos[len(numElementos)//2]\n",
    "\n",
    "    media += num\n",
    "media /= 10\n",
    "print(f\"A média dos números digitados é {media}\")\n",
    "print(f\"A moda dos números digitados é {moda}\")\n",
    "print(f\"A mediana dos números digitados é {mediana}\")\n",
    "\n",
    "#append() adiciona um elemento no final da lista\n",
    "#len() retorna o tamanho da lista\n",
    "#count() conta quantas vezes um elemento aparece na lista\n",
    "#sort() ordena a lista em ordem crescente\n",
    "#sorted() ordena a lista em ordem crescente, mas não altera a lista original"
   ]
  },
  {
   "cell_type": "code",
   "execution_count": null,
   "id": "8b675c8a",
   "metadata": {},
   "outputs": [],
   "source": [
    "#14 Escreva um algoritmo que leia os números digitados pelo usuário até que os valores digitados somem mais de 100. \n",
    "soma = 0\n",
    "\n",
    "while soma <= 100:\n",
    "    num = int(input('Digite um número: '))\n",
    "    soma += num\n",
    "    print(f\"A soma dos números digitados é {soma}\")"
   ]
  },
  {
   "cell_type": "code",
   "execution_count": null,
   "id": "b32f3a58",
   "metadata": {},
   "outputs": [],
   "source": [
    "#15 Escreva um algoritmo que receba dois valores um que representa o inicio e outro o  fim. Em seguida imprima uma contagem regressiva personalizada.\n",
    "inicio = int(input('Digite o número inicial: '))\n",
    "fim = int(input('Digite o número final: '))\n",
    "incremento = int(input('Digite o incremento: ')) * -1 #no caso seria decremento, mas como o usuário pode querer fazer uma contagem regressiva, o incremento vai ser negativo\n",
    "\n",
    "for inicio in range(inicio, inicio == fim , incremento): #note que ao invés de -= eu devo usar =- 1, pois o range não aceita o -=\n",
    "    print(inicio)\n",
    "    \n",
    "print('Fim do programa.')"
   ]
  },
  {
   "cell_type": "code",
   "execution_count": null,
   "id": "34821f5f",
   "metadata": {},
   "outputs": [],
   "source": [
    "#16 Escreva um algortimo que verifique se um número é palíndromo e imprima uma  mensagem em cada caso.\n",
    "num = int(input('Digite um número inteiro: '))\n",
    "numInvertido = 0\n",
    "numOriginal = num\n",
    "while num > 0: #12321 | 1232 | 123 | 12 | 1 \n",
    "    digito = num % 10 #1 | 2 | 3 | 2 | 1\n",
    "    numInvertido = (numInvertido * 10) + digito #1 | 12 | 123 | 1232 | 12321\n",
    "    num //= 10 #1232 | 123 | 12 | 1 | 0\n",
    "if numInvertido == numOriginal:\n",
    "    print(f'O número {numOriginal} é palíndromo!')\n",
    "else:\n",
    "    print(f'O número {numOriginal} não é palíndromo!')\n"
   ]
  },
  {
   "cell_type": "code",
   "execution_count": null,
   "id": "c7d8be99",
   "metadata": {},
   "outputs": [],
   "source": [
    "#17 Escreva um algoritmo que apresente como resultado a soma dos dígitos de um número digitado pelo usuário.\n",
    "num = int(input('Digite um número inteiro: '))\n",
    "soma = 0\n",
    "\n",
    "while num > 0:\n",
    "    digito = num % 10\n",
    "    soma += digito\n",
    "    num //= 10\n",
    "print(f'A soma dos dígitos é {soma}')"
   ]
  },
  {
   "cell_type": "code",
   "execution_count": null,
   "id": "7ce6c886",
   "metadata": {},
   "outputs": [],
   "source": [
    "#18 Escreva um algoritmo que receba um valor N digitado pelo usuário e apresente os  valores até o N-ésimo termo da sequência de Fibonacci. \n",
    "n = int(input('Digite um número inteiro: '))\n",
    "a = 0\n",
    "b = 1\n",
    "print(a)\n",
    "print(b)\n",
    "for i in range(2, n):\n",
    "    c = a + b\n",
    "    print(c)\n",
    "    a = b\n",
    "    b = c"
   ]
  },
  {
   "cell_type": "code",
   "execution_count": null,
   "id": "1c2e9e6a",
   "metadata": {},
   "outputs": [],
   "source": [
    "#19 Escreva um programa que receba o número de linhas e imprima o padrão de triângulo  invertido. \n",
    "linhas = int(input('Digite o número de linhas: '))\n",
    "for i in range(linhas, 0, -1):\n",
    "    print('*' * i)\n",
    "    "
   ]
  },
  {
   "cell_type": "markdown",
   "id": "bcb40e4e",
   "metadata": {},
   "source": [
    "CONTINUAR TENTANDO DEPOIS PQ ISSO AQUI TÁ COMPLICADO"
   ]
  },
  {
   "cell_type": "code",
   "execution_count": null,
   "id": "13b5fcd4",
   "metadata": {},
   "outputs": [],
   "source": [
    "#20 Escreva um programa que calcula o número de dias percorridos entre duas datas  digitadas pelo usuário. \n",
    "#  Considere no seu cálculo se o ano digitado pelo usuário é bissexto. \n",
    "#  Para identificar um ano bissexto, basta verificar se ele é divisível por 4. No entanto, \n",
    "# há  uma exceção para os anos centenários (que terminam em 00), que só são bissextos se  forem divisíveis por 400. \n",
    "#1. Ano não centenário: Se o ano for divisível por 4, é bissexto (ex: 2020, 2024).\n",
    "#2. Ano centenário: Se o ano for divisível por 400, é bissexto (ex: 2000).\n",
    "#3. Ano centenário: Se o ano for divisível por 100 mas não por 400, não é bissexto\n",
    "#(ex: 1900, 2100).\n",
    "\n",
    "#Primeira data\n",
    "print(\"------Primeira data------\")\n",
    "dia1 = int(input('Digite o dia inicial: '))\n",
    "mes1 = int(input('Digite o mês inicial: '))\n",
    "ano1 = int(input('Digite o ano inicial: '))\n",
    "\n",
    "#Segunda data\n",
    "print(\"------Segunda data------\")\n",
    "dia2 = int(input('Digite o dia final: '))\n",
    "mes2 = int(input('Digite o mês final: '))\n",
    "ano2 = int(input('Digite o ano final: '))\n",
    "\n",
    "# Lista com meses comuns, ou seja, quando não é ano bissexto\n",
    "meses_comuns = [31, 28, 31, 30, 31, 30, 31, 31, 30, 31, 30, 31]\n",
    "\n",
    "\n",
    "\n",
    "dias_percorridos = 0\n",
    "print(f'O número total de dias entre {dia1}/{mes1}/{ano1} e {dia2}/{mes2}/{ano2} é: {dias_percorridos} dias.')\n"
   ]
  },
  {
   "cell_type": "markdown",
   "id": "c554bd1e",
   "metadata": {},
   "source": [
    "DESAFIOS EXRTAS COM FOR E WHILE\n"
   ]
  },
  {
   "cell_type": "code",
   "execution_count": null,
   "id": "4f81ee22",
   "metadata": {},
   "outputs": [],
   "source": [
    "#Faça um programa que calcule o quanto uma pessoa vai receber de juros compostos, mas sem usar a fórmula dos juros compostos.\n",
    "capital = float(input('Digite o capital: '))\n",
    "taxa = float(input('Digite a taxa de juros: '))\n",
    "tempo = int(input('Digite o tempo em meses: '))\n",
    "juros = 0\n",
    "for i in range(tempo):\n",
    "    juros = capital * taxa\n",
    "    capital += juros\n",
    "print(f'O montante final é {capital} em {tempo} meses aplicando a taxa de {taxa*100}% ao mês.')\n"
   ]
  },
  {
   "cell_type": "code",
   "execution_count": null,
   "id": "9a2abff3",
   "metadata": {},
   "outputs": [],
   "source": [
    "senha = '123abc@!'\n",
    "tentativas = 3\n",
    "resposta = '' \n",
    "\n",
    "print('Você tem 3 tentativas para acertar a senha.')\n",
    "while tentativas > 0:\n",
    "    resposta = input('Digite a senha: ')\n",
    "    if resposta == senha:\n",
    "        print('Senha correta!')\n",
    "        break\n",
    "    else:\n",
    "        tentativas -= 1\n",
    "        print(f'Senha incorreta! Você ainda tem {tentativas} tentativas.')\n",
    "    if tentativas == 0:\n",
    "        print('Você não tem mais tentativas. Acesso negado!')\n",
    "    \n"
   ]
  },
  {
   "cell_type": "code",
   "execution_count": null,
   "id": "ed195bbf",
   "metadata": {},
   "outputs": [],
   "source": [
    "#Crie uma tabela com jogos de time de futebol, de modo que cada time jogue com todos os outros, não podendo obviamente ser com ele mesmo e nem repetir com o mesmo time. \n",
    "times = [\"flamengo\" , \"vasco\", \"palmeiras\", \"fluminense\"]\n",
    "jogos = []\n",
    "for i in range(len(times)):\n",
    "    for j in range(i + 1, len(times)):\n",
    "        jogos.append((times[i], times[j]))\n",
    "\n",
    "print(\"Jogos:\")\n",
    "for jogo in jogos:\n",
    "    print(f\"{jogo[0]} x {jogo[1]}\")\n"
   ]
  },
  {
   "cell_type": "code",
   "execution_count": null,
   "id": "decaecd5",
   "metadata": {},
   "outputs": [],
   "source": [
    "#Crie um programa que converta decimal para binário:\n",
    "num = int(input('Digite um número inteiro na base decimal: '))\n",
    "binario = ''\n",
    "while num > 0:\n",
    "    binario = str(num % 2) + binario #o str() serve para converter o número em string, colocando o número na frente da string binario para ficar na ordem correta\n",
    "    num //= 2\n",
    "print(f'O número binário é {binario if binario != \"\" else \"0\"}') #se o número binário for vazio, imprime 0\n",
    "\n",
    "\n"
   ]
  },
  {
   "cell_type": "code",
   "execution_count": null,
   "id": "4665d8be",
   "metadata": {},
   "outputs": [],
   "source": [
    "binario = \"cleber\"\n",
    "binario = binario[::-1] #o [::-1] serve para inverter a string, começando pela posição 0 e pulando de -1 em -1\n",
    "print(binario)"
   ]
  },
  {
   "cell_type": "code",
   "execution_count": null,
   "id": "98857789",
   "metadata": {},
   "outputs": [],
   "source": [
    "from random import randint\n",
    "numeroSorteado = randint(1, 10)\n",
    "tentativas = 3\n",
    "resposta = 0\n",
    "print('Você tem 3 tentativas para acertar o número sorteado entre 1 e 10.')\n",
    "\n",
    "while tentativas > 0:\n",
    "    resposta = int(input('Digite um número: '))\n",
    "    if resposta == numeroSorteado:\n",
    "        print('Você acertou!')\n",
    "        break\n",
    "    else:\n",
    "        tentativas -= 1\n",
    "        print(f'Você errou! Você ainda tem {tentativas} tentativas.')\n",
    "        if resposta < numeroSorteado:\n",
    "            print('O número sorteado é maior.')\n",
    "        elif resposta > numeroSorteado:\n",
    "            print('O número sorteado é menor.')\n",
    "    if tentativas == 0:\n",
    "        print(f'Você não tem mais tentativas. O número sorteado era {numeroSorteado}.')"
   ]
  },
  {
   "cell_type": "markdown",
   "id": "358f6b09",
   "metadata": {},
   "source": [
    "ver se eu fiz mais ou menos do msm jeito na prova do for e while"
   ]
  },
  {
   "cell_type": "code",
   "execution_count": null,
   "id": "e4ea8c86",
   "metadata": {},
   "outputs": [],
   "source": [
    "#Numero perfeito\n",
    "\n",
    "n = int(input('valor'))\n",
    "soma = 0\n",
    "i = 1\n",
    "\n",
    "while i < n:\n",
    "    if n % i == 0:\n",
    "        soma += i\n",
    "        print(i)\n",
    "    i += 1\n",
    "if n == soma:\n",
    "    print(f'{n} é um número perfeito')\n",
    "else:\n",
    "    print(f'{n} não é um número perfeito')\n",
    "print(f'A soma é: {soma}') "
   ]
  },
  {
   "cell_type": "code",
   "execution_count": null,
   "id": "adc9575c",
   "metadata": {},
   "outputs": [],
   "source": [
    "#CRIAR UM RELÓGIO QUE FUNCIONA MESMO, MOSTRANDO AS HORAS, MINUTOS E SEGUNDOS NO FORMATO HH:MM:SS\n",
    "horas = 23\n",
    "minutos = 59\n",
    "segundos = 40\n",
    "while True: #para não travar o console, vamos parar após 20 segundos\n",
    "    if segundos == 60:\n",
    "        segundos = 0\n",
    "        minutos += 1\n",
    "    if minutos == 60:\n",
    "        minutos = 0\n",
    "        horas += 1\n",
    "    if horas == 24:\n",
    "        horas = 0\n",
    "    segundos += 1\n",
    "    print(f\"{horas:02}:{minutos:02}:{segundos:02}\") #o :02 serve para formatar os números com dois dígitos, adicionando um zero à esquerda se necessário\n",
    "    if segundos == 29: #para não travar o console, vamos parar após 20 segundos\n",
    "        break\n",
    "    \n"
   ]
  },
  {
   "cell_type": "markdown",
   "id": "bc74f4ae",
   "metadata": {},
   "source": [
    "ARRAYS/VETORES/LISTAS"
   ]
  },
  {
   "cell_type": "code",
   "execution_count": null,
   "id": "09b6db24",
   "metadata": {},
   "outputs": [],
   "source": [
    "lista = [1, 2, 3.5, '4', 5, 'abóbora', 28]\n",
    "\n",
    "for i in lista:\n",
    "    print(i)"
   ]
  },
  {
   "cell_type": "code",
   "execution_count": null,
   "id": "f6d0f478",
   "metadata": {},
   "outputs": [],
   "source": [
    "lista = [1, 2, 3.5, '4', 5, 'abóbora', 28]\n",
    "lista[::] # x:z, vai fatiar a lista, pegando o elemento x indo até z, mas excluindo z\n",
    "        # x::z, vai fazer o mesmo, mas ele vai saltar de z em z\n",
    "        # se não definir um intervalo, ele vai pegar a lista toda"
   ]
  },
  {
   "cell_type": "markdown",
   "id": "ff89269c",
   "metadata": {},
   "source": [
    "FUNÇÕES PARA LISTAS:\n",
    "append(i, x) adiciona elemento ao final da lista -\n",
    "\n",
    "pop(i) remove o elemento do final da lista ou na posição i, se i for maior que o range, ele vai dar erro até certo ponto -\n",
    "\n",
    "remove(i, x) remove um elemento x na posição i -\n",
    "\n",
    "insert(i, x) insere um elemento x na posição i -\n",
    "\n",
    "sort() organiza a lista e atualiza a variável lista -\n",
    "\n",
    "sorted() faz o mesmo que sort(), mas não atualiza a variável, apenas mostra como fica sem mexer diretamente nela -\n",
    "\n",
    "reverse() vai só inverter a lista - \n",
    "\n",
    "index(x) retorna o valor de i com o primeiro elemento x (para caso tenha mais elementos iguais a x) -\n",
    "\n",
    "count(x) vai contar quantos elementos x tem na lista -\n",
    "\n",
    "clear() remove todos os elementos da lista, deixando ela vazia -\n",
    "\n",
    "extend() adiciona um elemento de uma outra lista ou objeto iterável ao final da lista utilizada -\n",
    "\n",
    "len(lista) mede o tamanho da lista -\n",
    "\n",
    "concatenar listas : lista1 + lista2 -\n",
    "\n",
    "repetição de listas: lista * 3 -\n",
    "\n",
    "for i in lista: repete os elementos da lista -\n",
    "\n",
    "[x*2 for x in lista] multiplicação de eelementos -\n"
   ]
  },
  {
   "cell_type": "code",
   "execution_count": null,
   "id": "70baca90",
   "metadata": {},
   "outputs": [],
   "source": [
    "my_list = [1, 2, 3, 4, 5]\n",
    "new_list = [x*3 for x in my_list]\n",
    "print(new_list)  # Output: [1, 2, 3, 4, 5]\n"
   ]
  },
  {
   "cell_type": "markdown",
   "id": "dfc109eb",
   "metadata": {},
   "source": [
    "LISTA DE EXERCÍCIOS - VETORES E MATRIZES"
   ]
  },
  {
   "cell_type": "code",
   "execution_count": null,
   "id": "ffe2553f",
   "metadata": {},
   "outputs": [],
   "source": [
    "#01 Escreva um algoritmo para criar e exibir uma lista de 5 nomes.\n",
    "nomes = ['Romeu', 'Julieta', 'Maria', 'João', 'Sabrina']\n",
    "\n",
    "for i in nomes:\n",
    "    print(i)"
   ]
  },
  {
   "cell_type": "code",
   "execution_count": null,
   "id": "df8d3441",
   "metadata": {},
   "outputs": [],
   "source": [
    "#02 Escreva um algoritmo que some os elementos de uma lista de números.\n",
    "numeros = [0, 1, 1, 2, 3, 5]\n",
    "soma = 0\n",
    "for i in numeros:\n",
    "    soma += i\n",
    "print(soma)"
   ]
  },
  {
   "cell_type": "code",
   "execution_count": null,
   "id": "e8a5dec2",
   "metadata": {},
   "outputs": [],
   "source": [
    "#03 Escreva um algoritmo que encontre o maior valor de uma lista.\n",
    "numeros = [1321149,1992445,7765485,743266345,6545435746,443570233]\n",
    "maior = 0\n",
    "for i in numeros:\n",
    "    if i > maior:\n",
    "        maior = i\n",
    "print(f\"O maior valor é {maior}\")"
   ]
  },
  {
   "cell_type": "code",
   "execution_count": null,
   "id": "c7218824",
   "metadata": {},
   "outputs": [],
   "source": [
    "#04 Escreva um algoritmo que analise uma lista e informe quantos elementos dessa lista são pares.\n",
    "numeros = [31204, 312132, 5685746, 142668467, 1314678809]\n",
    "qtdPares = 0\n",
    "\n",
    "for i in numeros:\n",
    "    if i % 2 == 0:\n",
    "        qtdPares += 1\n",
    "print(f\"A quantidade de valores pares é {qtdPares}\") "
   ]
  },
  {
   "cell_type": "code",
   "execution_count": null,
   "id": "02f0118a",
   "metadata": {},
   "outputs": [],
   "source": [
    "#05 Escreva um algoritmo que imprima os elementos de uma lista na ordem inversa.\n",
    "listaOriginal = [1, 4, 9, 16, 25, 36, 49, 64, 81, 100]\n",
    "listaReversa = []\n",
    "\n",
    "for i in listaOriginal:\n",
    "    listaReversa.append(i)\n",
    "listaReversa.reverse()\n",
    "print(listaReversa)"
   ]
  },
  {
   "cell_type": "code",
   "execution_count": null,
   "id": "f7bf2ed7",
   "metadata": {},
   "outputs": [],
   "source": [
    "#06 Escreva um algoritmo que remova todos os elementos nega=vos de uma lista.\n",
    "numerosInteiros = [10000, -1, -4, 213, 14, (64-100), 3214, -10, 0, -666, 312, 125, 10**2]\n",
    "numerosPositivos = []\n",
    "i = 0\n",
    "for i in range(0, len(numerosInteiros)): \n",
    "    if numerosInteiros[i] >= 0: #verifica se cada elemento é um número positivo de acordo com sua posição na lista\n",
    "        numerosPositivos.append(numerosInteiros[i]) #se verdadeiro, então o adiciona à nova lista\n",
    "numerosPositivos.sort() #ordena a lista de números positivos em ordem crescente\n",
    "print(f\"Lista dos números positivos (incluindo o zero ou não) em ordem crescente: {numerosPositivos}\")"
   ]
  },
  {
   "cell_type": "code",
   "execution_count": null,
   "id": "1dface4b",
   "metadata": {},
   "outputs": [],
   "source": [
    "#07 Escreva um algoritmo que conte quantas vezes um determinado elemento aparece na lista.\n",
    "x = str([1, 2, 2, 3, 3, 3, 4, 4, 4, 4, 5, 5, 5, 5, 5, 6, 6, 6, 6, 6, 6, \"silva\", \"silva\"])\n",
    "#nesse caso, como eu coloquei strings na lista, quando eu for contar quantas vezes qualquer elemento aparece nela, vai só vai pegar ele se for uma string, então coloquei\n",
    "#str() em volta dela para que todos os elementos dentro dela obrigatoriamente vire uma string\n",
    "\n",
    "n = input(\"Digite qual elemento da lista você quer descobrir a quantidade de repetições? Pode ser um número ou string\")\n",
    "\n",
    "if x.count(n) == 0:\n",
    "    print(\"Este elemento não aparece na lista.\")\n",
    "else:\n",
    "    print(f\"A quantidade de vezes que {n} aparece na lista é {x.count(n)} vez{'es' if x.count(n) > 1 else ''}\")"
   ]
  },
  {
   "cell_type": "code",
   "execution_count": null,
   "id": "ba73f7dc",
   "metadata": {},
   "outputs": [],
   "source": [
    "#08 Escreva um algoritmo que verifique se uma lista está em ordem crescente.\n",
    "lista = []\n",
    "entrada = ''\n",
    "teste = True\n",
    "i = 0\n",
    "maior = 0\n",
    "\n",
    "while entrada != \"sair\": #apenas adiciona os números na lista \n",
    "    entrada = input(\"Adicione números na lista. Caso queira sair, digite 'sair'.\")\n",
    "    if entrada == 'sair':\n",
    "        break\n",
    "    lista.append(int(entrada))\n",
    "\n",
    "while i < len(lista): \n",
    "    if lista[i] > maior: #se o número na posição anterior for maior que o próximo número, significa que está na ordem decrescente\n",
    "        maior = lista[i]\n",
    "    else: \n",
    "        teste = False\n",
    "        break\n",
    "    i += 1\n",
    "print(f\"{lista} {\"não\" if teste == False else \"\"} está na ordem crescente.\")\n"
   ]
  },
  {
   "cell_type": "code",
   "execution_count": null,
   "id": "ad945cff",
   "metadata": {},
   "outputs": [],
   "source": [
    "#09 Escreva um algoritmo que leia uma lista de 10 posições e em seguida ler também dois valores X e Y quaisquer correspondentes a duas posições na lista. Ao final seu programa\n",
    "#deverá escrever a soma dos valores encontrados nas respectivas posições X e Y. \n",
    "from random import randint\n",
    "\n",
    "posicao_x= randint(0, 9)\n",
    "posicao_y = randint(0, 9)\n",
    "\n",
    "valor = [1, 5, 10, 15, 20, 25, 30, 35, 40, 45]\n",
    "\n",
    "print(f\"{valor[posicao_x]} + {valor[posicao_y]} = {valor[posicao_x] + valor[posicao_y]}\")"
   ]
  },
  {
   "cell_type": "code",
   "execution_count": null,
   "id": "4d8069de",
   "metadata": {},
   "outputs": [],
   "source": [
    "#10 Escreva um algoritmo que leia uma lista de 6 posições e troque os 3 primeiros valores pelos 3 últimos. Escreva ao final a lista obtida.\n",
    "frutas = ['banana', 'goiaba', 'uva', 'morango', 'maçã', 'melancia','pera','abacate']\n",
    "frutas_invertido = []\n",
    "for i in range(len(frutas)-1, -1, -1):\n",
    "    frutas_invertido.append(frutas[i])\n",
    "print(frutas_invertido)\n"
   ]
  },
  {
   "cell_type": "code",
   "execution_count": null,
   "id": "d886ccbe",
   "metadata": {},
   "outputs": [],
   "source": [
    "#11 Leia uma lista de 5 posições e em seguida um valor X qualquer. Seu programa devera fazer uma busca do valor de X no vetor lido e informar a posição em que foi encontrado\n",
    "#ou se não foi encontrado.\n",
    "nomes = ['pedro', 'marcelo', 'cassandra', 'paola', 'janaína']\n",
    "x_nome = input('Digite um nome a ser buscado no sistema')\n",
    "i = 0\n",
    "mensagem = False\n",
    "while i < len(nomes):\n",
    "    if x_nome.lower() == nomes[i]:\n",
    "        print(f'O nome {x_nome.upper()} foi encontrado no sistema na {i+1}ª posição.')\n",
    "        mensagem = True\n",
    "        break\n",
    "    i += 1\n",
    "if mensagem == False:\n",
    "    print(f'Não foi encontrado nenhum nome {x_nome.upper()} no sistema.')\n",
    "print('Fim do programa.')\n",
    "\n",
    "    "
   ]
  },
  {
   "cell_type": "code",
   "execution_count": null,
   "id": "d4a4da00",
   "metadata": {},
   "outputs": [],
   "source": [
    "#12. Leia uma lista com 5 elementos, verifique se existem elementos iguais e os escreva.\n",
    "animais = ['cavalo', 'vaca', 'cachorro', 'vaca', 'cavalo']\n",
    "repetidos = []\n",
    "\n",
    "for i in animais:\n",
    "    if animais.count(i) > 1:\n",
    "        if repetidos.count(i) == 1:\n",
    "            continue\n",
    "        repetidos.append(i)\n",
    "print(f\"Lista de elementos repetidos: {repetidos}\")\n",
    "print('Fim do programa.')"
   ]
  },
  {
   "cell_type": "code",
   "execution_count": null,
   "id": "2abbf4c3",
   "metadata": {},
   "outputs": [],
   "source": [
    "#13 Considere um vetor de trajetórias de 9 elementos, onde cada elemento possui o valor do próximo elemento do vetor a ser lido.\n",
    "#Índice 1 2 3 4 5 6 7 8 9\n",
    "#Valor 5 7 6 9 2 8 4 0 3\n",
    "#Assim, a sequência da leitura seria 1, 5, 2, 7, 4, 9, 3, 6, 8, 0\n",
    "#Faça um algoritmo que seja capaz de ler esse vetor e seguir a trajetória imprimindo os valores correspondentes.\n",
    "valor = [5, 7, 6, 9, 2, 8, 4, 0, 3]\n",
    "indice = 1 \n",
    "\n",
    "print(indice)\n",
    "for i in valor:\n",
    "    print(valor[indice-1])\n",
    "    indice = valor[indice-1]\n"
   ]
  },
  {
   "cell_type": "code",
   "execution_count": null,
   "id": "d1d663ae",
   "metadata": {},
   "outputs": [],
   "source": [
    "#14 Leia uma matriz 3 x 3 e escreva a localização (linha e a coluna) do maior valor. \n",
    "matriz = []\n",
    "maior = 0\n",
    "\n",
    "definindoTamanho = int(input(\"Digite o tamanho da matriz quadrada:\"))\n",
    "\n",
    "print(f'Tamanho da matriz: {definindoTamanho} x {definindoTamanho}')\n",
    "\n",
    "for i in range(definindoTamanho):\n",
    "    linha = []\n",
    "\n",
    "    for j in range(definindoTamanho):\n",
    "        n = (int(input(f'Defina do elemento a{i}x{j}')))\n",
    "        linha.append(n)\n",
    "\n",
    "    matriz.append(linha)\n",
    "\n",
    "for i in range(len(matriz)):\n",
    "    for j in range(len(matriz[i])):\n",
    "        if matriz[i][j] > maior:\n",
    "            maior = matriz[i][j]\n",
    "print(f'O maior valor é {maior}. Encontrado na {i+1}ª linha e na {j+1}ª coluna')\n",
    "print(matriz)"
   ]
  },
  {
   "cell_type": "code",
   "execution_count": null,
   "id": "39765e46",
   "metadata": {},
   "outputs": [],
   "source": [
    "#15 Leia duas matrizes 3 x 3 e escreva uma terceira com os maiores elementos entre as primeiras\n",
    "matriz_A = [[28, 83, 26],\n",
    "            [45, 67, 35],\n",
    "            [25, 43, 28]]\n",
    "\n",
    "matriz_B = [[74, 33, 21],\n",
    "            [90, 81, 972],\n",
    "            [100, 66, 32]]\n",
    "\n",
    "matriz_maiores_valores = []\n",
    "ordenando_elementos = []\n",
    "\n",
    "#joga todos elementos de A e B em uma lista só para depois ordenar em ordem crescente a lista\n",
    "for i in range(3):\n",
    "    for j in range(3):\n",
    "        ordenando_elementos.append(matriz_A[i][j])\n",
    "        ordenando_elementos.append(matriz_B[i][j])\n",
    "\n",
    "#organiza em ordem crescente e depois inverte, ficando do maior para o menor\n",
    "ordenando_elementos.sort()\n",
    "ordenando_elementos.reverse()\n",
    "\n",
    "for x in range(3):\n",
    "    linha = []\n",
    "    linha.append(ordenando_elementos[x*3:(x+1)*3])\n",
    "    matriz_maiores_valores.append(linha)\n",
    "print(f\"\"\"\n",
    "Matriz com os maiores valores entre as matrizes A e B em ordem decrescente:\n",
    "{matriz_maiores_valores[0]}\n",
    "{matriz_maiores_valores[1]}\n",
    "{matriz_maiores_valores[2]}\n",
    "\"\"\")"
   ]
  },
  {
   "cell_type": "code",
   "execution_count": null,
   "id": "cd5655c9",
   "metadata": {},
   "outputs": [],
   "source": [
    "#16 Leia uma matriz 3 x 3. Leia também um valor X. O programa deverá fazer uma busca desse valor na matriz e, ao final escrever a localização (linha e coluna) ou uma mensagem\n",
    "#de “não encontrado”.\n",
    "matriz = [\n",
    "    [32, 27, 13],\n",
    "    [6, 41, 8],\n",
    "    [24, 35, 49]\n",
    "]\n",
    "\n",
    "x = int(input(\"Digite um valor que esteja entre 0 a 50 para verificar se ele está ou não na matriz\"))\n",
    "teste = False\n",
    "for linha in range(3):\n",
    "    for coluna in range(3):\n",
    "        if x == matriz[linha][coluna]:\n",
    "            teste = True\n",
    "            print(f\"\"\"\n",
    "                   _________________________________________________\n",
    "                  *\n",
    "                  * (ദ്ദി˙ᗜ˙)  \n",
    "                  *\n",
    "                  * O valor {x} foi encontrado na matriz!               \n",
    "                  * Localizado na linha {linha+1}, coluna {coluna+1} \n",
    "                  * {matriz[0]}                                     \n",
    "                  * {matriz[1]}\n",
    "                  * {matriz[2]}\n",
    "                  *_________________________________________________\n",
    "\n",
    "\n",
    "\n",
    "                  \"\"\")\n",
    "    \n",
    "if teste == False:            \n",
    "    print(f\"\"\"\n",
    "        _________________________________________________\n",
    "        *\n",
    "        * ( ╥﹏╥)\n",
    "        *\n",
    "        * O valor {x} não foi encontrado na matriz...\n",
    "        * _________________________________________________\n",
    "        \"\"\")\n",
    "            "
   ]
  },
  {
   "cell_type": "code",
   "execution_count": null,
   "id": "eef666ac",
   "metadata": {},
   "outputs": [],
   "source": [
    "#---------------------------------------------------------------------------------------\n",
    "#17 Quadrados Mágicos consistem em uma matriz numérica quadrada em que as somas das\n",
    "#linhas, das colunas e das duas diagonais principais são as mesmas. Por exemplo o\n",
    "#Quadrado Mágico 3 x 3, que é formado pelos nove dígitos: 1,2,3,4,5,6,7,8,9 dispostos\n",
    "#em três linhas e três colunas é o seguinte:\n",
    "#6 1 8\n",
    "#7 5 3\n",
    "#2 9 4\n",
    "#Note que a soma das linhas, colunas e diagonais é 15. Faça um programa que lê 9 dígitos,\n",
    "#verifica se não há repetições entre eles (tem que ser exatamente os números de 1 a 9,\n",
    "#em qualquer ordem, mas sem repetições), monta o quadrado e imprime como resultado\n",
    "#se é ou não um quadrado mágico.\n",
    "#--------------------------------------------------------------------------------------\n",
    "print('Vamos descobrir se é um quadrado mágico! Comece inserindo os números de 1 a 9 sem repetir nenhum para verificar se é ou não um quadrado mágico.')\n",
    "quadrado_magico =[ \n",
    "                [int(input('a11')), int(input('a12')), int(input('a13'))],\n",
    "                [int(input('a21')), int(input('a22')), int(input('a23'))],\n",
    "                [int(input('a31')), int(input('a32')), int(input('a33'))] \n",
    "                  ]\n",
    "#para o programa e imprime uma mensagem caso o usuário digite números repetidos ou que estão fora do intervalo \n",
    "for x in range(3):\n",
    "    for y in range(3):\n",
    "        if  (1 > quadrado_magico[x][y] or quadrado_magico[x][y] > 9) and (quadrado_magico.count(quadrado_magico[x][y]) > 1):\n",
    "            print('Opa, parece que você digitou um número repetido ou que não está entre 1 e 9... Tente novamente.')\n",
    "            break\n",
    "\n",
    "somaLinha = [0, 0, 0]\n",
    "somaColuna = [0, 0, 0]\n",
    "somaDiagonal = [0, 0]\n",
    "\n",
    "for x in range(3):\n",
    "    for y in range(3):\n",
    "        somaLinha[x] += quadrado_magico[x][y] #em cada linha, vai somar direto os 3 elementos, ex: 6+1+8 =15|7+5+3 =15|2+9+4=15\n",
    "        somaColuna[y] += quadrado_magico[x][y] #vai pouco em pouco somando os elementos em relação aos das coluna, ex: 6 | 1 | 8 -> 6+7 | 1+5 | 8+3 ->13+2|6+9|11+4 = 15|15|15\n",
    "        if x == y: #para a diagonal principal, se o índice linha == coluna, vai somar o elemento nessa posição, guardando ele na primeira posição da lista somando com o que tiver\n",
    "            somaDiagonal[0] += quadrado_magico[x][x]\n",
    "        if x + y == 2: #para a diagonal secundária, se os índices somarem 2, vai usar o x e o y atual para guardar na segunda posição da lista somando com o que já tem \n",
    "            somaDiagonal[1] += quadrado_magico[x][y]\n",
    "\n",
    "if somaLinha == somaColuna and somaLinha[:2] == somaDiagonal:\n",
    "    print(f'Temos um quadrado mágico!! Cada linha, coluna e diagonal soma {somaLinha[0]} :D')\n",
    "\n",
    "else: \n",
    "    print(f\"Não é um quadrado mágico, pois em alguma parte a soma é diferente... Tente novamente :(\")\n"
   ]
  },
  {
   "cell_type": "markdown",
   "id": "d79e33e5",
   "metadata": {},
   "source": [
    "MATRIZES"
   ]
  },
  {
   "cell_type": "code",
   "execution_count": null,
   "id": "881878f1",
   "metadata": {},
   "outputs": [],
   "source": [
    "matriz =[ \n",
    "    [1, 2, 3],\n",
    "    [4, 5, 6],\n",
    "    [7, 8, 9]\n",
    "]\n",
    "for i in matriz:\n",
    "    print(i)\n"
   ]
  },
  {
   "cell_type": "code",
   "execution_count": null,
   "id": "5d684606",
   "metadata": {},
   "outputs": [],
   "source": [
    "matriz =[ \n",
    "    [1, 2, 3],\n",
    "    [4, 5, 6],\n",
    "    [7, 8, 9]\n",
    "]\n",
    "print(matriz)"
   ]
  },
  {
   "cell_type": "code",
   "execution_count": null,
   "id": "21c4f151",
   "metadata": {},
   "outputs": [],
   "source": [
    "matriz =[ #acessar cada elemento da matriz\n",
    "    [1, 2, 3],  \n",
    "    [4, 5, 6],\n",
    "    [7, 8, 9]\n",
    "]\n",
    "\n",
    "for i in range(len(matriz)): #acessa as linhas da matriz \n",
    "    for j in range(len(matriz[i])): #acessa as colunas da matriz\n",
    "        print(f\"elemento na posição [{i},{j} = {matriz[i][j]}]\") #acessa cada elemento da matriz "
   ]
  },
  {
   "cell_type": "code",
   "execution_count": null,
   "id": "5b69f3e9",
   "metadata": {},
   "outputs": [],
   "source": [
    "matriz =[  #pegar só a coluna \n",
    "    [1, 2, 3],\n",
    "    [4, 5, 6],\n",
    "    [7, 8, 9]\n",
    "]\n",
    "\n",
    "coluna = []\n",
    "\n",
    "for i in range(len(matriz)):\n",
    "    print(matriz[i][1])"
   ]
  },
  {
   "cell_type": "code",
   "execution_count": null,
   "id": "62bc5ed6",
   "metadata": {},
   "outputs": [],
   "source": [
    "# o usuario cria 2 matrizes\n",
    "matrizes = []\n",
    "\n",
    "for l in range(2):\n",
    "    matriz = []\n",
    "    for i in range(3):\n",
    "        linha = []\n",
    "        for j in range(3):\n",
    "            elemento = int(input(f\"Digite o {j+1}° elemento da {i+1}° linha da {l+1}° matriz: \"))\n",
    "            linha.append(elemento)\n",
    "        matriz.append(linha)\n",
    "    matrizes.append(matriz)\n",
    "print(matrizes)"
   ]
  },
  {
   "cell_type": "markdown",
   "id": "7c95d480",
   "metadata": {},
   "source": [
    "Usando biblioteca NumPy"
   ]
  },
  {
   "cell_type": "code",
   "execution_count": null,
   "id": "ea7c1ab2",
   "metadata": {},
   "outputs": [],
   "source": [
    "#cria a matriz\n",
    "import numpy as np #tem que instalar a biblioteca, use no terminal: pip install numpy \n",
    "matriz_np = np.array([[1,2,3],[4,5,6],[7,8,9]\n",
    "])\n",
    "\n",
    "print(matriz_np)"
   ]
  },
  {
   "cell_type": "code",
   "execution_count": null,
   "id": "d8b02b51",
   "metadata": {},
   "outputs": [],
   "source": [
    "#percorre a matriz\n",
    "import numpy as np\n",
    "\n",
    "matriz_np = np.array([[1, 2, 3],\n",
    "                      [4, 5, 6],\n",
    "                      [7, 8, 9]])\n",
    "\n",
    "#Usando a iteração direta nos elementos\n",
    "print(\"Percorrendo elementos usando NumPy:\")\n",
    "for elemento in np.nditer(matriz_np):\n",
    "    print(elemento)"
   ]
  },
  {
   "cell_type": "code",
   "execution_count": null,
   "id": "69cf9fc3",
   "metadata": {},
   "outputs": [],
   "source": [
    "#Exemplo de soma de matriz\n",
    "matriz = [\n",
    "[1, 2, 3],\n",
    "[4, 5, 6],\n",
    "[7, 8, 9]\n",
    "]\n",
    "\n",
    "soma = 0\n",
    "for linha in matriz:\n",
    "    for elemento in linha:\n",
    "        soma += elemento\n",
    "\n",
    "print(\"Soma de todos os elementos da matriz:\", soma)"
   ]
  },
  {
   "cell_type": "markdown",
   "id": "df0927e3",
   "metadata": {},
   "source": [
    "DUAS MANEIRAS DE FAZER A TRANSPOSIÇÃO DE MATRIZES, O PRIMEIRO É O QUE O PROFESSOR MOSTROU, O SEGUNDO É QUE EU DESENVOLVI :D (que é muito mais simples kkk)"
   ]
  },
  {
   "cell_type": "code",
   "execution_count": null,
   "id": "764e165f",
   "metadata": {},
   "outputs": [],
   "source": [
    "#Exemplo de transposição (FALTA ENTENDER MELHOR ISSO AQUI PARÇA)\n",
    "matriz = [\n",
    "\n",
    "[1, 2, 3],\n",
    "[4, 5, 6],\n",
    "[7, 8, 9]\n",
    "\n",
    "]\n",
    "\n",
    "transposta = [ ]\n",
    "\n",
    "# Para cada coluna na matriz original, #crie uma nova linha\n",
    "\n",
    "for j in range(len(matriz)):#tam Lin\n",
    "    nova_linha = [ ]\n",
    "    for i in range(len(matriz)):#tam Col\n",
    "        nova_linha.append(matriz[i][j])\n",
    "    transposta.append(nova_linha)\n",
    "        \n",
    "print(transposta)\n",
    "print(\"Matriz Original:\")\n",
    "for linha in transposta:\n",
    "    print(linha)"
   ]
  },
  {
   "cell_type": "code",
   "execution_count": null,
   "id": "5c9c9f1e",
   "metadata": {},
   "outputs": [],
   "source": [
    "#para mostrar a coluna basta usar os índices, de tal forma que a coluna de A é a linha da matriz que contém cada coluna de A como linha, enquanto cada coluna é linha de A\n",
    "a = [\n",
    "    [1, 2, 3],\n",
    "    [4, 5, 6],\n",
    "    [7, 8, 9]\n",
    "]\n",
    "\n",
    "matriz_coluna_a = [\n",
    "    [0, 0, 0],\n",
    "    [0, 0, 0],\n",
    "    [0, 0, 0]\n",
    "]\n",
    "\n",
    "for i in range(3):\n",
    "    for j in range(3):\n",
    "        matriz_coluna_a[j][i] = a[i][j]\n",
    "\n",
    "for x in matriz_coluna_a:\n",
    "    print(x)"
   ]
  },
  {
   "cell_type": "markdown",
   "id": "d6d82e4a",
   "metadata": {},
   "source": [
    "LISTA 05 - MATRIZES AINDA"
   ]
  },
  {
   "cell_type": "code",
   "execution_count": null,
   "id": "60395f3b",
   "metadata": {},
   "outputs": [],
   "source": [
    "#01 Crie uma matriz 3x3 e exiba seus elementos organizados em formato de tabela.  \n",
    "matriz = [[1,2,3], [4,5,6], [7,8,9]]\n",
    "\n",
    "for i in range(len(matriz)):\n",
    "    print(matriz[i])"
   ]
  },
  {
   "cell_type": "code",
   "execution_count": null,
   "id": "60ccf533",
   "metadata": {},
   "outputs": [],
   "source": [
    "#02 Acessar um elemento específico da matriz, para isso, solicite ao usuário os índices de linha e coluna e retorne o valor correspondente.\n",
    "matriz = [[1,2,3], [4,5,6], [7,8,9]]\n",
    "print('Acessando o elemento da matriz (os índices começam do 0)')\n",
    "linha = int(input(\"O índice da linha\"))\n",
    "coluna = int(input(\"O índice da coluna\"))\n",
    "\n",
    "print(matriz[linha][coluna])"
   ]
  },
  {
   "cell_type": "code",
   "execution_count": null,
   "id": "0e2daf7f",
   "metadata": {},
   "outputs": [],
   "source": [
    "#03 Escreva um algoritmo que mulCplique duas matrizes 3x3 e exiba o resultado. VER COMO QUE O A00, A10, A20 se comporta, pq era pra ser 6, 15, 24 \n",
    "matriz_A = [[1, 2, 3],\n",
    "            [4, 5, 6],\n",
    "            [7, 8, 9]]\n",
    "\n",
    "matriz_B = [[1, 2, 0],\n",
    "            [1, 2, 0],\n",
    "            [1, 2, 0]]\n",
    "\n",
    "matriz_resultado = [[0,0,0],  \n",
    "                    [0,0,0], \n",
    "                    [0,0,0]] #como A e B são 3x3, o resultado tem que ser 3x3\n",
    "\n",
    "for linha in range(len(matriz_resultado)):\n",
    "    for coluna in range(len(matriz_resultado[linha])):\n",
    "        for x in range(len(matriz_resultado)):\n",
    "            matriz_resultado[linha][coluna] += matriz_A[linha][x] * matriz_B[x][coluna]\n",
    "print(matriz_resultado)"
   ]
  },
  {
   "cell_type": "code",
   "execution_count": null,
   "id": "2d89bb1d",
   "metadata": {},
   "outputs": [],
   "source": [
    "#04 Escreva um algoritmo que calcule a soma de todos os elementos da matriz.\n",
    "\n",
    "#--------------------------\n",
    "#Criando a matriz\n",
    "#--------------------------\n",
    "matriz = []\n",
    "\n",
    "#--------------------------\n",
    "#O usuário preenche a matriz\n",
    "#--------------------------\n",
    "definindoTamanho = int(input(\"Digite o tamanho da matriz quadrada:\"))\n",
    "print(f'Tamanho da matriz: {definindoTamanho} x {definindoTamanho}')\n",
    "for i in range(definindoTamanho):\n",
    "    linha = []\n",
    "    for j in range(definindoTamanho):\n",
    "        n = (int(input(f'Defina do elemento a{i}x{j}')))\n",
    "        linha.append(n)\n",
    "    matriz.append(linha)\n",
    "#--------------------------------\n",
    "#Soma todos os elementos da matriz\n",
    "#--------------------------------\n",
    "\n",
    "soma = 0\n",
    "for i in range(len(matriz)):\n",
    "    for j in range(len(matriz)):\n",
    "        soma += matriz[i][j]\n",
    "print(\"Soma de todos os elementos da matriz:\", soma)"
   ]
  },
  {
   "cell_type": "code",
   "execution_count": null,
   "id": "d57c71f5",
   "metadata": {},
   "outputs": [],
   "source": [
    "#05 Escreva um algoritmo que imprima a diagonal principal e a secundária\n",
    "matriz = [[1, 4, 7],\n",
    "          [10, 13, 16],\n",
    "          [19, 22, 25]]\n",
    "\n",
    "diagonal_primaria = 0\n",
    "diagonal_secundaria = 0\n",
    "for i in range(len(matriz)):\n",
    "    for j in range(len(matriz[i])):\n",
    "        if i == j:\n",
    "            diagonal_primaria += matriz[i][j]\n",
    "        if i + j == len(matriz) + 1:\n",
    "            diagonal_secundaria += matriz[i][j]\n",
    "print(f\"\"\"\n",
    "Matriz 3x3 = {matriz[0][0], matriz[0][1], matriz[0][2]}\n",
    "             {matriz[1][0], matriz[1][1], matriz[1][2]}\n",
    "             {matriz[2][0], matriz[2][1], matriz[2][2]}\n",
    "\n",
    "A diagonal primária é:\n",
    "->a11 + a22 + a33 = {diagonal_primaria}\n",
    "A diagonal secundária é:\n",
    "->a12 + a22 + a21 = {diagonal_secundaria}\"\"\")"
   ]
  },
  {
   "cell_type": "code",
   "execution_count": null,
   "id": "139e69ae",
   "metadata": {},
   "outputs": [],
   "source": [
    "#06 Escreva um algoritmo que substitua todos os números pares da matriz por 0.\n",
    "matriz = [[1, 4, 7],\n",
    "          [10, 13, 16],\n",
    "          [19, 22, 25]]\n",
    "\n",
    "nova_matriz = []\n",
    "\n",
    "for i in range(len(matriz)):\n",
    "    linha = []\n",
    "\n",
    "    for j in range(len(matriz[i])):\n",
    "\n",
    "        if matriz[i][j] % 2 == 0:\n",
    "            matriz[i][j] = 0\n",
    "\n",
    "        linha.append(matriz[i][j])\n",
    "        \n",
    "    nova_matriz.append(linha)\n",
    "\n",
    "print(nova_matriz)"
   ]
  },
  {
   "cell_type": "markdown",
   "id": "6c6d7707",
   "metadata": {},
   "source": [
    "Tuplas ----- mesma coisa que lista, mas seus dados são imutáveis"
   ]
  },
  {
   "cell_type": "markdown",
   "id": "fb74f443",
   "metadata": {},
   "source": [
    "DESEMPACOTANDO (pode ser feito com listas também)\n",
    "tupla = ('banana', 'maça', 'abacaxi')\n",
    "fruta1, fruta2, fruta3 = tupla\n",
    "\n",
    "É mais seguro e rápido do que as listas\n",
    "e uma particularidade é de que tem que usar vírgula no final se for só 1 elemento"
   ]
  },
  {
   "cell_type": "markdown",
   "id": "a2884756",
   "metadata": {},
   "source": [
    "OBS: quando uso ''for i in tupla:\", só terei que usar o ''i'' e não ''tupla[i]\" senão dá fora do range. Caso queira usar com índice, coloco \"range(len(tupla))\""
   ]
  },
  {
   "cell_type": "code",
   "execution_count": null,
   "id": "502f228b",
   "metadata": {},
   "outputs": [],
   "source": [
    "tupla = (3, 2, 23, 312)\n",
    "maior = tupla[0]\n",
    "\n",
    "for i in range(len(tupla)):\n",
    "    if tupla[i] > maior:\n",
    "        maior = tupla[i]\n",
    "\n",
    "print(maior)"
   ]
  },
  {
   "cell_type": "code",
   "execution_count": null,
   "id": "0a84f62c",
   "metadata": {},
   "outputs": [],
   "source": [
    "tupla = (3, 2, 23, 312)\n",
    "maior = tupla[0]\n",
    "\n",
    "for i in tupla:\n",
    "    if i > maior:\n",
    "        maior = i\n",
    "\n",
    "print(maior)"
   ]
  },
  {
   "cell_type": "code",
   "execution_count": null,
   "id": "11d7cf12",
   "metadata": {},
   "outputs": [],
   "source": [
    "lista = [input('digite um nome')]\n",
    "print(lista)"
   ]
  },
  {
   "cell_type": "code",
   "execution_count": null,
   "id": "f4f0e287",
   "metadata": {},
   "outputs": [],
   "source": [
    "tupla = (input('digite um valor ou nome'))\n",
    "print(tupla)"
   ]
  },
  {
   "cell_type": "code",
   "execution_count": null,
   "id": "8490ce32",
   "metadata": {},
   "outputs": [],
   "source": [
    "a = [[input('a11')],\n",
    "     [input('a21')],\n",
    "     [input('a31')]]\n",
    "print(a)"
   ]
  },
  {
   "cell_type": "code",
   "execution_count": null,
   "id": "0b7a1215",
   "metadata": {},
   "outputs": [],
   "source": [
    "tupla1 = (1, 2, 3)\n",
    "tupla2 = (4, 5, 6)\n",
    "\n",
    "tupla3 = tupla1 + tupla2\n",
    "\n",
    "print(tupla3)"
   ]
  },
  {
   "cell_type": "markdown",
   "id": "7587bc1a",
   "metadata": {},
   "source": [
    "OBS2: para usar as funções da lista, vc tem que transformar a tupla em lista, usando 'list(tupla)' e dps para retornar, vc usa 'tuple(tupla)'"
   ]
  },
  {
   "cell_type": "code",
   "execution_count": null,
   "id": "f2544b52",
   "metadata": {},
   "outputs": [],
   "source": [
    "tupla = (10,) #tem que colocar vírgula se for só 1 elemento\n",
    "\n",
    "tupla += 20, 30, 40 #tem que colocar virgula se for só 1 elemento\n",
    "print(tupla)\n"
   ]
  },
  {
   "cell_type": "markdown",
   "id": "0499b58e",
   "metadata": {},
   "source": [
    "FUNÇÕES"
   ]
  },
  {
   "cell_type": "code",
   "execution_count": null,
   "id": "41e31da8",
   "metadata": {},
   "outputs": [],
   "source": [
    "def Function():\n",
    "    print('teste')\n",
    "\n",
    "def Imprimir(texto_ou_numero):\n",
    "    print(texto_ou_numero)\n",
    "\n",
    "Function()\n",
    "Imprimir(1+1)\n"
   ]
  },
  {
   "cell_type": "markdown",
   "id": "0e9cdbfe",
   "metadata": {},
   "source": [
    "Biblioteca NumPy\n",
    "(numpy.org)"
   ]
  },
  {
   "cell_type": "code",
   "execution_count": null,
   "id": "be9a83c6",
   "metadata": {},
   "outputs": [],
   "source": [
    "#ignora, é só fazendo uns testes\n",
    "lista = []\n",
    "def GeradorDaSorte():\n",
    "    numeroAleatorio = randint(1, 9)\n",
    "    print(numeroAleatorio)\n",
    "\n",
    "def Imprimir(texto_ou_numero):\n",
    "    print(texto_ou_numero)\n",
    "\n",
    "soma = 0\n",
    "elementos = 0\n",
    "for i in range(2):\n",
    "    GeradorDaSorte()\n",
    "    soma += i\n",
    "    elementos += 1\n",
    "\n",
    "media = soma / 2\n",
    "\n",
    "Imprimir(f'A média dos números \"aleatórios\" é: {media}')\n"
   ]
  },
  {
   "cell_type": "code",
   "execution_count": null,
   "id": "8b5eab11",
   "metadata": {},
   "outputs": [],
   "source": [
    "#ignora, só teste\n",
    "lista = list(range(10))\n",
    "print(lista)"
   ]
  },
  {
   "cell_type": "code",
   "execution_count": null,
   "id": "4b69bf24",
   "metadata": {},
   "outputs": [],
   "source": [
    "array_np = np.arange(10000000)\n",
    "lista = list(range(10000000))\n",
    "\n",
    "#calcula o quão rápido está sendo a biblioteca numpy em relação ao convencional\n",
    "%time for _ in range(20): array_np_2 = array_np * 2\n",
    "\n",
    "%time for _ in range(20): lista_2 = [x * 2 for x in lista]\n",
    "\n",
    "#CPU times: total: 500 ms\n",
    "#Wall time: 489 ms (com a biblioteca)\n",
    "#CPU times: total: 9.78 s\n",
    "#Wall time: 9.93 s (sem)\n"
   ]
  },
  {
   "cell_type": "code",
   "execution_count": null,
   "id": "0f53f0e1",
   "metadata": {},
   "outputs": [],
   "source": [
    "data = np.random.randn(2, 3)\n",
    "data #array([[-1.11932568,  1.01602836,  0.21742801],\n",
    "    #       [-1.93908153,  0.57831443,  1.21065253]])\n",
    "\n",
    "data.shape #(2, 3)\n",
    "\n",
    "data.dtype #dtype('float64')"
   ]
  },
  {
   "cell_type": "code",
   "execution_count": null,
   "id": "7717a6d1",
   "metadata": {},
   "outputs": [],
   "source": [
    "lista_1 = [1, 3.3, 4.23, 5]\n",
    "\n",
    "arr = np.array(lista_1)\n",
    "arr #array([1.  , 3.3 , 4.23, 5.  ])\n",
    "\n",
    "np.zeros(10) #array([0., 0., 0., 0., 0., 0., 0., 0., 0., 0.])\n",
    "\n",
    "np.empty((2, 3, 4))#ele pega qualquer valor da memória e joga, para evitar isso tem que atribuir valor\n",
    "\n",
    "arr3 = np.empty((1, 2, 3), dtype = np.int32) \n",
    "arr3 #array([[[16843009, 16843009, 16843009],\n",
    "     #[16843009, 16843009, 16843009]]], dtype=int32)\n",
    "\n",
    "arr5 = np.array([1.4, 2.3, 5, 6.8, -1.54]) \n",
    "arr5.astype(np.int32) #array([ 1,  2,  5,  6, -1], dtype=int32)\n",
    "\n",
    "arr5 * arr5 #array([ 1.96  ,  5.29  , 25.    , 46.24  ,  2.3716])\n",
    "arr5 - arr5 #array([0., 0., 0., 0., 0.])\n",
    "arr5 + arr5 #array([ 2.8 ,  4.6 , 10.  , 13.6 , -3.08])\n",
    "\n",
    "arr6 = np.array([0.1, 15, 16, -100, 18])\n",
    "arr5 > arr6 #array([ True, False, False,  True, False]) \n",
    "\n",
    "array = np.arange(10)\n",
    "recorte_array = array[5:8]\n",
    "\n",
    "recorte_array[2] = 20\n",
    "array #array([ 0,  1,  2,  3,  4, 20, 20, 20,  8]) & só funciona com a biblioteca\n",
    "\n",
    "recorte_array[:] = 100 #array([  0,   1,   2,   3,   4, 100, 100, 100,   8,   9])\n",
    "array\n",
    "\n",
    "np.sqrt(array) #calcula a raíz quadrada\n",
    "np.exp(array) #calcula a exponencial\n",
    "np.square(array) #calcula a potência ao quadrado\n",
    "np.power(array, 3) #consigo assim elevar a qualquer número que eu quiser, colocando dentro dos parâmetros da função\n",
    "\n",
    "np.maximum(arr5, arr6) #vai comparar os maiores entre as duas matrizes"
   ]
  },
  {
   "cell_type": "code",
   "execution_count": null,
   "id": "ca0903e6",
   "metadata": {},
   "outputs": [],
   "source": [
    "array = np.arange(10)\n",
    "recorte_array = array[5:8] #array([5, 6, 7])\n",
    "recorte_array[2] = 20 #array([ 5,  6, 20])\n",
    "array #note que mesmo salvando em apenas uma variável (recorte_array), ainda sim mudou na array original"
   ]
  },
  {
   "cell_type": "markdown",
   "id": "887fdbf7",
   "metadata": {},
   "source": [
    "Dicionários"
   ]
  },
  {
   "cell_type": "markdown",
   "id": "75efcb47",
   "metadata": {},
   "source": [
    "Lembrar de criar novo repositório com as aulas de python e java"
   ]
  },
  {
   "cell_type": "code",
   "execution_count": null,
   "id": "84398885",
   "metadata": {},
   "outputs": [
    {
     "name": "stdout",
     "output_type": "stream",
     "text": [
      "<class 'dict'>\n"
     ]
    }
   ],
   "source": [
    "dicio = {'chave' : 'valor'} #no python, posso colocar qualquer tipo de dado, seja na chave e/ou no valor\n",
    "\n",
    "print(type(dicio))"
   ]
  },
  {
   "cell_type": "code",
   "execution_count": 17,
   "id": "2e0a4400",
   "metadata": {},
   "outputs": [],
   "source": [
    "dicio_1 = {'primeiro': 1, 'segundo': 2, 'terceiro': 3}\n",
    "dicio_2 = dict(primeiro= 1, segundo=2, terceiro= 3)\n",
    "dicio_3 = dict(zip(['primeiro', 'segundo', 'terceiro'], [1, 2, 3]))\n",
    "dicio_4 = dict([('primeiro', 1), ('segundo', 2), ('terceiro', 3)])"
   ]
  },
  {
   "cell_type": "code",
   "execution_count": 18,
   "id": "9529d0d5",
   "metadata": {},
   "outputs": [
    {
     "name": "stdout",
     "output_type": "stream",
     "text": [
      "Engenharia\n"
     ]
    }
   ],
   "source": [
    "aluno = {\n",
    "    'nome': 'Maria',\n",
    "    'idade': 20,\n",
    "    'curso': 'Engenharia'\n",
    "}\n",
    "\n",
    "print(aluno['curso'])"
   ]
  },
  {
   "cell_type": "code",
   "execution_count": 19,
   "id": "28c1858a",
   "metadata": {},
   "outputs": [
    {
     "ename": "KeyError",
     "evalue": "'c'",
     "output_type": "error",
     "traceback": [
      "\u001b[31m---------------------------------------------------------------------------\u001b[39m",
      "\u001b[31mKeyError\u001b[39m                                  Traceback (most recent call last)",
      "\u001b[36mCell\u001b[39m\u001b[36m \u001b[39m\u001b[32mIn[19]\u001b[39m\u001b[32m, line 7\u001b[39m\n\u001b[32m      1\u001b[39m aluno = {\n\u001b[32m      2\u001b[39m     \u001b[33m'\u001b[39m\u001b[33mnome\u001b[39m\u001b[33m'\u001b[39m: \u001b[33m'\u001b[39m\u001b[33mMaria\u001b[39m\u001b[33m'\u001b[39m,\n\u001b[32m      3\u001b[39m     \u001b[33m'\u001b[39m\u001b[33midade\u001b[39m\u001b[33m'\u001b[39m: \u001b[32m20\u001b[39m,\n\u001b[32m      4\u001b[39m     \u001b[33m'\u001b[39m\u001b[33mcurso\u001b[39m\u001b[33m'\u001b[39m: \u001b[33m'\u001b[39m\u001b[33mEngenharia\u001b[39m\u001b[33m'\u001b[39m\n\u001b[32m      5\u001b[39m }\n\u001b[32m----> \u001b[39m\u001b[32m7\u001b[39m \u001b[38;5;28mprint\u001b[39m(\u001b[43maluno\u001b[49m\u001b[43m[\u001b[49m\u001b[33;43m'\u001b[39;49m\u001b[33;43mc\u001b[39;49m\u001b[33;43m'\u001b[39;49m\u001b[43m]\u001b[49m) \n",
      "\u001b[31mKeyError\u001b[39m: 'c'"
     ]
    }
   ],
   "source": [
    "aluno = {\n",
    "    'nome': 'Maria',\n",
    "    'idade': 20,\n",
    "    'curso': 'Engenharia'\n",
    "}\n",
    "\n",
    "print(aluno['c']) "
   ]
  },
  {
   "cell_type": "code",
   "execution_count": 22,
   "id": "797a1c5a",
   "metadata": {},
   "outputs": [
    {
     "name": "stdout",
     "output_type": "stream",
     "text": [
      "[[1, 2], [3, 4]]\n",
      "[[1, 2, 3], [4, 5, 6], [7, 8, 9]]\n"
     ]
    }
   ],
   "source": [
    "matrizes = {\n",
    "    'm_2x2': [[1, 2], [3, 4]],\n",
    "    'm_3x3': [[1, 2, 3], [4, 5, 6], [7, 8, 9]] \n",
    "}\n",
    "\n",
    "print(matrizes['m_2x2'])\n",
    "print(matrizes['m_3x3'])"
   ]
  },
  {
   "cell_type": "code",
   "execution_count": 26,
   "id": "44f9e59a",
   "metadata": {},
   "outputs": [
    {
     "name": "stdout",
     "output_type": "stream",
     "text": [
      "Não matriculado\n"
     ]
    }
   ],
   "source": [
    "aluno = {\n",
    "    'nome': 'Maria',\n",
    "    'idade': 20,\n",
    "    'curso': 'Engenharia'\n",
    "}\n",
    "\n",
    "print(aluno.get('x', 'Não matriculado'))\n",
    "#aqui eu vou acessar a chave 'curso', caso não existir essa chave, o get() me garante que não apareça erro, imprimindo 'Não matriculado'"
   ]
  },
  {
   "cell_type": "code",
   "execution_count": 24,
   "id": "8bc46cc7",
   "metadata": {},
   "outputs": [
    {
     "name": "stdout",
     "output_type": "stream",
     "text": [
      "{'nome': 'João', 'idade': 20, 'curso': 'Engenharia', 'matricula': '12345'}\n"
     ]
    }
   ],
   "source": [
    "aluno['nome'] = 'João' #altera o valor de uma chave existente\n",
    "aluno['matricula'] = '12345' #adiciona uma nova chave e um novo valor ao dicionario 'aluno'\n",
    "\n",
    "print(aluno)"
   ]
  },
  {
   "cell_type": "code",
   "execution_count": 27,
   "id": "8fe09925",
   "metadata": {},
   "outputs": [
    {
     "name": "stdout",
     "output_type": "stream",
     "text": [
      "{'nome': 'João', 'idade': 20, 'curso': 'Engenharia'}\n"
     ]
    }
   ],
   "source": [
    "aluno['nome'] = 'João' #altera o valor de uma chave existente\n",
    "aluno['matricula'] = '12345' #adiciona uma nova chave e um novo valor ao dicionario 'aluno'\n",
    "\n",
    "del aluno['matricula']\n",
    "\n",
    "print(aluno)"
   ]
  },
  {
   "cell_type": "code",
   "execution_count": 28,
   "id": "cbf18184",
   "metadata": {},
   "outputs": [
    {
     "name": "stdout",
     "output_type": "stream",
     "text": [
      "{'nome': 'João', 'idade': 20, 'matricula': '12345'}\n"
     ]
    }
   ],
   "source": [
    "aluno['nome'] = 'João' #altera o valor de uma chave existente\n",
    "aluno['matricula'] = '12345' #adiciona uma nova chave e um novo valor ao dicionario 'aluno'\n",
    "\n",
    "curso = aluno.pop('curso', 'Não encontrado')\n",
    "\n",
    "print(aluno)"
   ]
  },
  {
   "cell_type": "code",
   "execution_count": 29,
   "id": "d6974407",
   "metadata": {},
   "outputs": [
    {
     "data": {
      "text/plain": [
       "'Não encontrado'"
      ]
     },
     "execution_count": 29,
     "metadata": {},
     "output_type": "execute_result"
    }
   ],
   "source": [
    "aluno['nome'] = 'João' #altera o valor de uma chave existente\n",
    "aluno['matricula'] = '12345' #adiciona uma nova chave e um novo valor ao dicionario 'aluno'\n",
    "\n",
    "aluno.pop('a', 'Não encontrado') #mesma ideia do get()\n"
   ]
  },
  {
   "cell_type": "code",
   "execution_count": 30,
   "id": "574204c6",
   "metadata": {},
   "outputs": [
    {
     "name": "stdout",
     "output_type": "stream",
     "text": [
      "chave:  nome \n",
      "valor:  João\n",
      "chave:  idade \n",
      "valor:  20\n",
      "chave:  matricula \n",
      "valor:  12345\n",
      "chave:  turno \n",
      "valor:  indefinida\n"
     ]
    },
    {
     "data": {
      "text/plain": [
       "'indefinida'"
      ]
     },
     "execution_count": 30,
     "metadata": {},
     "output_type": "execute_result"
    }
   ],
   "source": [
    "aluno.setdefault('turno', 'indefinida') #define um valor padrão para toda vez que criar uma chave vazia, por padrão exibe 'indefinida'\n",
    "\n",
    "#chave e valor\n",
    "for c, v in aluno.items(): #items() vai iterar dentro do dicionario\n",
    "    print('chave: ', c, '\\nvalor: ', v)\n",
    "\n",
    "aluno.setdefault('turno', 'qualquer coisa')  #ele nao deixa trocar o valor do setdefault(), uma vez que ele já está definido"
   ]
  },
  {
   "cell_type": "code",
   "execution_count": 31,
   "id": "a047feb0",
   "metadata": {},
   "outputs": [
    {
     "name": "stdout",
     "output_type": "stream",
     "text": [
      "nome\n",
      "idade\n",
      "matricula\n",
      "turno\n",
      "módulo\n",
      "------------------------------------\n",
      "João\n",
      "20\n",
      "12345\n",
      "indefinida\n",
      "indefinido\n",
      "------------------------------------\n",
      "chave:  nome valor:  João\n",
      "chave:  idade valor:  20\n",
      "chave:  matricula valor:  12345\n",
      "chave:  turno valor:  indefinida\n",
      "chave:  módulo valor:  indefinido\n"
     ]
    }
   ],
   "source": [
    "aluno.setdefault('módulo', 'indefinido') #novamente cria uma chave vazia, mas que por padrão vem com valor 'indefinido'\n",
    "\n",
    "#chave \n",
    "for chave in aluno:\n",
    "    print(chave) #imprime só as chaves\n",
    "\n",
    "print('------------------------------------')\n",
    "\n",
    "#valor \n",
    "for valor in aluno.values():\n",
    "    print(valor) #imprime todos os valores\n",
    "\n",
    "print('------------------------------------')\n",
    "\n",
    "#chave-valor\n",
    "for chave, valor in aluno.items():\n",
    "    print('chave: ', chave, 'valor: ', valor) #imprime todas as chaves e todos os valores"
   ]
  },
  {
   "cell_type": "code",
   "execution_count": 60,
   "id": "c40122e6",
   "metadata": {},
   "outputs": [
    {
     "name": "stdout",
     "output_type": "stream",
     "text": [
      "dict_keys(['nome', 'idade', 'curso', 'cidade'])\n",
      "dict_values(['Maria', 28, 'Engenharia', 'São Paulo'])\n",
      "dict_items([('nome', 'Maria'), ('idade', 28), ('curso', 'Engenharia'), ('cidade', 'São Paulo')])\n"
     ]
    }
   ],
   "source": [
    "#MÉTODOS IMPORTANTES (APENAS PARA EXIBIÇÃO)\n",
    "aluno2 = {\n",
    "    'nome': 'Maria',\n",
    "    'idade': 20,\n",
    "    'curso': 'Engenharia'\n",
    "}\n",
    "\n",
    "aluno2.update({'idade': 28, 'cidade': 'São Paulo'}) #adiciona varias chaves e valores ao mesmo tempo (NÃO ESQUECER DAS CHAVES ---> {} <---)\n",
    "print(aluno2.keys()) #exibe todas as chaves\n",
    "print(aluno2.values()) #exibe todos os valores\n",
    "print(aluno2.items()) #exibe todas chaves e seus respectivos valores\n",
    "#aluno2.clear() limpa todo o dicionário"
   ]
  },
  {
   "cell_type": "code",
   "execution_count": null,
   "id": "cf8803f3",
   "metadata": {},
   "outputs": [
    {
     "name": "stdout",
     "output_type": "stream",
     "text": [
      "{'autor': 'Machado de Assis', 'titulo': 'Dom Casmurro', 'ano': 1899, 'personagens': ['Bentinho', 'Capitu', 'Escobar']}\n",
      "A tabela de preços do macarrao é R$ 4.30\n",
      "{'abobrinha': 1, 'abacate': 1, 'limão': 1, 'pera': 1, 'uva': 1, 'banana': 2, 'manga': 1}\n"
     ]
    }
   ],
   "source": [
    "#Representar um registro\n",
    "\n",
    "livro_1 = {\n",
    "    'autor': 'Machado de Assis',\n",
    "    'titulo': 'Dom Casmurro',\n",
    "    'ano': 1899,\n",
    "    'personagens': ['Bentinho', 'Capitu', 'Escobar']\n",
    "}\n",
    "\n",
    "print(livro_1)\n",
    "\n",
    "#Tabela de preços\n",
    "\n",
    "tabela_precos = {\n",
    "    'arroz': 5.5,\n",
    "    'feijao': 8.2,\n",
    "    'macarrao': 4.3,\n",
    "    'leite': 6\n",
    "}\n",
    "\n",
    "produto = 'macarrao'\n",
    "print(f\"A tabela de preços do {produto} é R$ {tabela_precos[produto]:.2f}\")\n",
    "\n",
    "#contar ocorrências de palavras\n",
    "texto = 'abobrinha, abacate, limão, pera, uva, banana, manga, banana'\n",
    "palavras = texto.split(', ')\n",
    "#ele fatia a string a partir da vírgula, se deixar o parâmetro vazio, ele por padrão corta a partir do espaço | e se colocar um 2 no segundo parâmetro, \n",
    "#ele pega os dois primeiros e o resto junta\n",
    "\n",
    "contador = {}\n",
    "for palavra in palavras:\n",
    "    if palavra in contador: #checa se a palavra está na lista 'contador'\n",
    "        contador[palavra] += 1\n",
    "    else:\n",
    "        contador[palavra] = 1\n",
    "print(contador)"
   ]
  },
  {
   "cell_type": "code",
   "execution_count": 42,
   "id": "7322fa6b",
   "metadata": {},
   "outputs": [
    {
     "name": "stdout",
     "output_type": "stream",
     "text": [
      "['abobrinha', 'abacate', 'limão', 'pera', 'uva, banana, manga, banana']\n"
     ]
    }
   ],
   "source": [
    "texto = 'abobrinha, abacate, limão, pera, uva, banana, manga, banana'\n",
    "palavras = texto.split(', ', 4)\n",
    "print(palavras)"
   ]
  },
  {
   "cell_type": "markdown",
   "id": "214c4328",
   "metadata": {},
   "source": [
    "LISTA DE EXERCÍCIOS - DICIONÁRIOS"
   ]
  },
  {
   "cell_type": "code",
   "execution_count": 46,
   "id": "b48c2d41",
   "metadata": {},
   "outputs": [
    {
     "name": "stdout",
     "output_type": "stream",
     "text": [
      "{'nome': 'João', 'idade': 30, 'cidade': 'São Paulo'}\n"
     ]
    }
   ],
   "source": [
    "#1. Dado o dicionário abaixo, atualize o valor de \"idade\" para 30. Em seguida, imprima o dicionário atualizado.\n",
    "#pessoa = {\"nome\": \"João\", \"idade\": 25, \"cidade\": \"São Paulo\"}\n",
    "\n",
    "pessoa = {\"nome\": \"João\", \"idade\": 25, \"cidade\": \"São Paulo\"}\n",
    "\n",
    "pessoa[\"idade\"] = 30\n",
    "print(pessoa)"
   ]
  },
  {
   "cell_type": "code",
   "execution_count": 48,
   "id": "1a969838",
   "metadata": {},
   "outputs": [
    {
     "name": "stdout",
     "output_type": "stream",
     "text": [
      "{'nome': 'João', 'idade': 30}\n"
     ]
    }
   ],
   "source": [
    "#2. Remova a chave \"cidade\" do dicionário pessoa anterior. Em seguida, imprima o dicionário resultante.\n",
    "pessoa = {\"nome\": \"João\", \"idade\": 25, \"cidade\": \"São Paulo\"}\n",
    "pessoa[\"idade\"] = 30\n",
    "pessoa.pop(\"cidade\", \"Não encontrado\")\n",
    "print(pessoa)\n"
   ]
  },
  {
   "cell_type": "code",
   "execution_count": 52,
   "id": "578f878c",
   "metadata": {},
   "outputs": [
    {
     "data": {
      "text/plain": [
       "{'telefone_1': '(99) 99999-9999', 'telefone_2': '1234', 'telefone_3': 'oi'}"
      ]
     },
     "execution_count": 52,
     "metadata": {},
     "output_type": "execute_result"
    }
   ],
   "source": [
    "#3. Crie um dicionário vazio chamado agenda. Adicione três pares nome:telefone lidos do usuário. Em seguida, mostre toda a agenda.\n",
    "agenda = {}\n",
    "\n",
    "agenda['telefone_1'] = input('Digite o número de telefone')\n",
    "agenda['telefone_2'] = input('Digite o número de telefone')\n",
    "agenda['telefone_3'] = input('Digite o número de telefone')\n",
    "\n",
    "agenda"
   ]
  },
  {
   "cell_type": "code",
   "execution_count": null,
   "id": "d8ed5f2c",
   "metadata": {},
   "outputs": [
    {
     "name": "stdout",
     "output_type": "stream",
     "text": [
      "\n",
      "***Apenas chaves***\n",
      "marca\n",
      "modelo\n",
      "ano\n",
      "dict_keys(['marca', 'modelo', 'ano'])\n",
      "\n",
      "***Apenas valores***\n",
      "Ford\n",
      "Ka\n",
      "2018\n",
      "dict_values(['Ford', 'Ka', 2018])\n",
      "\n",
      "***Chaves e valores***\n",
      "('marca', 'Ford')\n",
      "('modelo', 'Ka')\n",
      "('ano', 2018)\n",
      "dict_items([('marca', 'Ford'), ('modelo', 'Ka'), ('ano', 2018)])\n"
     ]
    }
   ],
   "source": [
    "#4. Dado o dicionário a seguir, mostre separadamente:\n",
    "#carro = {\"marca\": \"Ford\", \"modelo\": \"Ka\", \"ano\": 2018}\n",
    "#a. Todas as chaves\n",
    "#b. Todos os valores\n",
    "#c. Todos os pares (chave, valor)\n",
    "\n",
    "carro = {\"marca\": \"Ford\", \"modelo\": \"Ka\", \"ano\": 2018}\n",
    "\n",
    "print(f'\\n***Apenas chaves***')\n",
    "for chave in carro: \n",
    "    print(chave) #ou\n",
    "print(carro.keys())\n",
    "\n",
    "print(f'\\n***Apenas valores***')\n",
    "for valor in carro.values():\n",
    "    print(valor)\n",
    "print(carro.values())\n",
    "\n",
    "print(f'\\n***Chaves e valores***')\n",
    "for chave_valor in carro.items(): #poderia ter colocado 'chave, valor' \n",
    "    print(chave_valor)\n",
    "print(carro.items())"
   ]
  },
  {
   "cell_type": "code",
   "execution_count": null,
   "id": "bf5d1a31",
   "metadata": {},
   "outputs": [
    {
     "name": "stdout",
     "output_type": "stream",
     "text": [
      "{'l': 1, 'i': 1, 'm': 1, 'a': 1, 'o': 4, ' ': 1, 'g': 1, 's': 2, 't': 1}\n"
     ]
    }
   ],
   "source": [
    "#5. Peça ao usuário uma palavra e conte quantas vezes cada letra aparece, armazenando as contagens em um dicionário. Imprima o dicionário resultante.\n",
    "palavra = input('Digite uma palavra').lower() #transforma tudo para minúsculo \n",
    "contagem = {}\n",
    "#isalpha() permite só entrada de letras, já que nesse código funciona com números também, dando saída como True ou False\n",
    "\n",
    "for i in range(len(palavra)): #banana -> 'b', 'a', 'n', 'a', 'n', 'a' -> contagem = {'b':1, 'a':2, 'n':2} \n",
    "    if palavra[i] in contagem:\n",
    "        contagem[palavra[i]] += 1\n",
    "    else:\n",
    "        contagem[palavra[i]] = 0\n",
    "        contagem[palavra[i]] += 1 #não é possível colocar direto pra incrementar, tem que definir um valor qualquer primeiro para aí sim incrementar\n",
    "print(contagem)"
   ]
  },
  {
   "cell_type": "code",
   "execution_count": 3,
   "id": "c44a2d21",
   "metadata": {},
   "outputs": [
    {
     "name": "stdout",
     "output_type": "stream",
     "text": [
      "Digite o preço de cada produto a ser armazenado na tabela de preços:\n",
      "\n",
      "      ____________________________________________\n",
      "      |A tabela de preços dos produtos é:       \n",
      "      |------------------------------------------ \n",
      "      |PRODUTO 1 |12.43\n",
      "      |PRODUTO 2 |5.50\n",
      "      |PRODUTO 3 |8.00\n",
      "\n"
     ]
    }
   ],
   "source": [
    "#6. Utilizando um dicionário, armazene os preços de três produtos fornecidos pelo usuário. Depois, mostre todos os produtos e seus preços formatados\n",
    "#com duas casas decimais.\n",
    "\n",
    "print('Digite o preço de cada produto a ser armazenado na tabela de preços:' )\n",
    "tabela_precos = {}\n",
    "tabela_precos['produto1'] = float(input('Preço do 1° produto')) \n",
    "tabela_precos['produto2'] = float(input('Preço do 2° produto'))\n",
    "tabela_precos['produto3'] = float(input('Preço do 3° produto'))\n",
    "print(f\"\"\"\n",
    "      ____________________________________________\n",
    "      |A tabela de preços dos produtos é:       \n",
    "      |------------------------------------------ \n",
    "      |PRODUTO 1 |{tabela_precos['produto1']:.2f}\n",
    "      |PRODUTO 2 |{tabela_precos['produto2']:.2f}\n",
    "      |PRODUTO 3 |{tabela_precos['produto3']:.2f}\n",
    "\"\"\") "
   ]
  },
  {
   "cell_type": "code",
   "execution_count": null,
   "id": "a4eb253e",
   "metadata": {},
   "outputs": [
    {
     "name": "stdout",
     "output_type": "stream",
     "text": [
      "A média do aluno Albert Einstein foi de 2.0\n",
      "A média do aluno Marie Curie foi de 3.0\n",
      "A média do aluno Stephen Hawking foi de 10.0\n"
     ]
    }
   ],
   "source": [
    "#7. Crie um dicionário com três nomes de alunos como chave e listas de três notas cada como valor. Em seguida, calcule e imprima a média de cada aluno.\n",
    "medias_alunos = {\n",
    "    'Albert Einstein' : [1, 2, 3],\n",
    "    'Marie Curie' : [2, 6, 1],\n",
    "    'Stephen Hawking' : [10, 10, 10],\n",
    "}\n",
    "media = 0\n",
    "for chave in medias_alunos:\n",
    "    for valor in medias_alunos[chave]:\n",
    "        media += valor  \n",
    "    print(f'A média do aluno {chave} foi de {media/3} pontos')\n",
    "    media = 0"
   ]
  },
  {
   "cell_type": "code",
   "execution_count": 1,
   "id": "cb099c1e",
   "metadata": {},
   "outputs": [
    {
     "name": "stdout",
     "output_type": "stream",
     "text": [
      "{'tipo': 'camiseta', 'preco': 29.9, 'cor': 'azul', 'tamanho': 'M'}\n"
     ]
    }
   ],
   "source": [
    "#8. Usando update(), adicione os pares \"cor\":\"azul\" e \"tamanho\":\"M\" ao dicionário abaixo. Em seguida, imprima o resultado.\n",
    "#roupa = {\"tipo\": \"camiseta\", \"preco\": 29.90}\n",
    "roupa = {\"tipo\": \"camiseta\", \"preco\": 29.90}\n",
    "roupa.update({'cor': 'azul', 'tamanho': 'M'})\n",
    "print(roupa)"
   ]
  },
  {
   "cell_type": "code",
   "execution_count": null,
   "id": "2aefb711",
   "metadata": {},
   "outputs": [
    {
     "name": "stdout",
     "output_type": "stream",
     "text": [
      "{'alguma coisa': 10, 'sei lá o que': 'abcd', 12345: 54321, 'refri': 'coca-cola', 'acho que tá bom': ['a', 'g', 'u', 'a']}\n",
      "{}\n"
     ]
    }
   ],
   "source": [
    "#9. Crie um dicionário qualquer com pelo menos 3 pares. Em seguida, esvazie o dicionário usando clear() e imprima o resultado.\n",
    "dicionario_qualquer = {\n",
    "    'alguma coisa' : 10,\n",
    "    'sei lá o que' : 'abcd',\n",
    "    12345 : 54321,\n",
    "    'refri' : 'coca-cola',\n",
    "    'acho que tá bom' : ['a','g','u','a']\n",
    "}\n",
    "print(dicionario_qualquer)\n",
    "dicionario_qualquer.clear()\n",
    "print(dicionario_qualquer)\n"
   ]
  },
  {
   "cell_type": "code",
   "execution_count": 3,
   "id": "c9f54e19",
   "metadata": {},
   "outputs": [
    {
     "name": "stdout",
     "output_type": "stream",
     "text": [
      "{'nome': 'Carla', 'cidade': 'Recife'}\n",
      "28\n"
     ]
    }
   ],
   "source": [
    "#10. Use pop() para remover a chave \"idade\" do dicionário abaixo, armazenando o valor removido em uma variável. Em seguida, imprima o valor removido e o dicionário atualizado.\n",
    "#pessoa = {\"nome\": \"Carla\", \"idade\": 28, \"cidade\": \"Recife\"}\n",
    "pessoa = {\"nome\": \"Carla\", \"idade\": 28, \"cidade\": \"Recife\"}\n",
    "recortar = pessoa.pop(\"idade\")\n",
    "\n",
    "print(pessoa)\n",
    "print(recortar)"
   ]
  },
  {
   "cell_type": "code",
   "execution_count": 21,
   "id": "9c0b936e",
   "metadata": {},
   "outputs": [
    {
     "name": "stdout",
     "output_type": "stream",
     "text": [
      "'frutas' foi repetido 2 vezes\n",
      "'verduras' foi repetido 1 vez\n",
      "'vegetais' foi repetido 2 vezes\n",
      "'legumes' foi repetido 1 vez\n",
      "'água' foi repetido 1 vez\n"
     ]
    }
   ],
   "source": [
    "#11. Crie um programa que leia várias palavras digitadas pelo usuário até ele digitar \"fim\". Para cada palavra digitada, conte quantas vezes ela foi\n",
    "#repetida usando um dicionário. Por fim, imprima o resultado.\n",
    "contagem = {}\n",
    "palavras = []\n",
    "palavra = 0\n",
    "\n",
    "while True and palavra != \"fim\": \n",
    "    palavra = input('Escreva uma palavra ou digite \"fim\" para finalizar o programa.').lower()\n",
    "    if palavra != \"fim\":\n",
    "        palavras.append(palavra)\n",
    "\n",
    "for i in range(len(palavras)): \n",
    "    contagem[palavras[i]] = palavras.count(palavras[i])\n",
    "\n",
    "for chave, valor in contagem.items():\n",
    "    print(f\"'{chave}' foi repetido {valor} vez{'es' if valor > 1 else ''}\")\n"
   ]
  },
  {
   "cell_type": "code",
   "execution_count": 5,
   "id": "a276c606",
   "metadata": {},
   "outputs": [
    {
     "name": "stdout",
     "output_type": "stream",
     "text": [
      "aluno:alessandro\n",
      "curso:psicologia\n",
      "notas:[8, 7.5, 9, 10]\n"
     ]
    }
   ],
   "source": [
    "#12. Crie um dicionário representando um aluno com nome, curso e uma lista de notas. Em seguida, imprima todas as informações no formato: chave: valor.\n",
    "registro_aluno = {\n",
    "    'aluno' : 'alessandro',\n",
    "    'curso' : 'psicologia',\n",
    "    'notas' : [8, 7.5, 9, 10]\n",
    "}\n",
    "for chave, valor in registro_aluno.items():\n",
    "    print(f'{chave}:{valor}')\n",
    "\n",
    "        "
   ]
  },
  {
   "cell_type": "code",
   "execution_count": null,
   "id": "389b56f8",
   "metadata": {},
   "outputs": [
    {
     "name": "stdout",
     "output_type": "stream",
     "text": [
      "Exibindo notas e médias dos alunos cadastrados.\n",
      "\n",
      "Notas de alessandro: [10.0, 9.5, 8.5]\n",
      "Média de alessandro: 9.333333333333334\n",
      "Notas de pedro: [7.5, 8.0, 8.5]\n",
      "Média de pedro: 8.0\n",
      "Notas de fernanda: [10.0, 9.5, 9.0]\n",
      "Média de fernanda: 9.5\n",
      "Notas de paola: [9.0, 9.0, 9.5]\n",
      "Média de paola: 9.166666666666666\n"
     ]
    }
   ],
   "source": [
    "#13. Monte um sistema simples de cadastro de alunos, onde você armazena nome e notas em um dicionário. Depois, calcule e imprima a média das notas.\n",
    "cadastro_alunos = {}\n",
    "nomes = ''\n",
    "\n",
    "#Preenchimento do nome e suas respectivas notas\n",
    "while True:\n",
    "    nomes = input('Digite o nome do aluno (\"fim\" para sair)').lower() #preenche as 5 notas de cada aluno, começando pelo seu nome \n",
    "    if nomes == 'fim':\n",
    "        break\n",
    "    notas = [] #armazena temporariamente os dados\n",
    "    #cria chaves para as notas e as médias de cada aluno\n",
    "    cadastro_alunos[f'Notas de {nomes}'] = notas\n",
    "    cadastro_alunos[f'Média de {nomes}'] = 0\n",
    "\n",
    "    for i in range(3): #como são 3 notas para cada aluno nesse caso, então aqui vai preencher a lista de 'notas' de cada aluno até i = 4\n",
    "        notas.append(float(input(f'Digite o valor da {i+1}ª nota do aluno')))\n",
    "        cadastro_alunos[f'Média de {nomes}'] += notas[i] #cria a chave da média de cada aluno e vai somando as notas\n",
    "\n",
    "    cadastro_alunos[f'Notas de {nomes}'] = notas #atualiza a chave das notas dos alunos\n",
    "    cadastro_alunos[f'Média de {nomes}'] /= 3 #termina de calcular a média, atualizando a chave das médias dos alunos\n",
    "\n",
    "print(F'Exibindo notas e médias dos alunos cadastrados.\\n')\n",
    "\n",
    "#imprimir os nomes e suas notas, depois embaixo de cada um a média individual\n",
    "for chave, valor in cadastro_alunos.items():\n",
    "    print(f\"{chave}: {valor}\") \n",
    "    "
   ]
  },
  {
   "cell_type": "code",
   "execution_count": 70,
   "id": "a3370de9",
   "metadata": {},
   "outputs": [
    {
     "name": "stdout",
     "output_type": "stream",
     "text": [
      "eu => repetições: 1\n",
      "quero => repetições: 1\n",
      "um => repetições: 4\n",
      "dia => repetições: 2\n",
      "poder => repetições: 1\n",
      "me => repetições: 1\n",
      "tornar => repetições: 1\n",
      "bom => repetições: 2\n",
      "programador => repetições: 1\n",
      "e => repetições: 1\n",
      "trabalhar => repetições: 1\n",
      "ganhando => repetições: 1\n",
      "salário => repetições: 1\n"
     ]
    }
   ],
   "source": [
    "#14. Dado um texto digitado pelo usuário, conte quantas vezes cada palavra aparece usando um dicionário. Ignore maiúsculas/minúsculas.\n",
    "texto = input('Digite um texto sem pontuações').lower() #considerando que o usuário não vai digitar com pontuaçõese senão devo usar expressões regulares\n",
    "recortar = texto.split(' ')\n",
    "dicionario = {}\n",
    "\n",
    "for chave in recortar:\n",
    "    dicionario[chave] = recortar.count(chave)\n",
    "\n",
    "for chave, valor in dicionario.items():\n",
    "    print(f\"{chave} => repetições: {valor}\")\n",
    "        \n"
   ]
  },
  {
   "cell_type": "code",
   "execution_count": null,
   "id": "80c1b272",
   "metadata": {},
   "outputs": [
    {
     "name": "stdout",
     "output_type": "stream",
     "text": [
      "Lista de nomes de pessoas com idade maior ou igual a 18 anos: ['Janailda', 'Jeferson', 'Pedro']\n"
     ]
    }
   ],
   "source": [
    "#15. Solicite ao usuário o nome de 5 pessoas e suas idades, e armazene em um dicionário. Depois, mostre apenas as pessoas com idade maior ou igual a 18.\n",
    "registro = {}\n",
    "maior_igual_18 = []\n",
    "\n",
    "for i in range(5):\n",
    "    nome = input('Digite o nome de uma pessoa')\n",
    "    idade = int(input('Escreva agora a idade dessa pessoa'))\n",
    "    registro[nome] = idade\n",
    "\n",
    "    if idade >= 18:\n",
    "        maior_igual_18.append(nome)\n",
    "\n",
    "maior_igual_18.sort()\n",
    "\n",
    "print(f\"Lista de nomes de pessoas com idade maior ou igual a 18 anos: {maior_igual_18}\")\n"
   ]
  },
  {
   "cell_type": "code",
   "execution_count": 8,
   "id": "656e160d",
   "metadata": {},
   "outputs": [
    {
     "name": "stdout",
     "output_type": "stream",
     "text": [
      "\n",
      "1ª Compra:\n",
      "Produto: Shampoo\n",
      "Quantidade: 1.0\n",
      "Preço unitário: 24.99\n",
      "Total: 24.99\n",
      "\n",
      "\n",
      "2ª Compra:\n",
      "Produto: Pipoca doce\n",
      "Quantidade: 10.0\n",
      "Preço unitário: 0.7\n",
      "Total: 7.00\n",
      "\n",
      "\n",
      "3ª Compra:\n",
      "Produto: Desodorante\n",
      "Quantidade: 2.0\n",
      "Preço unitário: 21.5\n",
      "Total: 43.00\n",
      "\n",
      "Valor total da compra: 74.99\n"
     ]
    }
   ],
   "source": [
    "#EXTRA\n",
    "registro_compras = {}\n",
    "\n",
    "for i in range(3):\n",
    "    produto = input('Digite o produto comprado')\n",
    "    quantidade = float(input('Coloque a quantidade da compra'))\n",
    "    preco_unitario = float(input('Diga o preço unitário do produto'))\n",
    "    valor_total = quantidade * preco_unitario\n",
    "\n",
    "    registro_compras[f'{i}. Produto'] = produto\n",
    "    registro_compras[f'{i}. Quantidade'] = quantidade\n",
    "    registro_compras[f'{i}. Preco unitário'] = preco_unitario\n",
    "    registro_compras[f'{i}. Valor total da compra'] = valor_total\n",
    "    print(f\"\"\"\n",
    "{i+1}ª Compra:\n",
    "Produto: {registro_compras[f'{i}. Produto']}\n",
    "Quantidade: {registro_compras[f'{i}. Quantidade']}\n",
    "Preço unitário: {registro_compras[f'{i}. Preco unitário']}\n",
    "Total: {registro_compras[f'{i}. Valor total da compra']:.2f}\n",
    "\"\"\")\n",
    "\n",
    "valor_total_compra = registro_compras['0. Valor total da compra'] + registro_compras['1. Valor total da compra'] + registro_compras['2. Valor total da compra']\n",
    "print(f'Valor total da compra: {valor_total_compra:.2f}')\n",
    "\n"
   ]
  }
 ],
 "metadata": {
  "kernelspec": {
   "display_name": "Python 3",
   "language": "python",
   "name": "python3"
  },
  "language_info": {
   "codemirror_mode": {
    "name": "ipython",
    "version": 3
   },
   "file_extension": ".py",
   "mimetype": "text/x-python",
   "name": "python",
   "nbconvert_exporter": "python",
   "pygments_lexer": "ipython3",
   "version": "3.12.3"
  }
 },
 "nbformat": 4,
 "nbformat_minor": 5
}
